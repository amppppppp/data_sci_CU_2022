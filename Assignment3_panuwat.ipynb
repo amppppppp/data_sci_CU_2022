{
  "nbformat": 4,
  "nbformat_minor": 0,
  "metadata": {
    "colab": {
      "provenance": [],
      "include_colab_link": true
    },
    "kernelspec": {
      "name": "python3",
      "display_name": "Python 3"
    },
    "language_info": {
      "name": "python"
    }
  },
  "cells": [
    {
      "cell_type": "markdown",
      "metadata": {
        "id": "view-in-github",
        "colab_type": "text"
      },
      "source": [
        "<a href=\"https://colab.research.google.com/github/amppppppp/data_sci_CU_2022/blob/main/Assignment3_panuwat.ipynb\" target=\"_parent\"><img src=\"https://colab.research.google.com/assets/colab-badge.svg\" alt=\"Open In Colab\"/></a>"
      ]
    },
    {
      "cell_type": "code",
      "execution_count": 76,
      "metadata": {
        "id": "mmgspZLKh2Qj",
        "colab": {
          "base_uri": "https://localhost:8080/"
        },
        "outputId": "667c9aa4-3209-4ce4-ce31-2286387cd318"
      },
      "outputs": [
        {
          "output_type": "stream",
          "name": "stdout",
          "text": [
            "Looking in indexes: https://pypi.org/simple, https://us-python.pkg.dev/colab-wheels/public/simple/\n",
            "Requirement already satisfied: scikit-learn==1.0.2 in /usr/local/lib/python3.7/dist-packages (1.0.2)\n",
            "Requirement already satisfied: numpy>=1.14.6 in /usr/local/lib/python3.7/dist-packages (from scikit-learn==1.0.2) (1.21.5)\n",
            "Requirement already satisfied: joblib>=0.11 in /usr/local/lib/python3.7/dist-packages (from scikit-learn==1.0.2) (1.1.0)\n",
            "Requirement already satisfied: scipy>=1.1.0 in /usr/local/lib/python3.7/dist-packages (from scikit-learn==1.0.2) (1.7.3)\n",
            "Requirement already satisfied: threadpoolctl>=2.0.0 in /usr/local/lib/python3.7/dist-packages (from scikit-learn==1.0.2) (3.1.0)\n",
            "Looking in indexes: https://pypi.org/simple, https://us-python.pkg.dev/colab-wheels/public/simple/\n",
            "Requirement already satisfied: numpy==1.21.5 in /usr/local/lib/python3.7/dist-packages (1.21.5)\n"
          ]
        }
      ],
      "source": [
        "!pip install --upgrade scikit-learn==1.0.2\n",
        "!pip install --upgrade numpy==1.21.5\n",
        "import time\n",
        "import datetime\n",
        "import numpy as np\n",
        "import pandas as pd\n",
        "import matplotlib.pyplot as plt"
      ]
    },
    {
      "cell_type": "code",
      "source": [
        "!wget https://raw.githubusercontent.com/kaopanboonyuen/Python-Data-Science/master/Dataset/hed2020_dataset.csv"
      ],
      "metadata": {
        "colab": {
          "base_uri": "https://localhost:8080/"
        },
        "id": "aKU4I-0dTv3Q",
        "outputId": "7beec6af-023f-497e-bdd7-f2a48696a06e"
      },
      "execution_count": 77,
      "outputs": [
        {
          "output_type": "stream",
          "name": "stdout",
          "text": [
            "--2022-09-15 14:53:53--  https://raw.githubusercontent.com/kaopanboonyuen/Python-Data-Science/master/Dataset/hed2020_dataset.csv\n",
            "Resolving raw.githubusercontent.com (raw.githubusercontent.com)... 185.199.108.133, 185.199.109.133, 185.199.110.133, ...\n",
            "Connecting to raw.githubusercontent.com (raw.githubusercontent.com)|185.199.108.133|:443... connected.\n",
            "HTTP request sent, awaiting response... 200 OK\n",
            "Length: 352588 (344K) [text/plain]\n",
            "Saving to: ‘hed2020_dataset.csv.2’\n",
            "\n",
            "\rhed2020_dataset.csv   0%[                    ]       0  --.-KB/s               \rhed2020_dataset.csv 100%[===================>] 344.32K  --.-KB/s    in 0.01s   \n",
            "\n",
            "2022-09-15 14:53:53 (23.3 MB/s) - ‘hed2020_dataset.csv.2’ saved [352588/352588]\n",
            "\n"
          ]
        }
      ]
    },
    {
      "cell_type": "markdown",
      "source": [
        "# 1. Read data"
      ],
      "metadata": {
        "id": "qzJXJz42URGJ"
      }
    },
    {
      "cell_type": "code",
      "source": [
        "df=pd.read_csv(\"hed2020_dataset.csv\")"
      ],
      "metadata": {
        "id": "Xt_Rb-frT3vc"
      },
      "execution_count": 78,
      "outputs": []
    },
    {
      "cell_type": "code",
      "source": [
        "df.head()"
      ],
      "metadata": {
        "colab": {
          "base_uri": "https://localhost:8080/",
          "height": 297
        },
        "id": "_kodyK5SULTa",
        "outputId": "c759e868-0210-4049-864e-68a3b0eb2acd"
      },
      "execution_count": 79,
      "outputs": [
        {
          "output_type": "execute_result",
          "data": {
            "text/plain": [
              "   id label cap-shape cap-surface bruises odor gill-attachment gill-spacing  \\\n",
              "0   1     p         x           s       t    p               f            c   \n",
              "1   2     e         x           s       t    a               f            c   \n",
              "2   3     e         b           s       t    l               f            c   \n",
              "3   4     p         x           y       t    p               f            c   \n",
              "4   5     e         x           s       f    n               f            w   \n",
              "\n",
              "  gill-size stalk-shape  ... ring-number ring-type spore-print-color  \\\n",
              "0         n           e  ...           o         p                 k   \n",
              "1         b           e  ...           o         p                 n   \n",
              "2         b           e  ...           o         p                 n   \n",
              "3         n           e  ...           o         p                 k   \n",
              "4         b           t  ...           o         e                 n   \n",
              "\n",
              "  population habitat cap-color-rate gill-color-rate veil-color-rate  \\\n",
              "0          s       u            1.0             3.0             1.0   \n",
              "1          n       g            2.0             3.0             1.0   \n",
              "2          n       m            3.0             1.0             1.0   \n",
              "3          s       u            3.0             1.0             1.0   \n",
              "4          a       g            4.0             3.0             1.0   \n",
              "\n",
              "  stalk-color-above-ring-rate  stalk-color-below-ring-rate  \n",
              "0                         1.0                          1.0  \n",
              "1                         1.0                          1.0  \n",
              "2                         1.0                          1.0  \n",
              "3                         1.0                          1.0  \n",
              "4                         1.0                          1.0  \n",
              "\n",
              "[5 rows x 24 columns]"
            ],
            "text/html": [
              "\n",
              "  <div id=\"df-72bbc3a2-d55e-44f7-9fe5-5dac622b432a\">\n",
              "    <div class=\"colab-df-container\">\n",
              "      <div>\n",
              "<style scoped>\n",
              "    .dataframe tbody tr th:only-of-type {\n",
              "        vertical-align: middle;\n",
              "    }\n",
              "\n",
              "    .dataframe tbody tr th {\n",
              "        vertical-align: top;\n",
              "    }\n",
              "\n",
              "    .dataframe thead th {\n",
              "        text-align: right;\n",
              "    }\n",
              "</style>\n",
              "<table border=\"1\" class=\"dataframe\">\n",
              "  <thead>\n",
              "    <tr style=\"text-align: right;\">\n",
              "      <th></th>\n",
              "      <th>id</th>\n",
              "      <th>label</th>\n",
              "      <th>cap-shape</th>\n",
              "      <th>cap-surface</th>\n",
              "      <th>bruises</th>\n",
              "      <th>odor</th>\n",
              "      <th>gill-attachment</th>\n",
              "      <th>gill-spacing</th>\n",
              "      <th>gill-size</th>\n",
              "      <th>stalk-shape</th>\n",
              "      <th>...</th>\n",
              "      <th>ring-number</th>\n",
              "      <th>ring-type</th>\n",
              "      <th>spore-print-color</th>\n",
              "      <th>population</th>\n",
              "      <th>habitat</th>\n",
              "      <th>cap-color-rate</th>\n",
              "      <th>gill-color-rate</th>\n",
              "      <th>veil-color-rate</th>\n",
              "      <th>stalk-color-above-ring-rate</th>\n",
              "      <th>stalk-color-below-ring-rate</th>\n",
              "    </tr>\n",
              "  </thead>\n",
              "  <tbody>\n",
              "    <tr>\n",
              "      <th>0</th>\n",
              "      <td>1</td>\n",
              "      <td>p</td>\n",
              "      <td>x</td>\n",
              "      <td>s</td>\n",
              "      <td>t</td>\n",
              "      <td>p</td>\n",
              "      <td>f</td>\n",
              "      <td>c</td>\n",
              "      <td>n</td>\n",
              "      <td>e</td>\n",
              "      <td>...</td>\n",
              "      <td>o</td>\n",
              "      <td>p</td>\n",
              "      <td>k</td>\n",
              "      <td>s</td>\n",
              "      <td>u</td>\n",
              "      <td>1.0</td>\n",
              "      <td>3.0</td>\n",
              "      <td>1.0</td>\n",
              "      <td>1.0</td>\n",
              "      <td>1.0</td>\n",
              "    </tr>\n",
              "    <tr>\n",
              "      <th>1</th>\n",
              "      <td>2</td>\n",
              "      <td>e</td>\n",
              "      <td>x</td>\n",
              "      <td>s</td>\n",
              "      <td>t</td>\n",
              "      <td>a</td>\n",
              "      <td>f</td>\n",
              "      <td>c</td>\n",
              "      <td>b</td>\n",
              "      <td>e</td>\n",
              "      <td>...</td>\n",
              "      <td>o</td>\n",
              "      <td>p</td>\n",
              "      <td>n</td>\n",
              "      <td>n</td>\n",
              "      <td>g</td>\n",
              "      <td>2.0</td>\n",
              "      <td>3.0</td>\n",
              "      <td>1.0</td>\n",
              "      <td>1.0</td>\n",
              "      <td>1.0</td>\n",
              "    </tr>\n",
              "    <tr>\n",
              "      <th>2</th>\n",
              "      <td>3</td>\n",
              "      <td>e</td>\n",
              "      <td>b</td>\n",
              "      <td>s</td>\n",
              "      <td>t</td>\n",
              "      <td>l</td>\n",
              "      <td>f</td>\n",
              "      <td>c</td>\n",
              "      <td>b</td>\n",
              "      <td>e</td>\n",
              "      <td>...</td>\n",
              "      <td>o</td>\n",
              "      <td>p</td>\n",
              "      <td>n</td>\n",
              "      <td>n</td>\n",
              "      <td>m</td>\n",
              "      <td>3.0</td>\n",
              "      <td>1.0</td>\n",
              "      <td>1.0</td>\n",
              "      <td>1.0</td>\n",
              "      <td>1.0</td>\n",
              "    </tr>\n",
              "    <tr>\n",
              "      <th>3</th>\n",
              "      <td>4</td>\n",
              "      <td>p</td>\n",
              "      <td>x</td>\n",
              "      <td>y</td>\n",
              "      <td>t</td>\n",
              "      <td>p</td>\n",
              "      <td>f</td>\n",
              "      <td>c</td>\n",
              "      <td>n</td>\n",
              "      <td>e</td>\n",
              "      <td>...</td>\n",
              "      <td>o</td>\n",
              "      <td>p</td>\n",
              "      <td>k</td>\n",
              "      <td>s</td>\n",
              "      <td>u</td>\n",
              "      <td>3.0</td>\n",
              "      <td>1.0</td>\n",
              "      <td>1.0</td>\n",
              "      <td>1.0</td>\n",
              "      <td>1.0</td>\n",
              "    </tr>\n",
              "    <tr>\n",
              "      <th>4</th>\n",
              "      <td>5</td>\n",
              "      <td>e</td>\n",
              "      <td>x</td>\n",
              "      <td>s</td>\n",
              "      <td>f</td>\n",
              "      <td>n</td>\n",
              "      <td>f</td>\n",
              "      <td>w</td>\n",
              "      <td>b</td>\n",
              "      <td>t</td>\n",
              "      <td>...</td>\n",
              "      <td>o</td>\n",
              "      <td>e</td>\n",
              "      <td>n</td>\n",
              "      <td>a</td>\n",
              "      <td>g</td>\n",
              "      <td>4.0</td>\n",
              "      <td>3.0</td>\n",
              "      <td>1.0</td>\n",
              "      <td>1.0</td>\n",
              "      <td>1.0</td>\n",
              "    </tr>\n",
              "  </tbody>\n",
              "</table>\n",
              "<p>5 rows × 24 columns</p>\n",
              "</div>\n",
              "      <button class=\"colab-df-convert\" onclick=\"convertToInteractive('df-72bbc3a2-d55e-44f7-9fe5-5dac622b432a')\"\n",
              "              title=\"Convert this dataframe to an interactive table.\"\n",
              "              style=\"display:none;\">\n",
              "        \n",
              "  <svg xmlns=\"http://www.w3.org/2000/svg\" height=\"24px\"viewBox=\"0 0 24 24\"\n",
              "       width=\"24px\">\n",
              "    <path d=\"M0 0h24v24H0V0z\" fill=\"none\"/>\n",
              "    <path d=\"M18.56 5.44l.94 2.06.94-2.06 2.06-.94-2.06-.94-.94-2.06-.94 2.06-2.06.94zm-11 1L8.5 8.5l.94-2.06 2.06-.94-2.06-.94L8.5 2.5l-.94 2.06-2.06.94zm10 10l.94 2.06.94-2.06 2.06-.94-2.06-.94-.94-2.06-.94 2.06-2.06.94z\"/><path d=\"M17.41 7.96l-1.37-1.37c-.4-.4-.92-.59-1.43-.59-.52 0-1.04.2-1.43.59L10.3 9.45l-7.72 7.72c-.78.78-.78 2.05 0 2.83L4 21.41c.39.39.9.59 1.41.59.51 0 1.02-.2 1.41-.59l7.78-7.78 2.81-2.81c.8-.78.8-2.07 0-2.86zM5.41 20L4 18.59l7.72-7.72 1.47 1.35L5.41 20z\"/>\n",
              "  </svg>\n",
              "      </button>\n",
              "      \n",
              "  <style>\n",
              "    .colab-df-container {\n",
              "      display:flex;\n",
              "      flex-wrap:wrap;\n",
              "      gap: 12px;\n",
              "    }\n",
              "\n",
              "    .colab-df-convert {\n",
              "      background-color: #E8F0FE;\n",
              "      border: none;\n",
              "      border-radius: 50%;\n",
              "      cursor: pointer;\n",
              "      display: none;\n",
              "      fill: #1967D2;\n",
              "      height: 32px;\n",
              "      padding: 0 0 0 0;\n",
              "      width: 32px;\n",
              "    }\n",
              "\n",
              "    .colab-df-convert:hover {\n",
              "      background-color: #E2EBFA;\n",
              "      box-shadow: 0px 1px 2px rgba(60, 64, 67, 0.3), 0px 1px 3px 1px rgba(60, 64, 67, 0.15);\n",
              "      fill: #174EA6;\n",
              "    }\n",
              "\n",
              "    [theme=dark] .colab-df-convert {\n",
              "      background-color: #3B4455;\n",
              "      fill: #D2E3FC;\n",
              "    }\n",
              "\n",
              "    [theme=dark] .colab-df-convert:hover {\n",
              "      background-color: #434B5C;\n",
              "      box-shadow: 0px 1px 3px 1px rgba(0, 0, 0, 0.15);\n",
              "      filter: drop-shadow(0px 1px 2px rgba(0, 0, 0, 0.3));\n",
              "      fill: #FFFFFF;\n",
              "    }\n",
              "  </style>\n",
              "\n",
              "      <script>\n",
              "        const buttonEl =\n",
              "          document.querySelector('#df-72bbc3a2-d55e-44f7-9fe5-5dac622b432a button.colab-df-convert');\n",
              "        buttonEl.style.display =\n",
              "          google.colab.kernel.accessAllowed ? 'block' : 'none';\n",
              "\n",
              "        async function convertToInteractive(key) {\n",
              "          const element = document.querySelector('#df-72bbc3a2-d55e-44f7-9fe5-5dac622b432a');\n",
              "          const dataTable =\n",
              "            await google.colab.kernel.invokeFunction('convertToInteractive',\n",
              "                                                     [key], {});\n",
              "          if (!dataTable) return;\n",
              "\n",
              "          const docLinkHtml = 'Like what you see? Visit the ' +\n",
              "            '<a target=\"_blank\" href=https://colab.research.google.com/notebooks/data_table.ipynb>data table notebook</a>'\n",
              "            + ' to learn more about interactive tables.';\n",
              "          element.innerHTML = '';\n",
              "          dataTable['output_type'] = 'display_data';\n",
              "          await google.colab.output.renderOutput(dataTable, element);\n",
              "          const docLink = document.createElement('div');\n",
              "          docLink.innerHTML = docLinkHtml;\n",
              "          element.appendChild(docLink);\n",
              "        }\n",
              "      </script>\n",
              "    </div>\n",
              "  </div>\n",
              "  "
            ]
          },
          "metadata": {},
          "execution_count": 79
        }
      ]
    },
    {
      "cell_type": "code",
      "source": [
        "df.info()"
      ],
      "metadata": {
        "colab": {
          "base_uri": "https://localhost:8080/"
        },
        "id": "8A73KtvaUPVY",
        "outputId": "1b0e0210-5144-4415-c847-f78970cc7b20"
      },
      "execution_count": 80,
      "outputs": [
        {
          "output_type": "stream",
          "name": "stdout",
          "text": [
            "<class 'pandas.core.frame.DataFrame'>\n",
            "RangeIndex: 5824 entries, 0 to 5823\n",
            "Data columns (total 24 columns):\n",
            " #   Column                       Non-Null Count  Dtype  \n",
            "---  ------                       --------------  -----  \n",
            " 0   id                           5824 non-null   int64  \n",
            " 1   label                        5764 non-null   object \n",
            " 2   cap-shape                    5824 non-null   object \n",
            " 3   cap-surface                  5797 non-null   object \n",
            " 4   bruises                      5725 non-null   object \n",
            " 5   odor                         5725 non-null   object \n",
            " 6   gill-attachment              5725 non-null   object \n",
            " 7   gill-spacing                 5694 non-null   object \n",
            " 8   gill-size                    5703 non-null   object \n",
            " 9   stalk-shape                  5703 non-null   object \n",
            " 10  stalk-root                   5793 non-null   object \n",
            " 11  stalk-surface-above-ring     5793 non-null   object \n",
            " 12  stalk-surface-below-ring     5793 non-null   object \n",
            " 13  veil-type                    5762 non-null   object \n",
            " 14  ring-number                  5762 non-null   object \n",
            " 15  ring-type                    5762 non-null   object \n",
            " 16  spore-print-color            5768 non-null   object \n",
            " 17  population                   5768 non-null   object \n",
            " 18  habitat                      5793 non-null   object \n",
            " 19  cap-color-rate               5797 non-null   float64\n",
            " 20  gill-color-rate              5703 non-null   float64\n",
            " 21  veil-color-rate              5762 non-null   float64\n",
            " 22  stalk-color-above-ring-rate  5793 non-null   float64\n",
            " 23  stalk-color-below-ring-rate  5762 non-null   float64\n",
            "dtypes: float64(5), int64(1), object(18)\n",
            "memory usage: 1.1+ MB\n"
          ]
        }
      ]
    },
    {
      "cell_type": "code",
      "source": [
        "null_counts = df.isnull().sum()\n",
        "print(\"Number of null values in each column:\\n{}\".format(null_counts)) #check null values\n",
        "df.shape"
      ],
      "metadata": {
        "colab": {
          "base_uri": "https://localhost:8080/"
        },
        "id": "eBdS8mk2U3Jq",
        "outputId": "185b0e52-f368-4604-f982-2cba7629f107"
      },
      "execution_count": 81,
      "outputs": [
        {
          "output_type": "stream",
          "name": "stdout",
          "text": [
            "Number of null values in each column:\n",
            "id                               0\n",
            "label                           60\n",
            "cap-shape                        0\n",
            "cap-surface                     27\n",
            "bruises                         99\n",
            "odor                            99\n",
            "gill-attachment                 99\n",
            "gill-spacing                   130\n",
            "gill-size                      121\n",
            "stalk-shape                    121\n",
            "stalk-root                      31\n",
            "stalk-surface-above-ring        31\n",
            "stalk-surface-below-ring        31\n",
            "veil-type                       62\n",
            "ring-number                     62\n",
            "ring-type                       62\n",
            "spore-print-color               56\n",
            "population                      56\n",
            "habitat                         31\n",
            "cap-color-rate                  27\n",
            "gill-color-rate                121\n",
            "veil-color-rate                 62\n",
            "stalk-color-above-ring-rate     31\n",
            "stalk-color-below-ring-rate     62\n",
            "dtype: int64\n"
          ]
        },
        {
          "output_type": "execute_result",
          "data": {
            "text/plain": [
              "(5824, 24)"
            ]
          },
          "metadata": {},
          "execution_count": 81
        }
      ]
    },
    {
      "cell_type": "code",
      "source": [
        "for col in df.columns:\n",
        "  print(df[col].value_counts()) # print all value to check all values"
      ],
      "metadata": {
        "colab": {
          "base_uri": "https://localhost:8080/"
        },
        "id": "vdEKmVb7VrwN",
        "outputId": "4bf94fe8-6d40-49c8-fbf2-a2b175573e71"
      },
      "execution_count": 82,
      "outputs": [
        {
          "output_type": "stream",
          "name": "stdout",
          "text": [
            "1       1\n",
            "3891    1\n",
            "3889    1\n",
            "3888    1\n",
            "3887    1\n",
            "       ..\n",
            "1940    1\n",
            "1939    1\n",
            "1938    1\n",
            "1937    1\n",
            "5824    1\n",
            "Name: id, Length: 5824, dtype: int64\n",
            "p    3660\n",
            "e    2104\n",
            "Name: label, dtype: int64\n",
            "f    2397\n",
            "x    2394\n",
            "k     828\n",
            "b     201\n",
            "c       4\n",
            "Name: cap-shape, dtype: int64\n",
            "y    2517\n",
            "s    1753\n",
            "f    1523\n",
            "g       4\n",
            "Name: cap-surface, dtype: int64\n",
            "f    3849\n",
            "t    1876\n",
            "Name: bruises, dtype: int64\n",
            "n    2235\n",
            "f    2107\n",
            "s     570\n",
            "y     569\n",
            "c     190\n",
            "m      36\n",
            "p       9\n",
            "a       6\n",
            "l       3\n",
            "Name: odor, dtype: int64\n",
            "f    5518\n",
            "a     207\n",
            "Name: gill-attachment, dtype: int64\n",
            "c    5234\n",
            "w     460\n",
            "Name: gill-spacing, dtype: int64\n",
            "b    3663\n",
            "n    2040\n",
            "Name: gill-size, dtype: int64\n",
            "t    3282\n",
            "e    2421\n",
            "Name: stalk-shape, dtype: int64\n",
            "b    3233\n",
            "?    2480\n",
            "c      53\n",
            "e      27\n",
            "Name: stalk-root, dtype: int64\n",
            "s    3224\n",
            "k    2367\n",
            "f     178\n",
            "y      24\n",
            "Name: stalk-surface-above-ring, dtype: int64\n",
            "s    3176\n",
            "k    2299\n",
            "f     226\n",
            "y      92\n",
            "Name: stalk-surface-below-ring, dtype: int64\n",
            "p    5762\n",
            "Name: veil-type, dtype: int64\n",
            "o    5132\n",
            "t     595\n",
            "n      35\n",
            "Name: ring-number, dtype: int64\n",
            "p    2379\n",
            "e    2018\n",
            "l    1282\n",
            "f      48\n",
            "n      35\n",
            "Name: ring-type, dtype: int64\n",
            "w    2380\n",
            "h    1612\n",
            "n     807\n",
            "k     755\n",
            "r      70\n",
            "o      48\n",
            "y      48\n",
            "b      48\n",
            "Name: spore-print-color, dtype: int64\n",
            "v    3521\n",
            "y    1353\n",
            "s     403\n",
            "c     336\n",
            "n     149\n",
            "a       6\n",
            "Name: population, dtype: int64\n",
            "d    2608\n",
            "p    1047\n",
            "g     924\n",
            "l     832\n",
            "w     192\n",
            "u     149\n",
            "m      41\n",
            "Name: habitat, dtype: int64\n",
            "1.0     1576\n",
            "4.0     1404\n",
            "5.0     1395\n",
            "2.0      673\n",
            "3.0      370\n",
            "7.0      164\n",
            "6.0      139\n",
            "9.0       44\n",
            "8.0       16\n",
            "10.0      16\n",
            "Name: cap-color-rate, dtype: int64\n",
            "9.0     1712\n",
            "4.0      976\n",
            "5.0      790\n",
            "2.0      591\n",
            "7.0      533\n",
            "1.0      432\n",
            "6.0      396\n",
            "8.0       90\n",
            "10.0      86\n",
            "11.0      64\n",
            "12.0      24\n",
            "3.0        9\n",
            "Name: gill-color-rate, dtype: int64\n",
            "1.0    5659\n",
            "2.0      95\n",
            "3.0       8\n",
            "Name: veil-color-rate, dtype: int64\n",
            "1.0    2436\n",
            "2.0    1727\n",
            "5.0     445\n",
            "4.0     430\n",
            "3.0     423\n",
            "7.0     192\n",
            "6.0      96\n",
            "8.0      36\n",
            "9.0       8\n",
            "Name: stalk-color-above-ring-rate, dtype: int64\n",
            "1.0    2339\n",
            "5.0    1724\n",
            "7.0     508\n",
            "6.0     427\n",
            "4.0     423\n",
            "8.0     190\n",
            "3.0      94\n",
            "9.0      35\n",
            "2.0      22\n",
            "Name: stalk-color-below-ring-rate, dtype: int64\n"
          ]
        }
      ]
    },
    {
      "cell_type": "markdown",
      "source": [
        "\n",
        "# 2. Drop rows where the target (label) variable is missing."
      ],
      "metadata": {
        "id": "sMAnzNNly2g8"
      }
    },
    {
      "cell_type": "code",
      "source": [
        "df.dropna(subset=['label'],axis = 0,inplace= True)"
      ],
      "metadata": {
        "id": "1b2EZKOaWqS-"
      },
      "execution_count": 83,
      "outputs": []
    },
    {
      "cell_type": "code",
      "source": [
        "null_counts = df.isnull().sum()\n",
        "print(\"Number of null values in each column:\\n{}\".format(null_counts)) #check null values\n",
        "df.shape"
      ],
      "metadata": {
        "colab": {
          "base_uri": "https://localhost:8080/"
        },
        "id": "yWl-oK8YXopw",
        "outputId": "a24e7feb-9dcc-4a87-c86b-02998d4083c5"
      },
      "execution_count": 84,
      "outputs": [
        {
          "output_type": "stream",
          "name": "stdout",
          "text": [
            "Number of null values in each column:\n",
            "id                               0\n",
            "label                            0\n",
            "cap-shape                        0\n",
            "cap-surface                     27\n",
            "bruises                         99\n",
            "odor                            99\n",
            "gill-attachment                 99\n",
            "gill-spacing                   130\n",
            "gill-size                      121\n",
            "stalk-shape                    121\n",
            "stalk-root                      31\n",
            "stalk-surface-above-ring        31\n",
            "stalk-surface-below-ring        31\n",
            "veil-type                       62\n",
            "ring-number                     62\n",
            "ring-type                       62\n",
            "spore-print-color               56\n",
            "population                      56\n",
            "habitat                         31\n",
            "cap-color-rate                  27\n",
            "gill-color-rate                121\n",
            "veil-color-rate                 62\n",
            "stalk-color-above-ring-rate     31\n",
            "stalk-color-below-ring-rate     62\n",
            "dtype: int64\n"
          ]
        },
        {
          "output_type": "execute_result",
          "data": {
            "text/plain": [
              "(5764, 24)"
            ]
          },
          "metadata": {},
          "execution_count": 84
        }
      ]
    },
    {
      "cell_type": "markdown",
      "source": [
        "# 3.  Drop the following variables 11 columns"
      ],
      "metadata": {
        "id": "SRkgQat-zRHm"
      }
    },
    {
      "cell_type": "code",
      "source": [
        "selectcol=['gill-attachment', 'gill-spacing', 'gill-size','gill-color-rate',\n",
        "'stalk-root', 'stalk-surface-above-ring', 'stalk-surface-below-ring', 'stalk-color-above-ring-rate','stalk-color-below-ring-rate','veil-color-rate','veil-type']# 11 columns to remove\n",
        "df.drop(columns=selectcol ,axis=1, inplace= True)\n"
      ],
      "metadata": {
        "id": "0FHiEr5SZHMq"
      },
      "execution_count": 85,
      "outputs": []
    },
    {
      "cell_type": "markdown",
      "source": [
        "# 4. Examine the number of rows, the number of digits, and whether any are missing."
      ],
      "metadata": {
        "id": "bO7fGy9_zX0G"
      }
    },
    {
      "cell_type": "code",
      "source": [
        "null_counts = df.isnull().sum()\n",
        "print(\"Number of null values in each column:\\n{}\".format(null_counts)) #check null values\n",
        "df.shape"
      ],
      "metadata": {
        "colab": {
          "base_uri": "https://localhost:8080/"
        },
        "id": "qrKYu5KUZkal",
        "outputId": "cf800bba-0706-446e-f1d4-f9e414a21155"
      },
      "execution_count": 86,
      "outputs": [
        {
          "output_type": "stream",
          "name": "stdout",
          "text": [
            "Number of null values in each column:\n",
            "id                     0\n",
            "label                  0\n",
            "cap-shape              0\n",
            "cap-surface           27\n",
            "bruises               99\n",
            "odor                  99\n",
            "stalk-shape          121\n",
            "ring-number           62\n",
            "ring-type             62\n",
            "spore-print-color     56\n",
            "population            56\n",
            "habitat               31\n",
            "cap-color-rate        27\n",
            "dtype: int64\n"
          ]
        },
        {
          "output_type": "execute_result",
          "data": {
            "text/plain": [
              "(5764, 13)"
            ]
          },
          "metadata": {},
          "execution_count": 86
        }
      ]
    },
    {
      "cell_type": "code",
      "source": [
        "df.head()"
      ],
      "metadata": {
        "colab": {
          "base_uri": "https://localhost:8080/",
          "height": 206
        },
        "id": "vErdYKOOb8X4",
        "outputId": "24601aa9-c3ad-4d1e-f669-ee57e081f053"
      },
      "execution_count": 87,
      "outputs": [
        {
          "output_type": "execute_result",
          "data": {
            "text/plain": [
              "   id label cap-shape cap-surface bruises odor stalk-shape ring-number  \\\n",
              "0   1     p         x           s       t    p           e           o   \n",
              "1   2     e         x           s       t    a           e           o   \n",
              "2   3     e         b           s       t    l           e           o   \n",
              "3   4     p         x           y       t    p           e           o   \n",
              "4   5     e         x           s       f    n           t           o   \n",
              "\n",
              "  ring-type spore-print-color population habitat  cap-color-rate  \n",
              "0         p                 k          s       u             1.0  \n",
              "1         p                 n          n       g             2.0  \n",
              "2         p                 n          n       m             3.0  \n",
              "3         p                 k          s       u             3.0  \n",
              "4         e                 n          a       g             4.0  "
            ],
            "text/html": [
              "\n",
              "  <div id=\"df-88dab1ac-0fe6-4493-a171-0d57f0a3d2fa\">\n",
              "    <div class=\"colab-df-container\">\n",
              "      <div>\n",
              "<style scoped>\n",
              "    .dataframe tbody tr th:only-of-type {\n",
              "        vertical-align: middle;\n",
              "    }\n",
              "\n",
              "    .dataframe tbody tr th {\n",
              "        vertical-align: top;\n",
              "    }\n",
              "\n",
              "    .dataframe thead th {\n",
              "        text-align: right;\n",
              "    }\n",
              "</style>\n",
              "<table border=\"1\" class=\"dataframe\">\n",
              "  <thead>\n",
              "    <tr style=\"text-align: right;\">\n",
              "      <th></th>\n",
              "      <th>id</th>\n",
              "      <th>label</th>\n",
              "      <th>cap-shape</th>\n",
              "      <th>cap-surface</th>\n",
              "      <th>bruises</th>\n",
              "      <th>odor</th>\n",
              "      <th>stalk-shape</th>\n",
              "      <th>ring-number</th>\n",
              "      <th>ring-type</th>\n",
              "      <th>spore-print-color</th>\n",
              "      <th>population</th>\n",
              "      <th>habitat</th>\n",
              "      <th>cap-color-rate</th>\n",
              "    </tr>\n",
              "  </thead>\n",
              "  <tbody>\n",
              "    <tr>\n",
              "      <th>0</th>\n",
              "      <td>1</td>\n",
              "      <td>p</td>\n",
              "      <td>x</td>\n",
              "      <td>s</td>\n",
              "      <td>t</td>\n",
              "      <td>p</td>\n",
              "      <td>e</td>\n",
              "      <td>o</td>\n",
              "      <td>p</td>\n",
              "      <td>k</td>\n",
              "      <td>s</td>\n",
              "      <td>u</td>\n",
              "      <td>1.0</td>\n",
              "    </tr>\n",
              "    <tr>\n",
              "      <th>1</th>\n",
              "      <td>2</td>\n",
              "      <td>e</td>\n",
              "      <td>x</td>\n",
              "      <td>s</td>\n",
              "      <td>t</td>\n",
              "      <td>a</td>\n",
              "      <td>e</td>\n",
              "      <td>o</td>\n",
              "      <td>p</td>\n",
              "      <td>n</td>\n",
              "      <td>n</td>\n",
              "      <td>g</td>\n",
              "      <td>2.0</td>\n",
              "    </tr>\n",
              "    <tr>\n",
              "      <th>2</th>\n",
              "      <td>3</td>\n",
              "      <td>e</td>\n",
              "      <td>b</td>\n",
              "      <td>s</td>\n",
              "      <td>t</td>\n",
              "      <td>l</td>\n",
              "      <td>e</td>\n",
              "      <td>o</td>\n",
              "      <td>p</td>\n",
              "      <td>n</td>\n",
              "      <td>n</td>\n",
              "      <td>m</td>\n",
              "      <td>3.0</td>\n",
              "    </tr>\n",
              "    <tr>\n",
              "      <th>3</th>\n",
              "      <td>4</td>\n",
              "      <td>p</td>\n",
              "      <td>x</td>\n",
              "      <td>y</td>\n",
              "      <td>t</td>\n",
              "      <td>p</td>\n",
              "      <td>e</td>\n",
              "      <td>o</td>\n",
              "      <td>p</td>\n",
              "      <td>k</td>\n",
              "      <td>s</td>\n",
              "      <td>u</td>\n",
              "      <td>3.0</td>\n",
              "    </tr>\n",
              "    <tr>\n",
              "      <th>4</th>\n",
              "      <td>5</td>\n",
              "      <td>e</td>\n",
              "      <td>x</td>\n",
              "      <td>s</td>\n",
              "      <td>f</td>\n",
              "      <td>n</td>\n",
              "      <td>t</td>\n",
              "      <td>o</td>\n",
              "      <td>e</td>\n",
              "      <td>n</td>\n",
              "      <td>a</td>\n",
              "      <td>g</td>\n",
              "      <td>4.0</td>\n",
              "    </tr>\n",
              "  </tbody>\n",
              "</table>\n",
              "</div>\n",
              "      <button class=\"colab-df-convert\" onclick=\"convertToInteractive('df-88dab1ac-0fe6-4493-a171-0d57f0a3d2fa')\"\n",
              "              title=\"Convert this dataframe to an interactive table.\"\n",
              "              style=\"display:none;\">\n",
              "        \n",
              "  <svg xmlns=\"http://www.w3.org/2000/svg\" height=\"24px\"viewBox=\"0 0 24 24\"\n",
              "       width=\"24px\">\n",
              "    <path d=\"M0 0h24v24H0V0z\" fill=\"none\"/>\n",
              "    <path d=\"M18.56 5.44l.94 2.06.94-2.06 2.06-.94-2.06-.94-.94-2.06-.94 2.06-2.06.94zm-11 1L8.5 8.5l.94-2.06 2.06-.94-2.06-.94L8.5 2.5l-.94 2.06-2.06.94zm10 10l.94 2.06.94-2.06 2.06-.94-2.06-.94-.94-2.06-.94 2.06-2.06.94z\"/><path d=\"M17.41 7.96l-1.37-1.37c-.4-.4-.92-.59-1.43-.59-.52 0-1.04.2-1.43.59L10.3 9.45l-7.72 7.72c-.78.78-.78 2.05 0 2.83L4 21.41c.39.39.9.59 1.41.59.51 0 1.02-.2 1.41-.59l7.78-7.78 2.81-2.81c.8-.78.8-2.07 0-2.86zM5.41 20L4 18.59l7.72-7.72 1.47 1.35L5.41 20z\"/>\n",
              "  </svg>\n",
              "      </button>\n",
              "      \n",
              "  <style>\n",
              "    .colab-df-container {\n",
              "      display:flex;\n",
              "      flex-wrap:wrap;\n",
              "      gap: 12px;\n",
              "    }\n",
              "\n",
              "    .colab-df-convert {\n",
              "      background-color: #E8F0FE;\n",
              "      border: none;\n",
              "      border-radius: 50%;\n",
              "      cursor: pointer;\n",
              "      display: none;\n",
              "      fill: #1967D2;\n",
              "      height: 32px;\n",
              "      padding: 0 0 0 0;\n",
              "      width: 32px;\n",
              "    }\n",
              "\n",
              "    .colab-df-convert:hover {\n",
              "      background-color: #E2EBFA;\n",
              "      box-shadow: 0px 1px 2px rgba(60, 64, 67, 0.3), 0px 1px 3px 1px rgba(60, 64, 67, 0.15);\n",
              "      fill: #174EA6;\n",
              "    }\n",
              "\n",
              "    [theme=dark] .colab-df-convert {\n",
              "      background-color: #3B4455;\n",
              "      fill: #D2E3FC;\n",
              "    }\n",
              "\n",
              "    [theme=dark] .colab-df-convert:hover {\n",
              "      background-color: #434B5C;\n",
              "      box-shadow: 0px 1px 3px 1px rgba(0, 0, 0, 0.15);\n",
              "      filter: drop-shadow(0px 1px 2px rgba(0, 0, 0, 0.3));\n",
              "      fill: #FFFFFF;\n",
              "    }\n",
              "  </style>\n",
              "\n",
              "      <script>\n",
              "        const buttonEl =\n",
              "          document.querySelector('#df-88dab1ac-0fe6-4493-a171-0d57f0a3d2fa button.colab-df-convert');\n",
              "        buttonEl.style.display =\n",
              "          google.colab.kernel.accessAllowed ? 'block' : 'none';\n",
              "\n",
              "        async function convertToInteractive(key) {\n",
              "          const element = document.querySelector('#df-88dab1ac-0fe6-4493-a171-0d57f0a3d2fa');\n",
              "          const dataTable =\n",
              "            await google.colab.kernel.invokeFunction('convertToInteractive',\n",
              "                                                     [key], {});\n",
              "          if (!dataTable) return;\n",
              "\n",
              "          const docLinkHtml = 'Like what you see? Visit the ' +\n",
              "            '<a target=\"_blank\" href=https://colab.research.google.com/notebooks/data_table.ipynb>data table notebook</a>'\n",
              "            + ' to learn more about interactive tables.';\n",
              "          element.innerHTML = '';\n",
              "          dataTable['output_type'] = 'display_data';\n",
              "          await google.colab.output.renderOutput(dataTable, element);\n",
              "          const docLink = document.createElement('div');\n",
              "          docLink.innerHTML = docLinkHtml;\n",
              "          element.appendChild(docLink);\n",
              "        }\n",
              "      </script>\n",
              "    </div>\n",
              "  </div>\n",
              "  "
            ]
          },
          "metadata": {},
          "execution_count": 87
        }
      ]
    },
    {
      "cell_type": "markdown",
      "source": [
        "# 5. Fill missing values by adding the mean for numeric variables and the mode for nominal variables."
      ],
      "metadata": {
        "id": "oF7QDkFZzcOu"
      }
    },
    {
      "cell_type": "code",
      "source": [
        "mode_value=df.mode().iloc[0] #cal mode value\n",
        "mean_value=df['cap-color-rate'].mean()\n",
        "print(mode_value)\n",
        "print(mean_value)"
      ],
      "metadata": {
        "colab": {
          "base_uri": "https://localhost:8080/"
        },
        "id": "iQSkJdvncraf",
        "outputId": "8a6622bd-72cf-4237-adbd-e98a215ff9d6"
      },
      "execution_count": 88,
      "outputs": [
        {
          "output_type": "stream",
          "name": "stdout",
          "text": [
            "id                     1\n",
            "label                  p\n",
            "cap-shape              f\n",
            "cap-surface            y\n",
            "bruises                f\n",
            "odor                   n\n",
            "stalk-shape            t\n",
            "ring-number            o\n",
            "ring-type              p\n",
            "spore-print-color      w\n",
            "population             v\n",
            "habitat                d\n",
            "cap-color-rate       1.0\n",
            "Name: 0, dtype: object\n",
            "3.327523095694614\n"
          ]
        }
      ]
    },
    {
      "cell_type": "code",
      "source": [
        "df['cap-color-rate'].fillna(value=mean_value,inplace= True)\n",
        "df.fillna(value=mode_value,inplace= True) ## fill all na value\n",
        "print(df.isnull().sum())\n",
        "df.dtypes\n"
      ],
      "metadata": {
        "colab": {
          "base_uri": "https://localhost:8080/"
        },
        "id": "kF6WOVPpxCGJ",
        "outputId": "fe15366b-c45f-4bac-a08e-03cada13c3f2"
      },
      "execution_count": 89,
      "outputs": [
        {
          "output_type": "stream",
          "name": "stdout",
          "text": [
            "id                   0\n",
            "label                0\n",
            "cap-shape            0\n",
            "cap-surface          0\n",
            "bruises              0\n",
            "odor                 0\n",
            "stalk-shape          0\n",
            "ring-number          0\n",
            "ring-type            0\n",
            "spore-print-color    0\n",
            "population           0\n",
            "habitat              0\n",
            "cap-color-rate       0\n",
            "dtype: int64\n"
          ]
        },
        {
          "output_type": "execute_result",
          "data": {
            "text/plain": [
              "id                     int64\n",
              "label                 object\n",
              "cap-shape             object\n",
              "cap-surface           object\n",
              "bruises               object\n",
              "odor                  object\n",
              "stalk-shape           object\n",
              "ring-number           object\n",
              "ring-type             object\n",
              "spore-print-color     object\n",
              "population            object\n",
              "habitat               object\n",
              "cap-color-rate       float64\n",
              "dtype: object"
            ]
          },
          "metadata": {},
          "execution_count": 89
        }
      ]
    },
    {
      "cell_type": "markdown",
      "source": [
        "# 6. Convert the label variable e (edible) to 1 and p (poisonous) to 0 and check the quantity. class0: class1"
      ],
      "metadata": {
        "id": "qqo-1X1Fzphl"
      }
    },
    {
      "cell_type": "code",
      "source": [
        "df['label']=df['label'].replace(['e','p'],[1,0])   # replace data e->class1 , p -> class 0\n",
        "print(df.head())\n"
      ],
      "metadata": {
        "colab": {
          "base_uri": "https://localhost:8080/"
        },
        "id": "0SEcV2cffekv",
        "outputId": "60a0b559-6eb3-420f-be79-c699398c3d98"
      },
      "execution_count": 90,
      "outputs": [
        {
          "output_type": "stream",
          "name": "stdout",
          "text": [
            "   id  label cap-shape cap-surface bruises odor stalk-shape ring-number  \\\n",
            "0   1      0         x           s       t    p           e           o   \n",
            "1   2      1         x           s       t    a           e           o   \n",
            "2   3      1         b           s       t    l           e           o   \n",
            "3   4      0         x           y       t    p           e           o   \n",
            "4   5      1         x           s       f    n           t           o   \n",
            "\n",
            "  ring-type spore-print-color population habitat  cap-color-rate  \n",
            "0         p                 k          s       u             1.0  \n",
            "1         p                 n          n       g             2.0  \n",
            "2         p                 n          n       m             3.0  \n",
            "3         p                 k          s       u             3.0  \n",
            "4         e                 n          a       g             4.0  \n"
          ]
        }
      ]
    },
    {
      "cell_type": "code",
      "source": [
        "print(df.label.value_counts())"
      ],
      "metadata": {
        "colab": {
          "base_uri": "https://localhost:8080/"
        },
        "id": "uLqupBvWM2HE",
        "outputId": "a78c7906-cf4b-403d-989b-e982f572a9a7"
      },
      "execution_count": 91,
      "outputs": [
        {
          "output_type": "stream",
          "name": "stdout",
          "text": [
            "0    3660\n",
            "1    2104\n",
            "Name: label, dtype: int64\n"
          ]
        }
      ]
    },
    {
      "cell_type": "code",
      "source": [
        "for col in df.columns:\n",
        "  print(df[col].value_counts()) # print all value to check all values"
      ],
      "metadata": {
        "colab": {
          "base_uri": "https://localhost:8080/"
        },
        "id": "bNAgYDYCnTaC",
        "outputId": "a8964c2a-051b-44d6-df8f-598603593959"
      },
      "execution_count": 92,
      "outputs": [
        {
          "output_type": "stream",
          "name": "stdout",
          "text": [
            "1       1\n",
            "3911    1\n",
            "3909    1\n",
            "3908    1\n",
            "3907    1\n",
            "       ..\n",
            "1980    1\n",
            "1979    1\n",
            "1978    1\n",
            "1977    1\n",
            "5824    1\n",
            "Name: id, Length: 5764, dtype: int64\n",
            "0    3660\n",
            "1    2104\n",
            "Name: label, dtype: int64\n",
            "f    2382\n",
            "x    2349\n",
            "k     828\n",
            "b     201\n",
            "c       4\n",
            "Name: cap-shape, dtype: int64\n",
            "y    2519\n",
            "s    1749\n",
            "f    1492\n",
            "g       4\n",
            "Name: cap-surface, dtype: int64\n",
            "f    3942\n",
            "t    1822\n",
            "Name: bruises, dtype: int64\n",
            "n    2277\n",
            "f    2107\n",
            "s     570\n",
            "y     569\n",
            "c     189\n",
            "m      36\n",
            "p       7\n",
            "a       6\n",
            "l       3\n",
            "Name: odor, dtype: int64\n",
            "t    3346\n",
            "e    2418\n",
            "Name: stalk-shape, dtype: int64\n",
            "o    5134\n",
            "t     595\n",
            "n      35\n",
            "Name: ring-number, dtype: int64\n",
            "p    2386\n",
            "e    2013\n",
            "l    1282\n",
            "f      48\n",
            "n      35\n",
            "Name: ring-type, dtype: int64\n",
            "w    2436\n",
            "h    1612\n",
            "n     778\n",
            "k     724\n",
            "r      70\n",
            "o      48\n",
            "y      48\n",
            "b      48\n",
            "Name: spore-print-color, dtype: int64\n",
            "v    3547\n",
            "y    1330\n",
            "s     398\n",
            "c     336\n",
            "n     149\n",
            "a       4\n",
            "Name: population, dtype: int64\n",
            "d    2586\n",
            "p    1047\n",
            "g     919\n",
            "l     832\n",
            "w     192\n",
            "u     147\n",
            "m      41\n",
            "Name: habitat, dtype: int64\n",
            "1.000000     1558\n",
            "5.000000     1381\n",
            "4.000000     1380\n",
            "2.000000      673\n",
            "3.000000      367\n",
            "7.000000      164\n",
            "6.000000      138\n",
            "9.000000       44\n",
            "3.327523       27\n",
            "8.000000       16\n",
            "10.000000      16\n",
            "Name: cap-color-rate, dtype: int64\n"
          ]
        }
      ]
    },
    {
      "cell_type": "markdown",
      "source": [
        "# 7. Convert the nominal variable to numeric using a dummy code with drop_first = True."
      ],
      "metadata": {
        "id": "ghm_BrUCz0ow"
      }
    },
    {
      "cell_type": "code",
      "source": [
        "dummies_columns=[\n",
        "\"cap-shape\",          \n",
        "\"cap-surface\",\n",
        "\"bruises\",         \n",
        "\"odor\",         \n",
        "\"stalk-shape\",       \n",
        "\"ring-number\",      \n",
        "\"ring-type\",     \n",
        "\"spore-print-color\",  \n",
        "\"population\",  \n",
        "\"habitat\"]\n",
        "\n",
        "dummy_df=pd.get_dummies(df[dummies_columns],drop_first= True) ## create dummies\n",
        "dummy_df"
      ],
      "metadata": {
        "colab": {
          "base_uri": "https://localhost:8080/",
          "height": 423
        },
        "id": "Ek4V6lcLjkGK",
        "outputId": "c8736d09-c4b2-4616-bc80-c879f43ed5aa"
      },
      "execution_count": 93,
      "outputs": [
        {
          "output_type": "execute_result",
          "data": {
            "text/plain": [
              "      cap-shape_c  cap-shape_f  cap-shape_k  cap-shape_x  cap-surface_g  \\\n",
              "0               0            0            0            1              0   \n",
              "1               0            0            0            1              0   \n",
              "2               0            0            0            0              0   \n",
              "3               0            0            0            1              0   \n",
              "4               0            0            0            1              0   \n",
              "...           ...          ...          ...          ...            ...   \n",
              "5819            0            0            1            0              0   \n",
              "5820            0            0            0            1              0   \n",
              "5821            0            1            0            0              0   \n",
              "5822            0            0            1            0              0   \n",
              "5823            0            0            0            1              0   \n",
              "\n",
              "      cap-surface_s  cap-surface_y  bruises_t  odor_c  odor_f  ...  \\\n",
              "0                 1              0          1       0       0  ...   \n",
              "1                 1              0          1       0       0  ...   \n",
              "2                 1              0          1       0       0  ...   \n",
              "3                 0              1          1       0       0  ...   \n",
              "4                 1              0          0       0       0  ...   \n",
              "...             ...            ...        ...     ...     ...  ...   \n",
              "5819              1              0          0       0       0  ...   \n",
              "5820              1              0          0       0       0  ...   \n",
              "5821              1              0          0       0       0  ...   \n",
              "5822              0              1          0       0       0  ...   \n",
              "5823              1              0          0       0       0  ...   \n",
              "\n",
              "      population_n  population_s  population_v  population_y  habitat_g  \\\n",
              "0                0             1             0             0          0   \n",
              "1                1             0             0             0          1   \n",
              "2                1             0             0             0          0   \n",
              "3                0             1             0             0          0   \n",
              "4                0             0             0             0          1   \n",
              "...            ...           ...           ...           ...        ...   \n",
              "5819             0             0             0             0          0   \n",
              "5820             0             0             1             0          0   \n",
              "5821             0             0             0             0          0   \n",
              "5822             0             0             1             0          0   \n",
              "5823             0             0             0             0          0   \n",
              "\n",
              "      habitat_l  habitat_m  habitat_p  habitat_u  habitat_w  \n",
              "0             0          0          0          1          0  \n",
              "1             0          0          0          0          0  \n",
              "2             0          1          0          0          0  \n",
              "3             0          0          0          1          0  \n",
              "4             0          0          0          0          0  \n",
              "...         ...        ...        ...        ...        ...  \n",
              "5819          1          0          0          0          0  \n",
              "5820          1          0          0          0          0  \n",
              "5821          1          0          0          0          0  \n",
              "5822          1          0          0          0          0  \n",
              "5823          1          0          0          0          0  \n",
              "\n",
              "[5764 rows x 41 columns]"
            ],
            "text/html": [
              "\n",
              "  <div id=\"df-1abbff42-160a-4a4b-b4f4-486cd97adb51\">\n",
              "    <div class=\"colab-df-container\">\n",
              "      <div>\n",
              "<style scoped>\n",
              "    .dataframe tbody tr th:only-of-type {\n",
              "        vertical-align: middle;\n",
              "    }\n",
              "\n",
              "    .dataframe tbody tr th {\n",
              "        vertical-align: top;\n",
              "    }\n",
              "\n",
              "    .dataframe thead th {\n",
              "        text-align: right;\n",
              "    }\n",
              "</style>\n",
              "<table border=\"1\" class=\"dataframe\">\n",
              "  <thead>\n",
              "    <tr style=\"text-align: right;\">\n",
              "      <th></th>\n",
              "      <th>cap-shape_c</th>\n",
              "      <th>cap-shape_f</th>\n",
              "      <th>cap-shape_k</th>\n",
              "      <th>cap-shape_x</th>\n",
              "      <th>cap-surface_g</th>\n",
              "      <th>cap-surface_s</th>\n",
              "      <th>cap-surface_y</th>\n",
              "      <th>bruises_t</th>\n",
              "      <th>odor_c</th>\n",
              "      <th>odor_f</th>\n",
              "      <th>...</th>\n",
              "      <th>population_n</th>\n",
              "      <th>population_s</th>\n",
              "      <th>population_v</th>\n",
              "      <th>population_y</th>\n",
              "      <th>habitat_g</th>\n",
              "      <th>habitat_l</th>\n",
              "      <th>habitat_m</th>\n",
              "      <th>habitat_p</th>\n",
              "      <th>habitat_u</th>\n",
              "      <th>habitat_w</th>\n",
              "    </tr>\n",
              "  </thead>\n",
              "  <tbody>\n",
              "    <tr>\n",
              "      <th>0</th>\n",
              "      <td>0</td>\n",
              "      <td>0</td>\n",
              "      <td>0</td>\n",
              "      <td>1</td>\n",
              "      <td>0</td>\n",
              "      <td>1</td>\n",
              "      <td>0</td>\n",
              "      <td>1</td>\n",
              "      <td>0</td>\n",
              "      <td>0</td>\n",
              "      <td>...</td>\n",
              "      <td>0</td>\n",
              "      <td>1</td>\n",
              "      <td>0</td>\n",
              "      <td>0</td>\n",
              "      <td>0</td>\n",
              "      <td>0</td>\n",
              "      <td>0</td>\n",
              "      <td>0</td>\n",
              "      <td>1</td>\n",
              "      <td>0</td>\n",
              "    </tr>\n",
              "    <tr>\n",
              "      <th>1</th>\n",
              "      <td>0</td>\n",
              "      <td>0</td>\n",
              "      <td>0</td>\n",
              "      <td>1</td>\n",
              "      <td>0</td>\n",
              "      <td>1</td>\n",
              "      <td>0</td>\n",
              "      <td>1</td>\n",
              "      <td>0</td>\n",
              "      <td>0</td>\n",
              "      <td>...</td>\n",
              "      <td>1</td>\n",
              "      <td>0</td>\n",
              "      <td>0</td>\n",
              "      <td>0</td>\n",
              "      <td>1</td>\n",
              "      <td>0</td>\n",
              "      <td>0</td>\n",
              "      <td>0</td>\n",
              "      <td>0</td>\n",
              "      <td>0</td>\n",
              "    </tr>\n",
              "    <tr>\n",
              "      <th>2</th>\n",
              "      <td>0</td>\n",
              "      <td>0</td>\n",
              "      <td>0</td>\n",
              "      <td>0</td>\n",
              "      <td>0</td>\n",
              "      <td>1</td>\n",
              "      <td>0</td>\n",
              "      <td>1</td>\n",
              "      <td>0</td>\n",
              "      <td>0</td>\n",
              "      <td>...</td>\n",
              "      <td>1</td>\n",
              "      <td>0</td>\n",
              "      <td>0</td>\n",
              "      <td>0</td>\n",
              "      <td>0</td>\n",
              "      <td>0</td>\n",
              "      <td>1</td>\n",
              "      <td>0</td>\n",
              "      <td>0</td>\n",
              "      <td>0</td>\n",
              "    </tr>\n",
              "    <tr>\n",
              "      <th>3</th>\n",
              "      <td>0</td>\n",
              "      <td>0</td>\n",
              "      <td>0</td>\n",
              "      <td>1</td>\n",
              "      <td>0</td>\n",
              "      <td>0</td>\n",
              "      <td>1</td>\n",
              "      <td>1</td>\n",
              "      <td>0</td>\n",
              "      <td>0</td>\n",
              "      <td>...</td>\n",
              "      <td>0</td>\n",
              "      <td>1</td>\n",
              "      <td>0</td>\n",
              "      <td>0</td>\n",
              "      <td>0</td>\n",
              "      <td>0</td>\n",
              "      <td>0</td>\n",
              "      <td>0</td>\n",
              "      <td>1</td>\n",
              "      <td>0</td>\n",
              "    </tr>\n",
              "    <tr>\n",
              "      <th>4</th>\n",
              "      <td>0</td>\n",
              "      <td>0</td>\n",
              "      <td>0</td>\n",
              "      <td>1</td>\n",
              "      <td>0</td>\n",
              "      <td>1</td>\n",
              "      <td>0</td>\n",
              "      <td>0</td>\n",
              "      <td>0</td>\n",
              "      <td>0</td>\n",
              "      <td>...</td>\n",
              "      <td>0</td>\n",
              "      <td>0</td>\n",
              "      <td>0</td>\n",
              "      <td>0</td>\n",
              "      <td>1</td>\n",
              "      <td>0</td>\n",
              "      <td>0</td>\n",
              "      <td>0</td>\n",
              "      <td>0</td>\n",
              "      <td>0</td>\n",
              "    </tr>\n",
              "    <tr>\n",
              "      <th>...</th>\n",
              "      <td>...</td>\n",
              "      <td>...</td>\n",
              "      <td>...</td>\n",
              "      <td>...</td>\n",
              "      <td>...</td>\n",
              "      <td>...</td>\n",
              "      <td>...</td>\n",
              "      <td>...</td>\n",
              "      <td>...</td>\n",
              "      <td>...</td>\n",
              "      <td>...</td>\n",
              "      <td>...</td>\n",
              "      <td>...</td>\n",
              "      <td>...</td>\n",
              "      <td>...</td>\n",
              "      <td>...</td>\n",
              "      <td>...</td>\n",
              "      <td>...</td>\n",
              "      <td>...</td>\n",
              "      <td>...</td>\n",
              "      <td>...</td>\n",
              "    </tr>\n",
              "    <tr>\n",
              "      <th>5819</th>\n",
              "      <td>0</td>\n",
              "      <td>0</td>\n",
              "      <td>1</td>\n",
              "      <td>0</td>\n",
              "      <td>0</td>\n",
              "      <td>1</td>\n",
              "      <td>0</td>\n",
              "      <td>0</td>\n",
              "      <td>0</td>\n",
              "      <td>0</td>\n",
              "      <td>...</td>\n",
              "      <td>0</td>\n",
              "      <td>0</td>\n",
              "      <td>0</td>\n",
              "      <td>0</td>\n",
              "      <td>0</td>\n",
              "      <td>1</td>\n",
              "      <td>0</td>\n",
              "      <td>0</td>\n",
              "      <td>0</td>\n",
              "      <td>0</td>\n",
              "    </tr>\n",
              "    <tr>\n",
              "      <th>5820</th>\n",
              "      <td>0</td>\n",
              "      <td>0</td>\n",
              "      <td>0</td>\n",
              "      <td>1</td>\n",
              "      <td>0</td>\n",
              "      <td>1</td>\n",
              "      <td>0</td>\n",
              "      <td>0</td>\n",
              "      <td>0</td>\n",
              "      <td>0</td>\n",
              "      <td>...</td>\n",
              "      <td>0</td>\n",
              "      <td>0</td>\n",
              "      <td>1</td>\n",
              "      <td>0</td>\n",
              "      <td>0</td>\n",
              "      <td>1</td>\n",
              "      <td>0</td>\n",
              "      <td>0</td>\n",
              "      <td>0</td>\n",
              "      <td>0</td>\n",
              "    </tr>\n",
              "    <tr>\n",
              "      <th>5821</th>\n",
              "      <td>0</td>\n",
              "      <td>1</td>\n",
              "      <td>0</td>\n",
              "      <td>0</td>\n",
              "      <td>0</td>\n",
              "      <td>1</td>\n",
              "      <td>0</td>\n",
              "      <td>0</td>\n",
              "      <td>0</td>\n",
              "      <td>0</td>\n",
              "      <td>...</td>\n",
              "      <td>0</td>\n",
              "      <td>0</td>\n",
              "      <td>0</td>\n",
              "      <td>0</td>\n",
              "      <td>0</td>\n",
              "      <td>1</td>\n",
              "      <td>0</td>\n",
              "      <td>0</td>\n",
              "      <td>0</td>\n",
              "      <td>0</td>\n",
              "    </tr>\n",
              "    <tr>\n",
              "      <th>5822</th>\n",
              "      <td>0</td>\n",
              "      <td>0</td>\n",
              "      <td>1</td>\n",
              "      <td>0</td>\n",
              "      <td>0</td>\n",
              "      <td>0</td>\n",
              "      <td>1</td>\n",
              "      <td>0</td>\n",
              "      <td>0</td>\n",
              "      <td>0</td>\n",
              "      <td>...</td>\n",
              "      <td>0</td>\n",
              "      <td>0</td>\n",
              "      <td>1</td>\n",
              "      <td>0</td>\n",
              "      <td>0</td>\n",
              "      <td>1</td>\n",
              "      <td>0</td>\n",
              "      <td>0</td>\n",
              "      <td>0</td>\n",
              "      <td>0</td>\n",
              "    </tr>\n",
              "    <tr>\n",
              "      <th>5823</th>\n",
              "      <td>0</td>\n",
              "      <td>0</td>\n",
              "      <td>0</td>\n",
              "      <td>1</td>\n",
              "      <td>0</td>\n",
              "      <td>1</td>\n",
              "      <td>0</td>\n",
              "      <td>0</td>\n",
              "      <td>0</td>\n",
              "      <td>0</td>\n",
              "      <td>...</td>\n",
              "      <td>0</td>\n",
              "      <td>0</td>\n",
              "      <td>0</td>\n",
              "      <td>0</td>\n",
              "      <td>0</td>\n",
              "      <td>1</td>\n",
              "      <td>0</td>\n",
              "      <td>0</td>\n",
              "      <td>0</td>\n",
              "      <td>0</td>\n",
              "    </tr>\n",
              "  </tbody>\n",
              "</table>\n",
              "<p>5764 rows × 41 columns</p>\n",
              "</div>\n",
              "      <button class=\"colab-df-convert\" onclick=\"convertToInteractive('df-1abbff42-160a-4a4b-b4f4-486cd97adb51')\"\n",
              "              title=\"Convert this dataframe to an interactive table.\"\n",
              "              style=\"display:none;\">\n",
              "        \n",
              "  <svg xmlns=\"http://www.w3.org/2000/svg\" height=\"24px\"viewBox=\"0 0 24 24\"\n",
              "       width=\"24px\">\n",
              "    <path d=\"M0 0h24v24H0V0z\" fill=\"none\"/>\n",
              "    <path d=\"M18.56 5.44l.94 2.06.94-2.06 2.06-.94-2.06-.94-.94-2.06-.94 2.06-2.06.94zm-11 1L8.5 8.5l.94-2.06 2.06-.94-2.06-.94L8.5 2.5l-.94 2.06-2.06.94zm10 10l.94 2.06.94-2.06 2.06-.94-2.06-.94-.94-2.06-.94 2.06-2.06.94z\"/><path d=\"M17.41 7.96l-1.37-1.37c-.4-.4-.92-.59-1.43-.59-.52 0-1.04.2-1.43.59L10.3 9.45l-7.72 7.72c-.78.78-.78 2.05 0 2.83L4 21.41c.39.39.9.59 1.41.59.51 0 1.02-.2 1.41-.59l7.78-7.78 2.81-2.81c.8-.78.8-2.07 0-2.86zM5.41 20L4 18.59l7.72-7.72 1.47 1.35L5.41 20z\"/>\n",
              "  </svg>\n",
              "      </button>\n",
              "      \n",
              "  <style>\n",
              "    .colab-df-container {\n",
              "      display:flex;\n",
              "      flex-wrap:wrap;\n",
              "      gap: 12px;\n",
              "    }\n",
              "\n",
              "    .colab-df-convert {\n",
              "      background-color: #E8F0FE;\n",
              "      border: none;\n",
              "      border-radius: 50%;\n",
              "      cursor: pointer;\n",
              "      display: none;\n",
              "      fill: #1967D2;\n",
              "      height: 32px;\n",
              "      padding: 0 0 0 0;\n",
              "      width: 32px;\n",
              "    }\n",
              "\n",
              "    .colab-df-convert:hover {\n",
              "      background-color: #E2EBFA;\n",
              "      box-shadow: 0px 1px 2px rgba(60, 64, 67, 0.3), 0px 1px 3px 1px rgba(60, 64, 67, 0.15);\n",
              "      fill: #174EA6;\n",
              "    }\n",
              "\n",
              "    [theme=dark] .colab-df-convert {\n",
              "      background-color: #3B4455;\n",
              "      fill: #D2E3FC;\n",
              "    }\n",
              "\n",
              "    [theme=dark] .colab-df-convert:hover {\n",
              "      background-color: #434B5C;\n",
              "      box-shadow: 0px 1px 3px 1px rgba(0, 0, 0, 0.15);\n",
              "      filter: drop-shadow(0px 1px 2px rgba(0, 0, 0, 0.3));\n",
              "      fill: #FFFFFF;\n",
              "    }\n",
              "  </style>\n",
              "\n",
              "      <script>\n",
              "        const buttonEl =\n",
              "          document.querySelector('#df-1abbff42-160a-4a4b-b4f4-486cd97adb51 button.colab-df-convert');\n",
              "        buttonEl.style.display =\n",
              "          google.colab.kernel.accessAllowed ? 'block' : 'none';\n",
              "\n",
              "        async function convertToInteractive(key) {\n",
              "          const element = document.querySelector('#df-1abbff42-160a-4a4b-b4f4-486cd97adb51');\n",
              "          const dataTable =\n",
              "            await google.colab.kernel.invokeFunction('convertToInteractive',\n",
              "                                                     [key], {});\n",
              "          if (!dataTable) return;\n",
              "\n",
              "          const docLinkHtml = 'Like what you see? Visit the ' +\n",
              "            '<a target=\"_blank\" href=https://colab.research.google.com/notebooks/data_table.ipynb>data table notebook</a>'\n",
              "            + ' to learn more about interactive tables.';\n",
              "          element.innerHTML = '';\n",
              "          dataTable['output_type'] = 'display_data';\n",
              "          await google.colab.output.renderOutput(dataTable, element);\n",
              "          const docLink = document.createElement('div');\n",
              "          docLink.innerHTML = docLinkHtml;\n",
              "          element.appendChild(docLink);\n",
              "        }\n",
              "      </script>\n",
              "    </div>\n",
              "  </div>\n",
              "  "
            ]
          },
          "metadata": {},
          "execution_count": 93
        }
      ]
    },
    {
      "cell_type": "code",
      "source": [
        "df=pd.concat([df,dummy_df],axis=1)\n",
        "df=df.drop(dummies_columns,axis=1)"
      ],
      "metadata": {
        "id": "JawMwYGlJz-l"
      },
      "execution_count": 94,
      "outputs": []
    },
    {
      "cell_type": "code",
      "source": [
        "print(df.info())"
      ],
      "metadata": {
        "colab": {
          "base_uri": "https://localhost:8080/"
        },
        "id": "adQhGwd4DuMJ",
        "outputId": "f88a1f3a-9cca-4769-f783-69ff74ff8710"
      },
      "execution_count": 95,
      "outputs": [
        {
          "output_type": "stream",
          "name": "stdout",
          "text": [
            "<class 'pandas.core.frame.DataFrame'>\n",
            "Int64Index: 5764 entries, 0 to 5823\n",
            "Data columns (total 44 columns):\n",
            " #   Column               Non-Null Count  Dtype  \n",
            "---  ------               --------------  -----  \n",
            " 0   id                   5764 non-null   int64  \n",
            " 1   label                5764 non-null   int64  \n",
            " 2   cap-color-rate       5764 non-null   float64\n",
            " 3   cap-shape_c          5764 non-null   uint8  \n",
            " 4   cap-shape_f          5764 non-null   uint8  \n",
            " 5   cap-shape_k          5764 non-null   uint8  \n",
            " 6   cap-shape_x          5764 non-null   uint8  \n",
            " 7   cap-surface_g        5764 non-null   uint8  \n",
            " 8   cap-surface_s        5764 non-null   uint8  \n",
            " 9   cap-surface_y        5764 non-null   uint8  \n",
            " 10  bruises_t            5764 non-null   uint8  \n",
            " 11  odor_c               5764 non-null   uint8  \n",
            " 12  odor_f               5764 non-null   uint8  \n",
            " 13  odor_l               5764 non-null   uint8  \n",
            " 14  odor_m               5764 non-null   uint8  \n",
            " 15  odor_n               5764 non-null   uint8  \n",
            " 16  odor_p               5764 non-null   uint8  \n",
            " 17  odor_s               5764 non-null   uint8  \n",
            " 18  odor_y               5764 non-null   uint8  \n",
            " 19  stalk-shape_t        5764 non-null   uint8  \n",
            " 20  ring-number_o        5764 non-null   uint8  \n",
            " 21  ring-number_t        5764 non-null   uint8  \n",
            " 22  ring-type_f          5764 non-null   uint8  \n",
            " 23  ring-type_l          5764 non-null   uint8  \n",
            " 24  ring-type_n          5764 non-null   uint8  \n",
            " 25  ring-type_p          5764 non-null   uint8  \n",
            " 26  spore-print-color_h  5764 non-null   uint8  \n",
            " 27  spore-print-color_k  5764 non-null   uint8  \n",
            " 28  spore-print-color_n  5764 non-null   uint8  \n",
            " 29  spore-print-color_o  5764 non-null   uint8  \n",
            " 30  spore-print-color_r  5764 non-null   uint8  \n",
            " 31  spore-print-color_w  5764 non-null   uint8  \n",
            " 32  spore-print-color_y  5764 non-null   uint8  \n",
            " 33  population_c         5764 non-null   uint8  \n",
            " 34  population_n         5764 non-null   uint8  \n",
            " 35  population_s         5764 non-null   uint8  \n",
            " 36  population_v         5764 non-null   uint8  \n",
            " 37  population_y         5764 non-null   uint8  \n",
            " 38  habitat_g            5764 non-null   uint8  \n",
            " 39  habitat_l            5764 non-null   uint8  \n",
            " 40  habitat_m            5764 non-null   uint8  \n",
            " 41  habitat_p            5764 non-null   uint8  \n",
            " 42  habitat_u            5764 non-null   uint8  \n",
            " 43  habitat_w            5764 non-null   uint8  \n",
            "dtypes: float64(1), int64(2), uint8(41)\n",
            "memory usage: 410.9 KB\n",
            "None\n"
          ]
        }
      ]
    },
    {
      "cell_type": "markdown",
      "source": [
        "# 8. Split train/test with 20% test, stratify, and seed = 2020."
      ],
      "metadata": {
        "id": "NQR25MeWz6yQ"
      }
    },
    {
      "cell_type": "code",
      "source": [
        "from sklearn.model_selection import train_test_split"
      ],
      "metadata": {
        "id": "dAVFq1VMlRsF"
      },
      "execution_count": 96,
      "outputs": []
    },
    {
      "cell_type": "code",
      "source": [
        "X = df.drop(['label','id'],axis=1)\n",
        "y = df['label']\n",
        "\n",
        "X_train, X_test, y_train, y_test = train_test_split(X, y, stratify=y, test_size=0.20, random_state=2020) ## create train test df\n"
      ],
      "metadata": {
        "id": "1RAXl1SNry8f"
      },
      "execution_count": 97,
      "outputs": []
    },
    {
      "cell_type": "code",
      "source": [
        "print('Train->',y_train.shape,'Test->',y_test.shape)"
      ],
      "metadata": {
        "colab": {
          "base_uri": "https://localhost:8080/"
        },
        "id": "cRh0mV_rBCcx",
        "outputId": "9e23842d-edd3-4c63-eec3-496d4908411c"
      },
      "execution_count": 98,
      "outputs": [
        {
          "output_type": "stream",
          "name": "stdout",
          "text": [
            "Train-> (4611,) Test-> (1153,)\n"
          ]
        }
      ]
    },
    {
      "cell_type": "markdown",
      "source": [
        "# 9. Create a Random Forest with GridSearch on training data with 5 CV, random state 2020. \n",
        "#​'criterion':['gini','entropy']\n",
        "#'max_depth': [2,3,6]\n",
        "#'min_samples_leaf':[2,5,10]\n",
        "#'N_estimators':[100,200]"
      ],
      "metadata": {
        "id": "ZTjhrNUmz_cO"
      }
    },
    {
      "cell_type": "code",
      "source": [
        "from sklearn.model_selection import GridSearchCV\n",
        "from sklearn.ensemble import RandomForestClassifier"
      ],
      "metadata": {
        "id": "5VRIEkU42-5N"
      },
      "execution_count": 99,
      "outputs": []
    },
    {
      "cell_type": "code",
      "source": [
        "param_grid = { \n",
        "'criterion':['gini','entropy'],\n",
        "'max_depth': [2,3,6],\n",
        "'min_samples_leaf':[2,5,10],\n",
        "'n_estimators':[100,200]\n",
        "}"
      ],
      "metadata": {
        "id": "IbDpzAJ74ipE"
      },
      "execution_count": 100,
      "outputs": []
    },
    {
      "cell_type": "code",
      "source": [
        "grid_search = GridSearchCV(estimator=RandomForestClassifier(random_state=2020),param_grid=param_grid,cv=5,n_jobs=-1)\n",
        "\n",
        "grid_search.fit(X_train, y_train) # grid search\n"
      ],
      "metadata": {
        "colab": {
          "base_uri": "https://localhost:8080/"
        },
        "id": "DK6vHe-s2-x_",
        "outputId": "ee960579-dd94-43f4-9f7a-ab1a329194b4"
      },
      "execution_count": 101,
      "outputs": [
        {
          "output_type": "execute_result",
          "data": {
            "text/plain": [
              "GridSearchCV(cv=5, estimator=RandomForestClassifier(random_state=2020),\n",
              "             n_jobs=-1,\n",
              "             param_grid={'criterion': ['gini', 'entropy'],\n",
              "                         'max_depth': [2, 3, 6], 'min_samples_leaf': [2, 5, 10],\n",
              "                         'n_estimators': [100, 200]})"
            ]
          },
          "metadata": {},
          "execution_count": 101
        }
      ]
    },
    {
      "cell_type": "code",
      "source": [
        "x=grid_search.best_params_ ## select this parameter to continue\n",
        "x"
      ],
      "metadata": {
        "colab": {
          "base_uri": "https://localhost:8080/"
        },
        "id": "OFgpQmI028YY",
        "outputId": "e21e2325-4632-41b2-a0d2-1f6d54b41f44"
      },
      "execution_count": 102,
      "outputs": [
        {
          "output_type": "execute_result",
          "data": {
            "text/plain": [
              "{'criterion': 'gini',\n",
              " 'max_depth': 6,\n",
              " 'min_samples_leaf': 2,\n",
              " 'n_estimators': 100}"
            ]
          },
          "metadata": {},
          "execution_count": 102
        }
      ]
    },
    {
      "cell_type": "code",
      "source": [
        "model=RandomForestClassifier(criterion= 'gini', max_depth= 6,min_samples_leaf= 2, n_estimators = 100 ,random_state=2020) # train again using best parameter\n",
        "\n",
        "model.fit(X_train, y_train)"
      ],
      "metadata": {
        "colab": {
          "base_uri": "https://localhost:8080/"
        },
        "id": "YIWoy7z0-vEe",
        "outputId": "ee9b565c-c6ea-4861-af42-1de8138f6888"
      },
      "execution_count": 106,
      "outputs": [
        {
          "output_type": "execute_result",
          "data": {
            "text/plain": [
              "RandomForestClassifier(max_depth=6, min_samples_leaf=2, random_state=2020)"
            ]
          },
          "metadata": {},
          "execution_count": 106
        }
      ]
    },
    {
      "cell_type": "markdown",
      "source": [
        "# 10.Predict the testing data set with confusion_matrix and classification_report."
      ],
      "metadata": {
        "id": "BH0P4qns0COG"
      }
    },
    {
      "cell_type": "code",
      "source": [
        "from sklearn.metrics import classification_report,confusion_matrix"
      ],
      "metadata": {
        "id": "DFSRtxDL9ZVv"
      },
      "execution_count": 107,
      "outputs": []
    },
    {
      "cell_type": "code",
      "source": [
        "y_pred=model.predict(X_test)\n",
        "print(classification_report(y_test,y_pred,digits=4)) ## classification report\n",
        "\n",
        "print(confusion_matrix(y_test,y_pred,labels=[0,1])) ## confusion matrix"
      ],
      "metadata": {
        "colab": {
          "base_uri": "https://localhost:8080/"
        },
        "id": "lLWe5SkO9av5",
        "outputId": "8ab67c3b-25d8-4c48-d8e3-6f47dbaa5f1b"
      },
      "execution_count": 108,
      "outputs": [
        {
          "output_type": "stream",
          "name": "stdout",
          "text": [
            "              precision    recall  f1-score   support\n",
            "\n",
            "           0     0.9932    0.9986    0.9959       732\n",
            "           1     0.9976    0.9881    0.9928       421\n",
            "\n",
            "    accuracy                         0.9948      1153\n",
            "   macro avg     0.9954    0.9934    0.9944      1153\n",
            "weighted avg     0.9948    0.9948    0.9948      1153\n",
            "\n",
            "[[731   1]\n",
            " [  5 416]]\n"
          ]
        }
      ]
    },
    {
      "cell_type": "code",
      "source": [],
      "metadata": {
        "id": "1v_e5YzGIAgU"
      },
      "execution_count": 105,
      "outputs": []
    }
  ]
}