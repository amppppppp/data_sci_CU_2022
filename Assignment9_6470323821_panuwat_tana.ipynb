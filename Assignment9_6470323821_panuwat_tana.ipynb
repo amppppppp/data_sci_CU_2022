{
  "cells": [
    {
      "cell_type": "markdown",
      "metadata": {
        "id": "view-in-github",
        "colab_type": "text"
      },
      "source": [
        "<a href=\"https://colab.research.google.com/github/amppppppp/data_sci_CU_2022/blob/main/Assignment9_6470323821_panuwat_tana.ipynb\" target=\"_parent\"><img src=\"https://colab.research.google.com/assets/colab-badge.svg\" alt=\"Open In Colab\"/></a>"
      ]
    },
    {
      "cell_type": "markdown",
      "metadata": {
        "id": "jQyqolyMtOxY"
      },
      "source": [
        "# Assignment: Extracting Static WebPage\n",
        "\n",
        "Extract information about “วันพระ” for 3 years from:\n",
        "- https://www.myhora.com/ปฏิทิน/วันพระ-พ.ศ.2563.aspx\n",
        "- https://www.myhora.com/ปฏิทิน/วันพระ-พ.ศ.2564.aspx\n",
        "- https://www.myhora.com/ปฏิทิน/วันพระ-พ.ศ.2565.aspx\n"
      ]
    },
    {
      "cell_type": "markdown",
      "metadata": {
        "id": "izIWejeLtOxe"
      },
      "source": [
        "Note that you can use dateparse package to parse Thai date.  First, we will have to install the package, this is for Google Colab users.  Otherwise, installing via command line is recommended (pip or conda)."
      ]
    },
    {
      "cell_type": "code",
      "execution_count": null,
      "metadata": {
        "scrolled": true,
        "id": "6h3ZcSA5tOxg",
        "colab": {
          "base_uri": "https://localhost:8080/"
        },
        "outputId": "0181c264-a565-4069-d5be-d2c68818bd68"
      },
      "outputs": [
        {
          "output_type": "stream",
          "name": "stdout",
          "text": [
            "Looking in indexes: https://pypi.org/simple, https://us-python.pkg.dev/colab-wheels/public/simple/\n",
            "Collecting dateparser\n",
            "  Downloading dateparser-1.1.2-py2.py3-none-any.whl (290 kB)\n",
            "\u001b[K     |████████████████████████████████| 290 kB 5.2 MB/s \n",
            "\u001b[?25hRequirement already satisfied: tzlocal in /usr/local/lib/python3.7/dist-packages (from dateparser) (1.5.1)\n",
            "Requirement already satisfied: pytz in /usr/local/lib/python3.7/dist-packages (from dateparser) (2022.4)\n",
            "Requirement already satisfied: python-dateutil in /usr/local/lib/python3.7/dist-packages (from dateparser) (2.8.2)\n",
            "Collecting regex!=2019.02.19,!=2021.8.27,<2022.3.15\n",
            "  Downloading regex-2022.3.2-cp37-cp37m-manylinux_2_17_x86_64.manylinux2014_x86_64.whl (749 kB)\n",
            "\u001b[K     |████████████████████████████████| 749 kB 49.7 MB/s \n",
            "\u001b[?25hRequirement already satisfied: six>=1.5 in /usr/local/lib/python3.7/dist-packages (from python-dateutil->dateparser) (1.15.0)\n",
            "Installing collected packages: regex, dateparser\n",
            "  Attempting uninstall: regex\n",
            "    Found existing installation: regex 2022.6.2\n",
            "    Uninstalling regex-2022.6.2:\n",
            "      Successfully uninstalled regex-2022.6.2\n",
            "Successfully installed dateparser-1.1.2 regex-2022.3.2\n"
          ]
        }
      ],
      "source": [
        "import sys\n",
        "IN_COLAB = 'google.colab' in sys.modules\n",
        "if IN_COLAB:\n",
        "    %pip install dateparser"
      ]
    },
    {
      "cell_type": "code",
      "execution_count": null,
      "metadata": {
        "id": "9JiUOM_wtOxh"
      },
      "outputs": [],
      "source": [
        "import dateparser"
      ]
    },
    {
      "cell_type": "markdown",
      "metadata": {
        "id": "kI1UIh-wtOxi"
      },
      "source": [
        "To convert from thai text date string, we will use the parse method.  Note that the parse method assumes the BC year, not BE.  Thus, we will have to subtract 543 from the year.  In addition, weekday() returns day of week with 0=Monday, ..., 6=Sunday."
      ]
    },
    {
      "cell_type": "code",
      "execution_count": null,
      "metadata": {
        "id": "t0_lBJArtOxi",
        "colab": {
          "base_uri": "https://localhost:8080/"
        },
        "outputId": "fe59859e-8968-4bf3-fdda-e5460e5709c6"
      },
      "outputs": [
        {
          "output_type": "stream",
          "name": "stdout",
          "text": [
            "2563-01-17 00:00:00\n",
            "0\n",
            "2020-01-17 00:00:00\n",
            "4\n"
          ]
        }
      ],
      "source": [
        "dt = dateparser.parse('วันศุกร์ที่ 17 มกราคม 2563')\n",
        "\n",
        "# this will print out weekday == 0 (Monday)\n",
        "print(dt)\n",
        "print(dt.weekday())\n",
        "\"\"\n",
        "# this will print out weekday == 4 (Friday)\n",
        "dt = dt.replace(year=dt.year-543)\n",
        "print(dt)\n",
        "print(dt.weekday())"
      ]
    },
    {
      "cell_type": "code",
      "execution_count": null,
      "metadata": {
        "id": "VUkivNastOxj",
        "colab": {
          "base_uri": "https://localhost:8080/"
        },
        "outputId": "009fe38f-4e47-4ab1-8547-de315c23cb11"
      },
      "outputs": [
        {
          "output_type": "stream",
          "name": "stdout",
          "text": [
            "2021-09-21 00:00:00\n",
            "1\n"
          ]
        }
      ],
      "source": [
        "dt = dateparser.parse('วันเสาร์ที่ 21 กันยายน 2564')\n",
        "dt = dt.replace(year=dt.year-543)\n",
        "print(dt)\n",
        "print(dt.weekday())"
      ]
    },
    {
      "cell_type": "code",
      "source": [
        "import requests\n",
        "import re\n",
        "from bs4 import BeautifulSoup\n",
        "import pandas as pd\n",
        "link=['https://www.myhora.com/ปฏิทิน/วันพระ-พ.ศ.2563.aspx','https://www.myhora.com/ปฏิทิน/วันพระ-พ.ศ.2564.aspx','https://www.myhora.com/ปฏิทิน/วันพระ-พ.ศ.2565.aspx']\n",
        "#holiday= requests.get('https://www.myhora.com/ปฏิทิน/วันพระ-พ.ศ.2563.aspx')\n",
        "#soup=BeautifulSoup(holiday.text,\"lxml\")\n"
      ],
      "metadata": {
        "id": "Bpw6iJEUtkls"
      },
      "execution_count": null,
      "outputs": []
    },
    {
      "cell_type": "code",
      "source": [
        "year=[]\n",
        "x=[]\n",
        "for l in link:\n",
        "  holiday=requests.get(l)\n",
        "  soup=BeautifulSoup(holiday.text,\"lxml\")\n",
        "  for i in soup.find_all(\"div\", attrs={\"class\": \"bud-day\"}):\n",
        "      x.append(i.text)\n",
        "      year.append(l[-9:-5])"
      ],
      "metadata": {
        "id": "51mo3aMkvLgc"
      },
      "execution_count": null,
      "outputs": []
    },
    {
      "cell_type": "code",
      "source": [
        "dict={'year':year,'date':x}\n",
        "output=pd.DataFrame(dict)"
      ],
      "metadata": {
        "id": "4laO0uYyuB_W"
      },
      "execution_count": null,
      "outputs": []
    },
    {
      "cell_type": "code",
      "source": [
        "output"
      ],
      "metadata": {
        "colab": {
          "base_uri": "https://localhost:8080/",
          "height": 424
        },
        "id": "pGkLFjbDvrfZ",
        "outputId": "5244b522-c19f-4857-ea46-e91454a31074"
      },
      "execution_count": null,
      "outputs": [
        {
          "output_type": "execute_result",
          "data": {
            "text/plain": [
              "     year                                               date\n",
              "0    2563  วันพฤหัสบดีที่ 2 มกราคม 2563ขึ้น ๘ ค่ำ เดือนยี...\n",
              "1    2563  วันพฤหัสบดีที่ 9 มกราคม 2563ขึ้น ๑๕ ค่ำ เดือนย...\n",
              "2    2563  วันศุกร์ที่ 17 มกราคม 2563แรม ๘ ค่ำ เดือนยี่(๒...\n",
              "3    2563  วันศุกร์ที่ 24 มกราคม 2563แรม ๑๕ ค่ำ เดือนยี่(...\n",
              "4    2563  วันเสาร์ที่ 1 กุมภาพันธ์ 2563ขึ้น ๘ ค่ำ เดือนส...\n",
              "..    ...                                                ...\n",
              "147  2565  วันพฤหัสบดีที่ 1 ธันวาคม 2565ขึ้น ๘ ค่ำ เดือนอ...\n",
              "148  2565  วันพฤหัสบดีที่ 8 ธันวาคม 2565ขึ้น ๑๕ ค่ำ เดือน...\n",
              "149  2565  วันศุกร์ที่ 16 ธันวาคม 2565แรม ๘ ค่ำ เดือนอ้าย...\n",
              "150  2565  วันพฤหัสบดีที่ 22 ธันวาคม 2565แรม ๑๔ ค่ำ เดือน...\n",
              "151  2565  วันศุกร์ที่ 30 ธันวาคม 2565ขึ้น ๘ ค่ำ เดือนยี่...\n",
              "\n",
              "[152 rows x 2 columns]"
            ],
            "text/html": [
              "\n",
              "  <div id=\"df-5d011134-a23f-4dcd-9f70-526b7e4747dc\">\n",
              "    <div class=\"colab-df-container\">\n",
              "      <div>\n",
              "<style scoped>\n",
              "    .dataframe tbody tr th:only-of-type {\n",
              "        vertical-align: middle;\n",
              "    }\n",
              "\n",
              "    .dataframe tbody tr th {\n",
              "        vertical-align: top;\n",
              "    }\n",
              "\n",
              "    .dataframe thead th {\n",
              "        text-align: right;\n",
              "    }\n",
              "</style>\n",
              "<table border=\"1\" class=\"dataframe\">\n",
              "  <thead>\n",
              "    <tr style=\"text-align: right;\">\n",
              "      <th></th>\n",
              "      <th>year</th>\n",
              "      <th>date</th>\n",
              "    </tr>\n",
              "  </thead>\n",
              "  <tbody>\n",
              "    <tr>\n",
              "      <th>0</th>\n",
              "      <td>2563</td>\n",
              "      <td>วันพฤหัสบดีที่ 2 มกราคม 2563ขึ้น ๘ ค่ำ เดือนยี...</td>\n",
              "    </tr>\n",
              "    <tr>\n",
              "      <th>1</th>\n",
              "      <td>2563</td>\n",
              "      <td>วันพฤหัสบดีที่ 9 มกราคม 2563ขึ้น ๑๕ ค่ำ เดือนย...</td>\n",
              "    </tr>\n",
              "    <tr>\n",
              "      <th>2</th>\n",
              "      <td>2563</td>\n",
              "      <td>วันศุกร์ที่ 17 มกราคม 2563แรม ๘ ค่ำ เดือนยี่(๒...</td>\n",
              "    </tr>\n",
              "    <tr>\n",
              "      <th>3</th>\n",
              "      <td>2563</td>\n",
              "      <td>วันศุกร์ที่ 24 มกราคม 2563แรม ๑๕ ค่ำ เดือนยี่(...</td>\n",
              "    </tr>\n",
              "    <tr>\n",
              "      <th>4</th>\n",
              "      <td>2563</td>\n",
              "      <td>วันเสาร์ที่ 1 กุมภาพันธ์ 2563ขึ้น ๘ ค่ำ เดือนส...</td>\n",
              "    </tr>\n",
              "    <tr>\n",
              "      <th>...</th>\n",
              "      <td>...</td>\n",
              "      <td>...</td>\n",
              "    </tr>\n",
              "    <tr>\n",
              "      <th>147</th>\n",
              "      <td>2565</td>\n",
              "      <td>วันพฤหัสบดีที่ 1 ธันวาคม 2565ขึ้น ๘ ค่ำ เดือนอ...</td>\n",
              "    </tr>\n",
              "    <tr>\n",
              "      <th>148</th>\n",
              "      <td>2565</td>\n",
              "      <td>วันพฤหัสบดีที่ 8 ธันวาคม 2565ขึ้น ๑๕ ค่ำ เดือน...</td>\n",
              "    </tr>\n",
              "    <tr>\n",
              "      <th>149</th>\n",
              "      <td>2565</td>\n",
              "      <td>วันศุกร์ที่ 16 ธันวาคม 2565แรม ๘ ค่ำ เดือนอ้าย...</td>\n",
              "    </tr>\n",
              "    <tr>\n",
              "      <th>150</th>\n",
              "      <td>2565</td>\n",
              "      <td>วันพฤหัสบดีที่ 22 ธันวาคม 2565แรม ๑๔ ค่ำ เดือน...</td>\n",
              "    </tr>\n",
              "    <tr>\n",
              "      <th>151</th>\n",
              "      <td>2565</td>\n",
              "      <td>วันศุกร์ที่ 30 ธันวาคม 2565ขึ้น ๘ ค่ำ เดือนยี่...</td>\n",
              "    </tr>\n",
              "  </tbody>\n",
              "</table>\n",
              "<p>152 rows × 2 columns</p>\n",
              "</div>\n",
              "      <button class=\"colab-df-convert\" onclick=\"convertToInteractive('df-5d011134-a23f-4dcd-9f70-526b7e4747dc')\"\n",
              "              title=\"Convert this dataframe to an interactive table.\"\n",
              "              style=\"display:none;\">\n",
              "        \n",
              "  <svg xmlns=\"http://www.w3.org/2000/svg\" height=\"24px\"viewBox=\"0 0 24 24\"\n",
              "       width=\"24px\">\n",
              "    <path d=\"M0 0h24v24H0V0z\" fill=\"none\"/>\n",
              "    <path d=\"M18.56 5.44l.94 2.06.94-2.06 2.06-.94-2.06-.94-.94-2.06-.94 2.06-2.06.94zm-11 1L8.5 8.5l.94-2.06 2.06-.94-2.06-.94L8.5 2.5l-.94 2.06-2.06.94zm10 10l.94 2.06.94-2.06 2.06-.94-2.06-.94-.94-2.06-.94 2.06-2.06.94z\"/><path d=\"M17.41 7.96l-1.37-1.37c-.4-.4-.92-.59-1.43-.59-.52 0-1.04.2-1.43.59L10.3 9.45l-7.72 7.72c-.78.78-.78 2.05 0 2.83L4 21.41c.39.39.9.59 1.41.59.51 0 1.02-.2 1.41-.59l7.78-7.78 2.81-2.81c.8-.78.8-2.07 0-2.86zM5.41 20L4 18.59l7.72-7.72 1.47 1.35L5.41 20z\"/>\n",
              "  </svg>\n",
              "      </button>\n",
              "      \n",
              "  <style>\n",
              "    .colab-df-container {\n",
              "      display:flex;\n",
              "      flex-wrap:wrap;\n",
              "      gap: 12px;\n",
              "    }\n",
              "\n",
              "    .colab-df-convert {\n",
              "      background-color: #E8F0FE;\n",
              "      border: none;\n",
              "      border-radius: 50%;\n",
              "      cursor: pointer;\n",
              "      display: none;\n",
              "      fill: #1967D2;\n",
              "      height: 32px;\n",
              "      padding: 0 0 0 0;\n",
              "      width: 32px;\n",
              "    }\n",
              "\n",
              "    .colab-df-convert:hover {\n",
              "      background-color: #E2EBFA;\n",
              "      box-shadow: 0px 1px 2px rgba(60, 64, 67, 0.3), 0px 1px 3px 1px rgba(60, 64, 67, 0.15);\n",
              "      fill: #174EA6;\n",
              "    }\n",
              "\n",
              "    [theme=dark] .colab-df-convert {\n",
              "      background-color: #3B4455;\n",
              "      fill: #D2E3FC;\n",
              "    }\n",
              "\n",
              "    [theme=dark] .colab-df-convert:hover {\n",
              "      background-color: #434B5C;\n",
              "      box-shadow: 0px 1px 3px 1px rgba(0, 0, 0, 0.15);\n",
              "      filter: drop-shadow(0px 1px 2px rgba(0, 0, 0, 0.3));\n",
              "      fill: #FFFFFF;\n",
              "    }\n",
              "  </style>\n",
              "\n",
              "      <script>\n",
              "        const buttonEl =\n",
              "          document.querySelector('#df-5d011134-a23f-4dcd-9f70-526b7e4747dc button.colab-df-convert');\n",
              "        buttonEl.style.display =\n",
              "          google.colab.kernel.accessAllowed ? 'block' : 'none';\n",
              "\n",
              "        async function convertToInteractive(key) {\n",
              "          const element = document.querySelector('#df-5d011134-a23f-4dcd-9f70-526b7e4747dc');\n",
              "          const dataTable =\n",
              "            await google.colab.kernel.invokeFunction('convertToInteractive',\n",
              "                                                     [key], {});\n",
              "          if (!dataTable) return;\n",
              "\n",
              "          const docLinkHtml = 'Like what you see? Visit the ' +\n",
              "            '<a target=\"_blank\" href=https://colab.research.google.com/notebooks/data_table.ipynb>data table notebook</a>'\n",
              "            + ' to learn more about interactive tables.';\n",
              "          element.innerHTML = '';\n",
              "          dataTable['output_type'] = 'display_data';\n",
              "          await google.colab.output.renderOutput(dataTable, element);\n",
              "          const docLink = document.createElement('div');\n",
              "          docLink.innerHTML = docLinkHtml;\n",
              "          element.appendChild(docLink);\n",
              "        }\n",
              "      </script>\n",
              "    </div>\n",
              "  </div>\n",
              "  "
            ]
          },
          "metadata": {},
          "execution_count": 10
        }
      ]
    },
    {
      "cell_type": "markdown",
      "metadata": {
        "id": "gEN-qT4utOxj"
      },
      "source": [
        "Count the distribution of number of week days that are “วันพระ” for all three years and answer the following questions:"
      ]
    },
    {
      "cell_type": "markdown",
      "metadata": {
        "id": "5Fg7219itOxm"
      },
      "source": [
        "## How many วันพระ in total (of 3 years)?"
      ]
    },
    {
      "cell_type": "code",
      "execution_count": null,
      "metadata": {
        "id": "1PaAqcoEtOxn",
        "colab": {
          "base_uri": "https://localhost:8080/"
        },
        "outputId": "842227a9-f3f9-4e92-e5a9-5ebf141b353a"
      },
      "outputs": [
        {
          "output_type": "stream",
          "name": "stdout",
          "text": [
            "152\n"
          ]
        }
      ],
      "source": [
        "print(len(output))"
      ]
    },
    {
      "cell_type": "markdown",
      "metadata": {
        "id": "qklSF10gtOxn"
      },
      "source": [
        "## How many days in total (of 3 years) that วันพระ is Sunday?"
      ]
    },
    {
      "cell_type": "code",
      "source": [
        "sunday=[]\n",
        "textsunday=\"อาทิตย์\"\n",
        "for s in output['date']:\n",
        "    if s.find(textsunday) !=-1:\n",
        "      sunday.append(s)\n",
        "len(sunday)"
      ],
      "metadata": {
        "colab": {
          "base_uri": "https://localhost:8080/"
        },
        "id": "AYEcce_x-_Vo",
        "outputId": "84d587a9-9a98-4dd7-f1a7-33876c8595e9"
      },
      "execution_count": null,
      "outputs": [
        {
          "output_type": "execute_result",
          "data": {
            "text/plain": [
              "21"
            ]
          },
          "metadata": {},
          "execution_count": 14
        }
      ]
    },
    {
      "cell_type": "markdown",
      "metadata": {
        "id": "yYmfxfKEtOxo"
      },
      "source": [
        "## Which day of the week that has the minimum number of วันพระ?"
      ]
    },
    {
      "cell_type": "code",
      "execution_count": null,
      "metadata": {
        "id": "W6_IbgZytOxo",
        "colab": {
          "base_uri": "https://localhost:8080/"
        },
        "outputId": "1fa82c9f-db41-4ab4-d70f-03e4d5a9a9e8"
      },
      "outputs": [
        {
          "output_type": "execute_result",
          "data": {
            "text/plain": [
              "[21, 22, 22, 21, 24, 22, 20]"
            ]
          },
          "metadata": {},
          "execution_count": 16
        }
      ],
      "source": [
        "weekday=['อาทิตย์','จันทร์','อังคาร','พุธ','พฤหัสบดี','ศุกร์','เสาร์']\n",
        "NoDay=[]\n",
        "for i in weekday:\n",
        "  day=[]\n",
        "  for s in output['date']:\n",
        "      \n",
        "      if s.find(i) !=-1:\n",
        "        day.append(s)\n",
        "  NoDay.append(len(day))\n",
        "NoDay"
      ]
    },
    {
      "cell_type": "code",
      "source": [
        "min(NoDay)\n",
        "weekday[NoDay.index(min(NoDay))]"
      ],
      "metadata": {
        "colab": {
          "base_uri": "https://localhost:8080/",
          "height": 35
        },
        "id": "_UwXb4NiNwIP",
        "outputId": "a77f7610-a8b8-4f7b-9866-52ced7f892f8"
      },
      "execution_count": null,
      "outputs": [
        {
          "output_type": "execute_result",
          "data": {
            "text/plain": [
              "'เสาร์'"
            ],
            "application/vnd.google.colaboratory.intrinsic+json": {
              "type": "string"
            }
          },
          "metadata": {},
          "execution_count": 17
        }
      ]
    },
    {
      "cell_type": "markdown",
      "metadata": {
        "id": "JjlhAjQWtOxp"
      },
      "source": [
        "## Which day of the week that has the maximum number of วันพระ?"
      ]
    },
    {
      "cell_type": "code",
      "execution_count": null,
      "metadata": {
        "id": "JJUG3LyhtOxp",
        "colab": {
          "base_uri": "https://localhost:8080/",
          "height": 35
        },
        "outputId": "dc931d24-ae27-4fe5-cda4-2ab4e43a0a3e"
      },
      "outputs": [
        {
          "output_type": "execute_result",
          "data": {
            "text/plain": [
              "'พฤหัสบดี'"
            ],
            "application/vnd.google.colaboratory.intrinsic+json": {
              "type": "string"
            }
          },
          "metadata": {},
          "execution_count": 18
        }
      ],
      "source": [
        "\n",
        "weekday[NoDay.index(max(NoDay))]"
      ]
    }
  ],
  "metadata": {
    "kernelspec": {
      "display_name": "Python 3 (ipykernel)",
      "language": "python",
      "name": "python3"
    },
    "language_info": {
      "codemirror_mode": {
        "name": "ipython",
        "version": 3
      },
      "file_extension": ".py",
      "mimetype": "text/x-python",
      "name": "python",
      "nbconvert_exporter": "python",
      "pygments_lexer": "ipython3",
      "version": "3.9.7"
    },
    "toc": {
      "base_numbering": 1,
      "nav_menu": {},
      "number_sections": true,
      "sideBar": true,
      "skip_h1_title": false,
      "title_cell": "Table of Contents",
      "title_sidebar": "Contents",
      "toc_cell": false,
      "toc_position": {},
      "toc_section_display": true,
      "toc_window_display": false
    },
    "varInspector": {
      "cols": {
        "lenName": 16,
        "lenType": 16,
        "lenVar": 40
      },
      "kernels_config": {
        "python": {
          "delete_cmd_postfix": "",
          "delete_cmd_prefix": "del ",
          "library": "var_list.py",
          "varRefreshCmd": "print(var_dic_list())"
        },
        "r": {
          "delete_cmd_postfix": ") ",
          "delete_cmd_prefix": "rm(",
          "library": "var_list.r",
          "varRefreshCmd": "cat(var_dic_list()) "
        }
      },
      "types_to_exclude": [
        "module",
        "function",
        "builtin_function_or_method",
        "instance",
        "_Feature"
      ],
      "window_display": false
    },
    "colab": {
      "provenance": [],
      "include_colab_link": true
    }
  },
  "nbformat": 4,
  "nbformat_minor": 0
}