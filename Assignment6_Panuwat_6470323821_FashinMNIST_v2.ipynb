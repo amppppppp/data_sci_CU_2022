{
  "cells": [
    {
      "cell_type": "markdown",
      "metadata": {
        "id": "view-in-github",
        "colab_type": "text"
      },
      "source": [
        "<a href=\"https://colab.research.google.com/github/amppppppp/data_sci_CU_2022/blob/main/Assignment6_Panuwat_6470323821_FashinMNIST_v2.ipynb\" target=\"_parent\"><img src=\"https://colab.research.google.com/assets/colab-badge.svg\" alt=\"Open In Colab\"/></a>"
      ]
    },
    {
      "cell_type": "markdown",
      "metadata": {
        "id": "MhoQ0WE77laV"
      },
      "source": [
        "##### Copyright 2018 The TensorFlow Authors."
      ]
    },
    {
      "cell_type": "code",
      "execution_count": null,
      "metadata": {
        "id": "_ckMIh7O7s6D"
      },
      "outputs": [],
      "source": [
        "#@title Licensed under the Apache License, Version 2.0 (the \"License\");\n",
        "# you may not use this file except in compliance with the License.\n",
        "# You may obtain a copy of the License at\n",
        "#\n",
        "# https://www.apache.org/licenses/LICENSE-2.0\n",
        "#\n",
        "# Unless required by applicable law or agreed to in writing, software\n",
        "# distributed under the License is distributed on an \"AS IS\" BASIS,\n",
        "# WITHOUT WARRANTIES OR CONDITIONS OF ANY KIND, either express or implied.\n",
        "# See the License for the specific language governing permissions and\n",
        "# limitations under the License."
      ]
    },
    {
      "cell_type": "code",
      "execution_count": null,
      "metadata": {
        "id": "vasWnqRgy1H4"
      },
      "outputs": [],
      "source": [
        "#@title MIT License\n",
        "#\n",
        "# Copyright (c) 2017 François Chollet\n",
        "#\n",
        "# Permission is hereby granted, free of charge, to any person obtaining a\n",
        "# copy of this software and associated documentation files (the \"Software\"),\n",
        "# to deal in the Software without restriction, including without limitation\n",
        "# the rights to use, copy, modify, merge, publish, distribute, sublicense,\n",
        "# and/or sell copies of the Software, and to permit persons to whom the\n",
        "# Software is furnished to do so, subject to the following conditions:\n",
        "#\n",
        "# The above copyright notice and this permission notice shall be included in\n",
        "# all copies or substantial portions of the Software.\n",
        "#\n",
        "# THE SOFTWARE IS PROVIDED \"AS IS\", WITHOUT WARRANTY OF ANY KIND, EXPRESS OR\n",
        "# IMPLIED, INCLUDING BUT NOT LIMITED TO THE WARRANTIES OF MERCHANTABILITY,\n",
        "# FITNESS FOR A PARTICULAR PURPOSE AND NONINFRINGEMENT. IN NO EVENT SHALL\n",
        "# THE AUTHORS OR COPYRIGHT HOLDERS BE LIABLE FOR ANY CLAIM, DAMAGES OR OTHER\n",
        "# LIABILITY, WHETHER IN AN ACTION OF CONTRACT, TORT OR OTHERWISE, ARISING\n",
        "# FROM, OUT OF OR IN CONNECTION WITH THE SOFTWARE OR THE USE OR OTHER\n",
        "# DEALINGS IN THE SOFTWARE."
      ]
    },
    {
      "cell_type": "markdown",
      "metadata": {
        "id": "jYysdyb-CaWM"
      },
      "source": [
        "# Basic classification: Classify images of clothing"
      ]
    },
    {
      "cell_type": "code",
      "execution_count": 80,
      "metadata": {
        "id": "dzLKpmZICaWN",
        "colab": {
          "base_uri": "https://localhost:8080/"
        },
        "outputId": "7ed3738d-2391-4074-e030-a5cb77965e94"
      },
      "outputs": [
        {
          "output_type": "stream",
          "name": "stdout",
          "text": [
            "2.8.2\n"
          ]
        }
      ],
      "source": [
        "# TensorFlow and tf.keras\n",
        "import tensorflow as tf\n",
        "\n",
        "# Helper libraries\n",
        "import numpy as np\n",
        "import matplotlib.pyplot as plt\n",
        "\n",
        "from sklearn.metrics import confusion_matrix, classification_report\n",
        "\n",
        "print(tf.__version__)"
      ]
    },
    {
      "cell_type": "markdown",
      "metadata": {
        "id": "yR0EdgrLCaWR"
      },
      "source": [
        "## Import the Fashion MNIST dataset"
      ]
    },
    {
      "cell_type": "code",
      "execution_count": 81,
      "metadata": {
        "id": "7MqDQO0KCaWS"
      },
      "outputs": [],
      "source": [
        "fashion_mnist = tf.keras.datasets.fashion_mnist\n",
        "\n",
        "(train_images, train_labels), (test_images, test_labels) = fashion_mnist.load_data()"
      ]
    },
    {
      "cell_type": "code",
      "execution_count": 82,
      "metadata": {
        "id": "IjnLH5S2CaWx"
      },
      "outputs": [],
      "source": [
        "class_names = ['T-shirt/top', 'Trouser', 'Pullover', 'Dress', 'Coat',\n",
        "               'Sandal', 'Shirt', 'Sneaker', 'Bag', 'Ankle boot']"
      ]
    },
    {
      "cell_type": "code",
      "source": [
        "print(np.max(train_images))\n",
        "print(np.min(train_images)) #before divide by 255"
      ],
      "metadata": {
        "colab": {
          "base_uri": "https://localhost:8080/"
        },
        "id": "E0IHrzgfR_8f",
        "outputId": "5702e091-a467-4a12-8130-2497ab67b9b1"
      },
      "execution_count": 83,
      "outputs": [
        {
          "output_type": "stream",
          "name": "stdout",
          "text": [
            "255\n",
            "0\n"
          ]
        }
      ]
    },
    {
      "cell_type": "code",
      "execution_count": 84,
      "metadata": {
        "id": "bW5WzIPlCaWv"
      },
      "outputs": [],
      "source": [
        "train_images = train_images / 255.0\n",
        "test_images = test_images / 255.0"
      ]
    },
    {
      "cell_type": "code",
      "source": [
        "print(len(class_names)) # check number of class_names"
      ],
      "metadata": {
        "colab": {
          "base_uri": "https://localhost:8080/"
        },
        "id": "G9Uyju703AvA",
        "outputId": "00fa99fe-e9f5-41dc-babe-5484885ec939"
      },
      "execution_count": 85,
      "outputs": [
        {
          "output_type": "stream",
          "name": "stdout",
          "text": [
            "10\n"
          ]
        }
      ]
    },
    {
      "cell_type": "code",
      "source": [
        "train_images.shape #check pixels of image and number of image"
      ],
      "metadata": {
        "id": "4YhdKS9G7SgX",
        "outputId": "17bb67f0-4386-4bfa-8742-22465de316ca",
        "colab": {
          "base_uri": "https://localhost:8080/"
        }
      },
      "execution_count": 86,
      "outputs": [
        {
          "output_type": "execute_result",
          "data": {
            "text/plain": [
              "(60000, 28, 28)"
            ]
          },
          "metadata": {},
          "execution_count": 86
        }
      ]
    },
    {
      "cell_type": "code",
      "source": [
        "class_names[train_labels[2022]]"
      ],
      "metadata": {
        "id": "ihH49uj_7SZT",
        "colab": {
          "base_uri": "https://localhost:8080/",
          "height": 36
        },
        "outputId": "d6e419e7-d81e-4fbc-b820-86d1bcda89d8"
      },
      "execution_count": 87,
      "outputs": [
        {
          "output_type": "execute_result",
          "data": {
            "text/plain": [
              "'Sneaker'"
            ],
            "application/vnd.google.colaboratory.intrinsic+json": {
              "type": "string"
            }
          },
          "metadata": {},
          "execution_count": 87
        }
      ]
    },
    {
      "cell_type": "code",
      "source": [
        "class_names[test_labels[2022]]"
      ],
      "metadata": {
        "colab": {
          "base_uri": "https://localhost:8080/",
          "height": 36
        },
        "id": "hbnspgP9Rd-I",
        "outputId": "c16efe96-5744-4186-bc2f-a433145b2351"
      },
      "execution_count": 49,
      "outputs": [
        {
          "output_type": "execute_result",
          "data": {
            "text/plain": [
              "'Sneaker'"
            ],
            "application/vnd.google.colaboratory.intrinsic+json": {
              "type": "string"
            }
          },
          "metadata": {},
          "execution_count": 49
        }
      ]
    },
    {
      "cell_type": "code",
      "source": [
        "print(np.min(train_images)) #after divide by 255\n",
        "print(np.max(train_images))\n"
      ],
      "metadata": {
        "colab": {
          "base_uri": "https://localhost:8080/"
        },
        "id": "U0Y0t6J-R50Z",
        "outputId": "f7dd0ad1-ed50-4abe-d244-a6d723a564ea"
      },
      "execution_count": 133,
      "outputs": [
        {
          "output_type": "stream",
          "name": "stdout",
          "text": [
            "0.0\n",
            "1.0\n"
          ]
        }
      ]
    },
    {
      "cell_type": "markdown",
      "metadata": {
        "id": "YFc2HbEVCaXd"
      },
      "source": [
        "And the model predicts a label as expected."
      ]
    },
    {
      "cell_type": "code",
      "source": [
        "height = 28\n",
        "width = 28\n",
        "num_classes = 10\n",
        "print(train_images[0].shape)\n",
        "rows=train_images[0].shape[0]\n",
        "cols=train_images[0].shape[1]\n",
        "image_shape = (rows,cols,1) \n",
        "train_images =train_images.reshape(train_images.shape[0],*image_shape)\n",
        "test_images=test_images.reshape(test_images.shape[0],*image_shape)"
      ],
      "metadata": {
        "id": "aVqRdX1EcIn1",
        "colab": {
          "base_uri": "https://localhost:8080/"
        },
        "outputId": "88c2afe5-18eb-4333-9c65-dfd5ba7d0e91"
      },
      "execution_count": 98,
      "outputs": [
        {
          "output_type": "stream",
          "name": "stdout",
          "text": [
            "(28, 28, 1)\n"
          ]
        }
      ]
    },
    {
      "cell_type": "markdown",
      "source": [
        "# Model1: NN\n",
        "\n",
        "Create a model to have an image of 28*28 pixels as an input with 10 output classes.\n",
        "\n",
        "The model composes of flatten, dropout 20%, dense with 128 neurons, and output layer to classify each image into 10 classes.\n",
        "\n"
      ],
      "metadata": {
        "id": "tXzliHOURDw4"
      }
    },
    {
      "cell_type": "code",
      "source": [
        "from tensorflow import keras\n",
        "from tensorflow.keras import layers\n",
        "from tensorflow.keras.models import Sequential\n",
        "from keras.models import Sequential\n",
        "from keras.layers import Dense,Flatten,Dropout\n"
      ],
      "metadata": {
        "id": "t95-wj_lROGq"
      },
      "execution_count": 99,
      "outputs": []
    },
    {
      "cell_type": "code",
      "source": [
        "#model for NN\n",
        "num_classes = 10\n",
        "\n",
        "model = Sequential([\n",
        "  layers.Flatten(),\n",
        "  layers.Dropout(0.2),\n",
        "  layers.Dense(128, activation='relu'),\n",
        "  layers.Dense(num_classes,activation='softmax')\n",
        "])"
      ],
      "metadata": {
        "id": "GcBsuiFFXvdG"
      },
      "execution_count": 100,
      "outputs": []
    },
    {
      "cell_type": "code",
      "source": [
        "model.compile(optimizer='adam',\n",
        "              loss=tf.keras.losses.SparseCategoricalCrossentropy(from_logits=True),\n",
        "              metrics=['accuracy'])"
      ],
      "metadata": {
        "id": "z4WqE9KwRdMZ"
      },
      "execution_count": 101,
      "outputs": []
    },
    {
      "cell_type": "code",
      "source": [
        "epochs=10\n",
        "history = model.fit(\n",
        "  train_images, train_labels,\n",
        "  epochs=epochs\n",
        ")"
      ],
      "metadata": {
        "id": "TEqjmc0ORowV",
        "colab": {
          "base_uri": "https://localhost:8080/"
        },
        "outputId": "2a470321-795e-46ab-92da-c549508a0e52"
      },
      "execution_count": 102,
      "outputs": [
        {
          "output_type": "stream",
          "name": "stdout",
          "text": [
            "Epoch 1/10\n"
          ]
        },
        {
          "output_type": "stream",
          "name": "stderr",
          "text": [
            "/usr/local/lib/python3.7/dist-packages/tensorflow/python/util/dispatch.py:1082: UserWarning: \"`sparse_categorical_crossentropy` received `from_logits=True`, but the `output` argument was produced by a sigmoid or softmax activation and thus does not represent logits. Was this intended?\"\n",
            "  return dispatch_target(*args, **kwargs)\n"
          ]
        },
        {
          "output_type": "stream",
          "name": "stdout",
          "text": [
            "1875/1875 [==============================] - 4s 2ms/step - loss: 0.5433 - accuracy: 0.8086\n",
            "Epoch 2/10\n",
            "1875/1875 [==============================] - 4s 2ms/step - loss: 0.4175 - accuracy: 0.8472\n",
            "Epoch 3/10\n",
            "1875/1875 [==============================] - 4s 2ms/step - loss: 0.3781 - accuracy: 0.8606\n",
            "Epoch 4/10\n",
            "1875/1875 [==============================] - 4s 2ms/step - loss: 0.3562 - accuracy: 0.8690\n",
            "Epoch 5/10\n",
            "1875/1875 [==============================] - 4s 2ms/step - loss: 0.3402 - accuracy: 0.8741\n",
            "Epoch 6/10\n",
            "1875/1875 [==============================] - 4s 2ms/step - loss: 0.3264 - accuracy: 0.8789\n",
            "Epoch 7/10\n",
            "1875/1875 [==============================] - 4s 2ms/step - loss: 0.3172 - accuracy: 0.8821\n",
            "Epoch 8/10\n",
            "1875/1875 [==============================] - 5s 2ms/step - loss: 0.3099 - accuracy: 0.8832\n",
            "Epoch 9/10\n",
            "1875/1875 [==============================] - 5s 3ms/step - loss: 0.3031 - accuracy: 0.8876\n",
            "Epoch 10/10\n",
            "1875/1875 [==============================] - 4s 2ms/step - loss: 0.2975 - accuracy: 0.8890\n"
          ]
        }
      ]
    },
    {
      "cell_type": "code",
      "source": [
        "test_loss, test_acc = model.evaluate(test_images,  test_labels, verbose=2)\n",
        "\n",
        "print('\\nTest accuracy:', test_acc)"
      ],
      "metadata": {
        "id": "Tfm3uX6KSc3y",
        "colab": {
          "base_uri": "https://localhost:8080/"
        },
        "outputId": "30a1a556-c9ba-418f-f0c8-674b83a97b1e"
      },
      "execution_count": 103,
      "outputs": [
        {
          "output_type": "stream",
          "name": "stdout",
          "text": [
            "313/313 - 1s - loss: 0.3326 - accuracy: 0.8786 - 620ms/epoch - 2ms/step\n",
            "\n",
            "Test accuracy: 0.878600001335144\n"
          ]
        }
      ]
    },
    {
      "cell_type": "code",
      "source": [
        "#predict values from test set\n",
        "y_pred = model.predict(test_images)\n",
        "#convert predictions classes to one hot vectors\n",
        "y_pred_classes = np.argmax(y_pred, axis=1)\n",
        "#convert test observations to one hot vectors\n",
        "#y_true = np.argmax(test_labels)\n",
        "y_true = test_labels\n",
        "\n",
        "print(classification_report(y_true, y_pred_classes,  target_names=class_names, digits=4))"
      ],
      "metadata": {
        "id": "RjOenjlgSjIt",
        "colab": {
          "base_uri": "https://localhost:8080/"
        },
        "outputId": "07d8403c-46dd-47e4-9fbb-56de154743a7"
      },
      "execution_count": 104,
      "outputs": [
        {
          "output_type": "stream",
          "name": "stdout",
          "text": [
            "              precision    recall  f1-score   support\n",
            "\n",
            " T-shirt/top     0.7593    0.9020    0.8245      1000\n",
            "     Trouser     0.9938    0.9680    0.9807      1000\n",
            "    Pullover     0.7455    0.8350    0.7877      1000\n",
            "       Dress     0.8713    0.9070    0.8888      1000\n",
            "        Coat     0.8076    0.7850    0.7961      1000\n",
            "      Sandal     0.9895    0.9430    0.9657      1000\n",
            "       Shirt     0.7784    0.5410    0.6383      1000\n",
            "     Sneaker     0.9315    0.9650    0.9479      1000\n",
            "         Bag     0.9721    0.9760    0.9741      1000\n",
            "  Ankle boot     0.9479    0.9640    0.9559      1000\n",
            "\n",
            "    accuracy                         0.8786     10000\n",
            "   macro avg     0.8797    0.8786    0.8760     10000\n",
            "weighted avg     0.8797    0.8786    0.8760     10000\n",
            "\n"
          ]
        }
      ]
    },
    {
      "cell_type": "code",
      "source": [
        "model.summary()"
      ],
      "metadata": {
        "colab": {
          "base_uri": "https://localhost:8080/"
        },
        "id": "91273vJN4b0J",
        "outputId": "16d4c48d-ae04-401b-ff69-cde591367ee3"
      },
      "execution_count": 105,
      "outputs": [
        {
          "output_type": "stream",
          "name": "stdout",
          "text": [
            "Model: \"sequential_14\"\n",
            "_________________________________________________________________\n",
            " Layer (type)                Output Shape              Param #   \n",
            "=================================================================\n",
            " flatten_14 (Flatten)        (None, 784)               0         \n",
            "                                                                 \n",
            " dropout_16 (Dropout)        (None, 784)               0         \n",
            "                                                                 \n",
            " dense_28 (Dense)            (None, 128)               100480    \n",
            "                                                                 \n",
            " dense_29 (Dense)            (None, 10)                1290      \n",
            "                                                                 \n",
            "=================================================================\n",
            "Total params: 101,770\n",
            "Trainable params: 101,770\n",
            "Non-trainable params: 0\n",
            "_________________________________________________________________\n"
          ]
        }
      ]
    },
    {
      "cell_type": "markdown",
      "source": [
        "# Model2: CNN\n",
        "\n",
        "Modify Model1:\n",
        "\n",
        "Before the flatten layer, add 2 layers of Conv2D with kernel(2*2) for 64 and 32 filters, respectively.\n",
        "\n"
      ],
      "metadata": {
        "id": "JCnfdc00T8WG"
      }
    },
    {
      "cell_type": "code",
      "source": [
        "model1 = Sequential([\n",
        "  layers.Conv2D(filters=64,kernel_size=2, padding='same', activation='relu'),\n",
        "  layers.Conv2D(filters=32,kernel_size=2, padding='same', activation='relu'),\n",
        "  layers.Flatten(),\n",
        "  layers.Dropout(0.2),\n",
        "  layers.Dense(128, activation='relu'),\n",
        "  layers.Dense(num_classes,activation='softmax')\n",
        "])"
      ],
      "metadata": {
        "id": "m0VfUAfUUJm1"
      },
      "execution_count": 116,
      "outputs": []
    },
    {
      "cell_type": "code",
      "source": [
        "model1.compile(optimizer='adam',\n",
        "              loss=tf.keras.losses.SparseCategoricalCrossentropy(),\n",
        "              metrics=['accuracy'])"
      ],
      "metadata": {
        "id": "k31cTHIXUWVn"
      },
      "execution_count": 117,
      "outputs": []
    },
    {
      "cell_type": "code",
      "source": [
        "epochs=10\n",
        "history = model1.fit(\n",
        "  train_images, train_labels,epochs=epochs\n",
        ")"
      ],
      "metadata": {
        "id": "TMeNp7tDZQD2",
        "colab": {
          "base_uri": "https://localhost:8080/"
        },
        "outputId": "aa5c6abe-8845-427f-811c-3dc9a8f2c30d"
      },
      "execution_count": 118,
      "outputs": [
        {
          "output_type": "stream",
          "name": "stdout",
          "text": [
            "Epoch 1/10\n",
            "1875/1875 [==============================] - 8s 4ms/step - loss: 0.3687 - accuracy: 0.8683\n",
            "Epoch 2/10\n",
            "1875/1875 [==============================] - 8s 4ms/step - loss: 0.2310 - accuracy: 0.9155\n",
            "Epoch 3/10\n",
            "1875/1875 [==============================] - 8s 4ms/step - loss: 0.1663 - accuracy: 0.9380\n",
            "Epoch 4/10\n",
            "1875/1875 [==============================] - 8s 4ms/step - loss: 0.1195 - accuracy: 0.9557\n",
            "Epoch 5/10\n",
            "1875/1875 [==============================] - 8s 4ms/step - loss: 0.0836 - accuracy: 0.9701\n",
            "Epoch 6/10\n",
            "1875/1875 [==============================] - 8s 4ms/step - loss: 0.0575 - accuracy: 0.9793\n",
            "Epoch 7/10\n",
            "1875/1875 [==============================] - 8s 4ms/step - loss: 0.0433 - accuracy: 0.9839\n",
            "Epoch 8/10\n",
            "1875/1875 [==============================] - 8s 4ms/step - loss: 0.0333 - accuracy: 0.9882\n",
            "Epoch 9/10\n",
            "1875/1875 [==============================] - 8s 4ms/step - loss: 0.0264 - accuracy: 0.9908\n",
            "Epoch 10/10\n",
            "1875/1875 [==============================] - 8s 4ms/step - loss: 0.0257 - accuracy: 0.9913\n"
          ]
        }
      ]
    },
    {
      "cell_type": "code",
      "source": [
        "test_loss, test_acc = model1.evaluate(test_images,  test_labels, verbose=2)\n",
        "\n",
        "print('\\nTest accuracy:', test_acc)"
      ],
      "metadata": {
        "id": "N9c7sW0MVTvt",
        "colab": {
          "base_uri": "https://localhost:8080/"
        },
        "outputId": "5ddc918c-b438-43a8-fe22-a394b7aaffa5"
      },
      "execution_count": 122,
      "outputs": [
        {
          "output_type": "stream",
          "name": "stdout",
          "text": [
            "313/313 - 1s - loss: 0.4778 - accuracy: 0.9102 - 871ms/epoch - 3ms/step\n",
            "\n",
            "Test accuracy: 0.9101999998092651\n"
          ]
        }
      ]
    },
    {
      "cell_type": "code",
      "source": [
        "#predict values from test set\n",
        "y_pred = model1.predict(test_images)\n",
        "#convert predictions classes to one hot vectors\n",
        "y_pred_classes = np.argmax(y_pred, axis=1)\n",
        "#convert test observations to one hot vectors\n",
        "#y_true = np.argmax(test_labels)\n",
        "y_true = test_labels\n",
        "\n",
        "print(classification_report(y_true, y_pred_classes,  target_names=class_names, digits=4))"
      ],
      "metadata": {
        "id": "QtR1fR3wVVpL",
        "colab": {
          "base_uri": "https://localhost:8080/"
        },
        "outputId": "1ac93929-2d11-4673-d1c8-294159cef309"
      },
      "execution_count": 123,
      "outputs": [
        {
          "output_type": "stream",
          "name": "stdout",
          "text": [
            "              precision    recall  f1-score   support\n",
            "\n",
            " T-shirt/top     0.8635    0.8540    0.8587      1000\n",
            "     Trouser     0.9929    0.9800    0.9864      1000\n",
            "    Pullover     0.8403    0.8790    0.8592      1000\n",
            "       Dress     0.8985    0.9120    0.9052      1000\n",
            "        Coat     0.8907    0.8230    0.8555      1000\n",
            "      Sandal     0.9839    0.9790    0.9815      1000\n",
            "       Shirt     0.7431    0.7780    0.7601      1000\n",
            "     Sneaker     0.9636    0.9540    0.9588      1000\n",
            "         Bag     0.9838    0.9720    0.9779      1000\n",
            "  Ankle boot     0.9529    0.9710    0.9619      1000\n",
            "\n",
            "    accuracy                         0.9102     10000\n",
            "   macro avg     0.9113    0.9102    0.9105     10000\n",
            "weighted avg     0.9113    0.9102    0.9105     10000\n",
            "\n"
          ]
        }
      ]
    },
    {
      "cell_type": "code",
      "source": [
        "model1.summary()"
      ],
      "metadata": {
        "colab": {
          "base_uri": "https://localhost:8080/"
        },
        "id": "evbeAXB5839X",
        "outputId": "c1129563-a15e-42f6-e173-922a13579a37"
      },
      "execution_count": 124,
      "outputs": [
        {
          "output_type": "stream",
          "name": "stdout",
          "text": [
            "Model: \"sequential_17\"\n",
            "_________________________________________________________________\n",
            " Layer (type)                Output Shape              Param #   \n",
            "=================================================================\n",
            " conv2d_23 (Conv2D)          (None, 28, 28, 64)        320       \n",
            "                                                                 \n",
            " conv2d_24 (Conv2D)          (None, 28, 28, 32)        8224      \n",
            "                                                                 \n",
            " flatten_17 (Flatten)        (None, 25088)             0         \n",
            "                                                                 \n",
            " dropout_20 (Dropout)        (None, 25088)             0         \n",
            "                                                                 \n",
            " dense_34 (Dense)            (None, 128)               3211392   \n",
            "                                                                 \n",
            " dense_35 (Dense)            (None, 10)                1290      \n",
            "                                                                 \n",
            "=================================================================\n",
            "Total params: 3,221,226\n",
            "Trainable params: 3,221,226\n",
            "Non-trainable params: 0\n",
            "_________________________________________________________________\n"
          ]
        }
      ]
    },
    {
      "cell_type": "markdown",
      "source": [
        "# Model3: CNN with max-pool & dropout\n",
        "\n",
        "From those two Conv2D layers in Model2, add MaxPooling2D with pooling size (2*2) and then dropout 30%."
      ],
      "metadata": {
        "id": "pGzkCapqZgyY"
      }
    },
    {
      "cell_type": "code",
      "source": [
        "'''\n",
        "Insert your code here\n",
        "'''\n",
        "\n",
        "model2 = Sequential([\n",
        "  layers.Conv2D(64,kernel_size=2, padding='same', activation='relu'),\n",
        "  layers.Conv2D(32,kernel_size=2, padding='same', activation='relu'),\n",
        "  layers.MaxPooling2D(pool_size=2),\n",
        "  layers.Dropout(0.3),\n",
        "  layers.Flatten(),\n",
        "  layers.Dropout(0.2),\n",
        "  layers.Dense(128, activation='relu'),\n",
        "  layers.Dense(num_classes,activation='softmax')\n",
        "])"
      ],
      "metadata": {
        "id": "nSAHp5xhce8P"
      },
      "execution_count": 127,
      "outputs": []
    },
    {
      "cell_type": "code",
      "source": [
        "model2.compile(optimizer='adam',\n",
        "              loss=tf.keras.losses.SparseCategoricalCrossentropy(),\n",
        "              metrics=['accuracy'])"
      ],
      "metadata": {
        "id": "rKEGqE3idhVd"
      },
      "execution_count": 128,
      "outputs": []
    },
    {
      "cell_type": "code",
      "source": [
        "epochs=10\n",
        "history = model2.fit(\n",
        "  train_images, train_labels,\n",
        "  epochs=epochs\n",
        ")"
      ],
      "metadata": {
        "id": "BjYbEXeGdatM",
        "colab": {
          "base_uri": "https://localhost:8080/"
        },
        "outputId": "8bb6c329-215f-4fa6-93a9-65a7e4f60961"
      },
      "execution_count": 129,
      "outputs": [
        {
          "output_type": "stream",
          "name": "stdout",
          "text": [
            "Epoch 1/10\n",
            "1875/1875 [==============================] - 8s 4ms/step - loss: 0.3989 - accuracy: 0.8563\n",
            "Epoch 2/10\n",
            "1875/1875 [==============================] - 7s 4ms/step - loss: 0.2677 - accuracy: 0.9014\n",
            "Epoch 3/10\n",
            "1875/1875 [==============================] - 6s 3ms/step - loss: 0.2243 - accuracy: 0.9167\n",
            "Epoch 4/10\n",
            "1875/1875 [==============================] - 6s 3ms/step - loss: 0.1908 - accuracy: 0.9289\n",
            "Epoch 5/10\n",
            "1875/1875 [==============================] - 6s 3ms/step - loss: 0.1690 - accuracy: 0.9361\n",
            "Epoch 6/10\n",
            "1875/1875 [==============================] - 6s 3ms/step - loss: 0.1476 - accuracy: 0.9441\n",
            "Epoch 7/10\n",
            "1875/1875 [==============================] - 6s 3ms/step - loss: 0.1319 - accuracy: 0.9502\n",
            "Epoch 8/10\n",
            "1875/1875 [==============================] - 6s 3ms/step - loss: 0.1190 - accuracy: 0.9545\n",
            "Epoch 9/10\n",
            "1875/1875 [==============================] - 7s 4ms/step - loss: 0.1068 - accuracy: 0.9596\n",
            "Epoch 10/10\n",
            "1875/1875 [==============================] - 6s 3ms/step - loss: 0.0960 - accuracy: 0.9637\n"
          ]
        }
      ]
    },
    {
      "cell_type": "code",
      "source": [
        "test_loss, test_acc = model2.evaluate(test_images,  test_labels, verbose=2)\n",
        "\n",
        "print('\\nTest accuracy:', test_acc)"
      ],
      "metadata": {
        "id": "vvLkJ8loddWS",
        "colab": {
          "base_uri": "https://localhost:8080/"
        },
        "outputId": "babef343-6b0a-4409-9559-f51d15141d26"
      },
      "execution_count": 130,
      "outputs": [
        {
          "output_type": "stream",
          "name": "stdout",
          "text": [
            "313/313 - 1s - loss: 0.2402 - accuracy: 0.9264 - 785ms/epoch - 3ms/step\n",
            "\n",
            "Test accuracy: 0.9264000058174133\n"
          ]
        }
      ]
    },
    {
      "cell_type": "code",
      "source": [
        "#predict values from test set\n",
        "y_pred = model2.predict(test_images)\n",
        "#convert predictions classes to one hot vectors\n",
        "y_pred_classes = np.argmax(y_pred, axis=1)\n",
        "#convert test observations to one hot vectors\n",
        "#y_true = np.argmax(test_labels)\n",
        "y_true = test_labels\n",
        "\n",
        "print(classification_report(y_true, y_pred_classes,  target_names=class_names, digits=4))"
      ],
      "metadata": {
        "id": "TjTHrrx8dl5-",
        "colab": {
          "base_uri": "https://localhost:8080/"
        },
        "outputId": "1419c869-b215-4041-abea-cf9b6834be22"
      },
      "execution_count": 131,
      "outputs": [
        {
          "output_type": "stream",
          "name": "stdout",
          "text": [
            "              precision    recall  f1-score   support\n",
            "\n",
            " T-shirt/top     0.8516    0.9010    0.8756      1000\n",
            "     Trouser     0.9969    0.9800    0.9884      1000\n",
            "    Pullover     0.9168    0.8600    0.8875      1000\n",
            "       Dress     0.9273    0.9310    0.9291      1000\n",
            "        Coat     0.8701    0.8840    0.8770      1000\n",
            "      Sandal     0.9900    0.9870    0.9885      1000\n",
            "       Shirt     0.7817    0.7880    0.7849      1000\n",
            "     Sneaker     0.9619    0.9840    0.9728      1000\n",
            "         Bag     0.9919    0.9800    0.9859      1000\n",
            "  Ankle boot     0.9838    0.9690    0.9763      1000\n",
            "\n",
            "    accuracy                         0.9264     10000\n",
            "   macro avg     0.9272    0.9264    0.9266     10000\n",
            "weighted avg     0.9272    0.9264    0.9266     10000\n",
            "\n"
          ]
        }
      ]
    },
    {
      "cell_type": "code",
      "source": [
        "model2.summary()"
      ],
      "metadata": {
        "id": "upm4IG8xbyxP",
        "colab": {
          "base_uri": "https://localhost:8080/"
        },
        "outputId": "bb3340d7-d63a-4a79-c735-c2909a27886d"
      },
      "execution_count": 132,
      "outputs": [
        {
          "output_type": "stream",
          "name": "stdout",
          "text": [
            "Model: \"sequential_18\"\n",
            "_________________________________________________________________\n",
            " Layer (type)                Output Shape              Param #   \n",
            "=================================================================\n",
            " conv2d_25 (Conv2D)          (None, 28, 28, 64)        320       \n",
            "                                                                 \n",
            " conv2d_26 (Conv2D)          (None, 28, 28, 32)        8224      \n",
            "                                                                 \n",
            " max_pooling2d_3 (MaxPooling  (None, 14, 14, 32)       0         \n",
            " 2D)                                                             \n",
            "                                                                 \n",
            " dropout_21 (Dropout)        (None, 14, 14, 32)        0         \n",
            "                                                                 \n",
            " flatten_18 (Flatten)        (None, 6272)              0         \n",
            "                                                                 \n",
            " dropout_22 (Dropout)        (None, 6272)              0         \n",
            "                                                                 \n",
            " dense_36 (Dense)            (None, 128)               802944    \n",
            "                                                                 \n",
            " dense_37 (Dense)            (None, 10)                1290      \n",
            "                                                                 \n",
            "=================================================================\n",
            "Total params: 812,778\n",
            "Trainable params: 812,778\n",
            "Non-trainable params: 0\n",
            "_________________________________________________________________\n"
          ]
        }
      ]
    },
    {
      "cell_type": "code",
      "source": [],
      "metadata": {
        "id": "YJE4idZ8-VM3"
      },
      "execution_count": null,
      "outputs": []
    }
  ],
  "metadata": {
    "colab": {
      "collapsed_sections": [],
      "provenance": [],
      "include_colab_link": true
    },
    "kernelspec": {
      "display_name": "Python 3",
      "name": "python3"
    },
    "accelerator": "GPU"
  },
  "nbformat": 4,
  "nbformat_minor": 0
}