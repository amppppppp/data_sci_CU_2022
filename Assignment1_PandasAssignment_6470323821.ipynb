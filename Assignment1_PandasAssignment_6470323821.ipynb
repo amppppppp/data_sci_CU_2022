{
  "cells": [
    {
      "cell_type": "markdown",
      "metadata": {
        "id": "OIom1X-v0TGc"
      },
      "source": [
        "# Assignment - Basic Pandas\n",
        "<sup>Created by Natawut Nupairoj, Department of Computer Engineering, Chulalongkorn University</sup>\n",
        "\n",
        "Using pandas to explore youtube trending data from GB (GBvideos.csv and GB_category_id.json) and answer the questions."
      ]
    },
    {
      "cell_type": "code",
      "execution_count": 114,
      "metadata": {
        "id": "_ooeQeBn0TGf"
      },
      "outputs": [],
      "source": [
        "import pandas as pd\n",
        "import numpy as np"
      ]
    },
    {
      "cell_type": "markdown",
      "metadata": {
        "id": "RNyAGpWT0TGh"
      },
      "source": [
        "To simplify data retrieval process on Colab, we heck if we are in the Colab environment and download data files from a shared drive and save them in folder \"data\".\n",
        "\n",
        "For those using jupyter notebook on the local computer, you can read data directly assuming you save data in the folder \"data\"."
      ]
    },
    {
      "cell_type": "code",
      "execution_count": 115,
      "metadata": {
        "id": "qro_9JWV0TGi",
        "colab": {
          "base_uri": "https://localhost:8080/"
        },
        "outputId": "7226b97d-3f82-4ca6-db26-dafaaecdd946"
      },
      "outputs": [
        {
          "output_type": "stream",
          "name": "stdout",
          "text": [
            "--2022-08-13 10:04:23--  https://github.com/kaopanboonyuen/2110446_DataScience_2021s2/raw/main/datasets/data.tgz\n",
            "Resolving github.com (github.com)... 140.82.121.4\n",
            "Connecting to github.com (github.com)|140.82.121.4|:443... connected.\n",
            "HTTP request sent, awaiting response... 302 Found\n",
            "Location: https://raw.githubusercontent.com/kaopanboonyuen/2110446_DataScience_2021s2/main/datasets/data.tgz [following]\n",
            "--2022-08-13 10:04:23--  https://raw.githubusercontent.com/kaopanboonyuen/2110446_DataScience_2021s2/main/datasets/data.tgz\n",
            "Resolving raw.githubusercontent.com (raw.githubusercontent.com)... 185.199.108.133, 185.199.109.133, 185.199.110.133, ...\n",
            "Connecting to raw.githubusercontent.com (raw.githubusercontent.com)|185.199.108.133|:443... connected.\n",
            "HTTP request sent, awaiting response... 200 OK\n",
            "Length: 45477462 (43M) [application/octet-stream]\n",
            "Saving to: ‘data.tgz’\n",
            "\n",
            "data.tgz            100%[===================>]  43.37M   143MB/s    in 0.3s    \n",
            "\n",
            "2022-08-13 10:04:24 (143 MB/s) - ‘data.tgz’ saved [45477462/45477462]\n",
            "\n",
            "data/\n",
            "data/._GB_category_id.json\n",
            "data/GB_category_id.json\n",
            "data/._US_category_id.json\n",
            "data/US_category_id.json\n",
            "data/._USvideos.csv\n",
            "data/USvideos.csv\n",
            "data/._GBvideos.csv\n",
            "data/GBvideos.csv\n"
          ]
        }
      ],
      "source": [
        "import sys\n",
        "IN_COLAB = 'google.colab' in sys.modules\n",
        "if IN_COLAB:\n",
        "    !wget https://github.com/kaopanboonyuen/2110446_DataScience_2021s2/raw/main/datasets/data.tgz -O data.tgz\n",
        "    !tar -xzvf data.tgz"
      ]
    },
    {
      "cell_type": "markdown",
      "metadata": {
        "id": "rkNi2LHT0TGj"
      },
      "source": [
        "## How many rows are there in the GBvideos.csv after removing duplications?"
      ]
    },
    {
      "cell_type": "code",
      "execution_count": 116,
      "metadata": {
        "id": "PFzYyW7V0TGj",
        "colab": {
          "base_uri": "https://localhost:8080/"
        },
        "outputId": "c5530837-3870-46ec-afca-34a3972a33f2"
      },
      "outputs": [
        {
          "output_type": "stream",
          "name": "stdout",
          "text": [
            "(38916, 16)\n"
          ]
        }
      ],
      "source": [
        "GB_df = pd.read_csv('data/GBvideos.csv')\n",
        "\n",
        "print(GB_df.shape)\n",
        "GB_df.drop_duplicates(inplace=True)"
      ]
    },
    {
      "cell_type": "code",
      "source": [
        "print('after remove dup:',GB_df.shape)"
      ],
      "metadata": {
        "colab": {
          "base_uri": "https://localhost:8080/"
        },
        "id": "VjWRAbnnJ6Qf",
        "outputId": "077906a5-264c-4a1f-ab75-a4e4769d884b"
      },
      "execution_count": 117,
      "outputs": [
        {
          "output_type": "stream",
          "name": "stdout",
          "text": [
            "after remove dup: (38745, 16)\n"
          ]
        }
      ]
    },
    {
      "cell_type": "code",
      "source": [
        "GB_df.head()"
      ],
      "metadata": {
        "colab": {
          "base_uri": "https://localhost:8080/",
          "height": 582
        },
        "id": "anY0AK_UQtf8",
        "outputId": "f77298c0-33a8-488f-8510-f442fa197927"
      },
      "execution_count": 118,
      "outputs": [
        {
          "output_type": "execute_result",
          "data": {
            "text/plain": [
              "      video_id trending_date  \\\n",
              "0  Jw1Y-zhQURU      17.14.11   \n",
              "1  3s1rvMFUweQ      17.14.11   \n",
              "2  n1WpP7iowLc      17.14.11   \n",
              "3  PUTEiSjKwJU      17.14.11   \n",
              "4  rHwDegptbI4      17.14.11   \n",
              "\n",
              "                                               title  \\\n",
              "0      John Lewis Christmas Ad 2017 - #MozTheMonster   \n",
              "1          Taylor Swift: …Ready for It? (Live) - SNL   \n",
              "2         Eminem - Walk On Water (Audio) ft. Beyoncé   \n",
              "3  Goals from Salford City vs Class of 92 and Fri...   \n",
              "4  Dashcam captures truck's near miss with child ...   \n",
              "\n",
              "                channel_title  category_id              publish_time  \\\n",
              "0                  John Lewis           26  2017-11-10T07:38:29.000Z   \n",
              "1         Saturday Night Live           24  2017-11-12T06:24:44.000Z   \n",
              "2                  EminemVEVO           10  2017-11-10T17:00:03.000Z   \n",
              "3  Salford City Football Club           17  2017-11-13T02:30:38.000Z   \n",
              "4            Cute Girl Videos           25  2017-11-13T01:45:13.000Z   \n",
              "\n",
              "                                                tags     views   likes  \\\n",
              "0  christmas|\"john lewis christmas\"|\"john lewis\"|...   7224515   55681   \n",
              "1  SNL|\"Saturday Night Live\"|\"SNL Season 43\"|\"Epi...   1053632   25561   \n",
              "2  Eminem|\"Walk\"|\"On\"|\"Water\"|\"Aftermath/Shady/In...  17158579  787420   \n",
              "3  Salford City FC|\"Salford City\"|\"Salford\"|\"Clas...     27833     193   \n",
              "4                                             [none]      9815      30   \n",
              "\n",
              "   dislikes  comment_count                                  thumbnail_link  \\\n",
              "0     10247           9479  https://i.ytimg.com/vi/Jw1Y-zhQURU/default.jpg   \n",
              "1      2294           2757  https://i.ytimg.com/vi/3s1rvMFUweQ/default.jpg   \n",
              "2     43420         125882  https://i.ytimg.com/vi/n1WpP7iowLc/default.jpg   \n",
              "3        12             37  https://i.ytimg.com/vi/PUTEiSjKwJU/default.jpg   \n",
              "4         2             30  https://i.ytimg.com/vi/rHwDegptbI4/default.jpg   \n",
              "\n",
              "   comments_disabled  ratings_disabled  video_error_or_removed  \\\n",
              "0              False             False                   False   \n",
              "1              False             False                   False   \n",
              "2              False             False                   False   \n",
              "3              False             False                   False   \n",
              "4              False             False                   False   \n",
              "\n",
              "                                         description  \n",
              "0  Click here to continue the story and make your...  \n",
              "1  Musical guest Taylor Swift performs …Ready for...  \n",
              "2  Eminem's new track Walk on Water ft. Beyoncé i...  \n",
              "3  Salford drew 4-4 against the Class of 92 and F...  \n",
              "4  Dashcam captures truck's near miss with child ...  "
            ],
            "text/html": [
              "\n",
              "  <div id=\"df-fad6e77b-868b-42da-9f70-9a6902433006\">\n",
              "    <div class=\"colab-df-container\">\n",
              "      <div>\n",
              "<style scoped>\n",
              "    .dataframe tbody tr th:only-of-type {\n",
              "        vertical-align: middle;\n",
              "    }\n",
              "\n",
              "    .dataframe tbody tr th {\n",
              "        vertical-align: top;\n",
              "    }\n",
              "\n",
              "    .dataframe thead th {\n",
              "        text-align: right;\n",
              "    }\n",
              "</style>\n",
              "<table border=\"1\" class=\"dataframe\">\n",
              "  <thead>\n",
              "    <tr style=\"text-align: right;\">\n",
              "      <th></th>\n",
              "      <th>video_id</th>\n",
              "      <th>trending_date</th>\n",
              "      <th>title</th>\n",
              "      <th>channel_title</th>\n",
              "      <th>category_id</th>\n",
              "      <th>publish_time</th>\n",
              "      <th>tags</th>\n",
              "      <th>views</th>\n",
              "      <th>likes</th>\n",
              "      <th>dislikes</th>\n",
              "      <th>comment_count</th>\n",
              "      <th>thumbnail_link</th>\n",
              "      <th>comments_disabled</th>\n",
              "      <th>ratings_disabled</th>\n",
              "      <th>video_error_or_removed</th>\n",
              "      <th>description</th>\n",
              "    </tr>\n",
              "  </thead>\n",
              "  <tbody>\n",
              "    <tr>\n",
              "      <th>0</th>\n",
              "      <td>Jw1Y-zhQURU</td>\n",
              "      <td>17.14.11</td>\n",
              "      <td>John Lewis Christmas Ad 2017 - #MozTheMonster</td>\n",
              "      <td>John Lewis</td>\n",
              "      <td>26</td>\n",
              "      <td>2017-11-10T07:38:29.000Z</td>\n",
              "      <td>christmas|\"john lewis christmas\"|\"john lewis\"|...</td>\n",
              "      <td>7224515</td>\n",
              "      <td>55681</td>\n",
              "      <td>10247</td>\n",
              "      <td>9479</td>\n",
              "      <td>https://i.ytimg.com/vi/Jw1Y-zhQURU/default.jpg</td>\n",
              "      <td>False</td>\n",
              "      <td>False</td>\n",
              "      <td>False</td>\n",
              "      <td>Click here to continue the story and make your...</td>\n",
              "    </tr>\n",
              "    <tr>\n",
              "      <th>1</th>\n",
              "      <td>3s1rvMFUweQ</td>\n",
              "      <td>17.14.11</td>\n",
              "      <td>Taylor Swift: …Ready for It? (Live) - SNL</td>\n",
              "      <td>Saturday Night Live</td>\n",
              "      <td>24</td>\n",
              "      <td>2017-11-12T06:24:44.000Z</td>\n",
              "      <td>SNL|\"Saturday Night Live\"|\"SNL Season 43\"|\"Epi...</td>\n",
              "      <td>1053632</td>\n",
              "      <td>25561</td>\n",
              "      <td>2294</td>\n",
              "      <td>2757</td>\n",
              "      <td>https://i.ytimg.com/vi/3s1rvMFUweQ/default.jpg</td>\n",
              "      <td>False</td>\n",
              "      <td>False</td>\n",
              "      <td>False</td>\n",
              "      <td>Musical guest Taylor Swift performs …Ready for...</td>\n",
              "    </tr>\n",
              "    <tr>\n",
              "      <th>2</th>\n",
              "      <td>n1WpP7iowLc</td>\n",
              "      <td>17.14.11</td>\n",
              "      <td>Eminem - Walk On Water (Audio) ft. Beyoncé</td>\n",
              "      <td>EminemVEVO</td>\n",
              "      <td>10</td>\n",
              "      <td>2017-11-10T17:00:03.000Z</td>\n",
              "      <td>Eminem|\"Walk\"|\"On\"|\"Water\"|\"Aftermath/Shady/In...</td>\n",
              "      <td>17158579</td>\n",
              "      <td>787420</td>\n",
              "      <td>43420</td>\n",
              "      <td>125882</td>\n",
              "      <td>https://i.ytimg.com/vi/n1WpP7iowLc/default.jpg</td>\n",
              "      <td>False</td>\n",
              "      <td>False</td>\n",
              "      <td>False</td>\n",
              "      <td>Eminem's new track Walk on Water ft. Beyoncé i...</td>\n",
              "    </tr>\n",
              "    <tr>\n",
              "      <th>3</th>\n",
              "      <td>PUTEiSjKwJU</td>\n",
              "      <td>17.14.11</td>\n",
              "      <td>Goals from Salford City vs Class of 92 and Fri...</td>\n",
              "      <td>Salford City Football Club</td>\n",
              "      <td>17</td>\n",
              "      <td>2017-11-13T02:30:38.000Z</td>\n",
              "      <td>Salford City FC|\"Salford City\"|\"Salford\"|\"Clas...</td>\n",
              "      <td>27833</td>\n",
              "      <td>193</td>\n",
              "      <td>12</td>\n",
              "      <td>37</td>\n",
              "      <td>https://i.ytimg.com/vi/PUTEiSjKwJU/default.jpg</td>\n",
              "      <td>False</td>\n",
              "      <td>False</td>\n",
              "      <td>False</td>\n",
              "      <td>Salford drew 4-4 against the Class of 92 and F...</td>\n",
              "    </tr>\n",
              "    <tr>\n",
              "      <th>4</th>\n",
              "      <td>rHwDegptbI4</td>\n",
              "      <td>17.14.11</td>\n",
              "      <td>Dashcam captures truck's near miss with child ...</td>\n",
              "      <td>Cute Girl Videos</td>\n",
              "      <td>25</td>\n",
              "      <td>2017-11-13T01:45:13.000Z</td>\n",
              "      <td>[none]</td>\n",
              "      <td>9815</td>\n",
              "      <td>30</td>\n",
              "      <td>2</td>\n",
              "      <td>30</td>\n",
              "      <td>https://i.ytimg.com/vi/rHwDegptbI4/default.jpg</td>\n",
              "      <td>False</td>\n",
              "      <td>False</td>\n",
              "      <td>False</td>\n",
              "      <td>Dashcam captures truck's near miss with child ...</td>\n",
              "    </tr>\n",
              "  </tbody>\n",
              "</table>\n",
              "</div>\n",
              "      <button class=\"colab-df-convert\" onclick=\"convertToInteractive('df-fad6e77b-868b-42da-9f70-9a6902433006')\"\n",
              "              title=\"Convert this dataframe to an interactive table.\"\n",
              "              style=\"display:none;\">\n",
              "        \n",
              "  <svg xmlns=\"http://www.w3.org/2000/svg\" height=\"24px\"viewBox=\"0 0 24 24\"\n",
              "       width=\"24px\">\n",
              "    <path d=\"M0 0h24v24H0V0z\" fill=\"none\"/>\n",
              "    <path d=\"M18.56 5.44l.94 2.06.94-2.06 2.06-.94-2.06-.94-.94-2.06-.94 2.06-2.06.94zm-11 1L8.5 8.5l.94-2.06 2.06-.94-2.06-.94L8.5 2.5l-.94 2.06-2.06.94zm10 10l.94 2.06.94-2.06 2.06-.94-2.06-.94-.94-2.06-.94 2.06-2.06.94z\"/><path d=\"M17.41 7.96l-1.37-1.37c-.4-.4-.92-.59-1.43-.59-.52 0-1.04.2-1.43.59L10.3 9.45l-7.72 7.72c-.78.78-.78 2.05 0 2.83L4 21.41c.39.39.9.59 1.41.59.51 0 1.02-.2 1.41-.59l7.78-7.78 2.81-2.81c.8-.78.8-2.07 0-2.86zM5.41 20L4 18.59l7.72-7.72 1.47 1.35L5.41 20z\"/>\n",
              "  </svg>\n",
              "      </button>\n",
              "      \n",
              "  <style>\n",
              "    .colab-df-container {\n",
              "      display:flex;\n",
              "      flex-wrap:wrap;\n",
              "      gap: 12px;\n",
              "    }\n",
              "\n",
              "    .colab-df-convert {\n",
              "      background-color: #E8F0FE;\n",
              "      border: none;\n",
              "      border-radius: 50%;\n",
              "      cursor: pointer;\n",
              "      display: none;\n",
              "      fill: #1967D2;\n",
              "      height: 32px;\n",
              "      padding: 0 0 0 0;\n",
              "      width: 32px;\n",
              "    }\n",
              "\n",
              "    .colab-df-convert:hover {\n",
              "      background-color: #E2EBFA;\n",
              "      box-shadow: 0px 1px 2px rgba(60, 64, 67, 0.3), 0px 1px 3px 1px rgba(60, 64, 67, 0.15);\n",
              "      fill: #174EA6;\n",
              "    }\n",
              "\n",
              "    [theme=dark] .colab-df-convert {\n",
              "      background-color: #3B4455;\n",
              "      fill: #D2E3FC;\n",
              "    }\n",
              "\n",
              "    [theme=dark] .colab-df-convert:hover {\n",
              "      background-color: #434B5C;\n",
              "      box-shadow: 0px 1px 3px 1px rgba(0, 0, 0, 0.15);\n",
              "      filter: drop-shadow(0px 1px 2px rgba(0, 0, 0, 0.3));\n",
              "      fill: #FFFFFF;\n",
              "    }\n",
              "  </style>\n",
              "\n",
              "      <script>\n",
              "        const buttonEl =\n",
              "          document.querySelector('#df-fad6e77b-868b-42da-9f70-9a6902433006 button.colab-df-convert');\n",
              "        buttonEl.style.display =\n",
              "          google.colab.kernel.accessAllowed ? 'block' : 'none';\n",
              "\n",
              "        async function convertToInteractive(key) {\n",
              "          const element = document.querySelector('#df-fad6e77b-868b-42da-9f70-9a6902433006');\n",
              "          const dataTable =\n",
              "            await google.colab.kernel.invokeFunction('convertToInteractive',\n",
              "                                                     [key], {});\n",
              "          if (!dataTable) return;\n",
              "\n",
              "          const docLinkHtml = 'Like what you see? Visit the ' +\n",
              "            '<a target=\"_blank\" href=https://colab.research.google.com/notebooks/data_table.ipynb>data table notebook</a>'\n",
              "            + ' to learn more about interactive tables.';\n",
              "          element.innerHTML = '';\n",
              "          dataTable['output_type'] = 'display_data';\n",
              "          await google.colab.output.renderOutput(dataTable, element);\n",
              "          const docLink = document.createElement('div');\n",
              "          docLink.innerHTML = docLinkHtml;\n",
              "          element.appendChild(docLink);\n",
              "        }\n",
              "      </script>\n",
              "    </div>\n",
              "  </div>\n",
              "  "
            ]
          },
          "metadata": {},
          "execution_count": 118
        }
      ]
    },
    {
      "cell_type": "markdown",
      "metadata": {
        "id": "mSc2U7HJ0TGk"
      },
      "source": [
        "## How many VDO that have \"dislikes\" more than \"likes\"?  Make sure that you count only unique title!"
      ]
    },
    {
      "cell_type": "code",
      "execution_count": 119,
      "metadata": {
        "id": "Q0NF1dI40TGk",
        "colab": {
          "base_uri": "https://localhost:8080/"
        },
        "outputId": "6c22e042-992e-4239-e285-43a81e0457d7"
      },
      "outputs": [
        {
          "output_type": "stream",
          "name": "stdout",
          "text": [
            "VDO dislike > like count : 56\n"
          ]
        }
      ],
      "source": [
        "condition_list=GB_df.dislikes>GB_df.likes\n",
        "GB1_df=GB_df[condition_list]\n",
        "n=len(GB1_df['title'].unique())\n",
        "print('VDO dislike > like count :',n)"
      ]
    },
    {
      "cell_type": "markdown",
      "metadata": {
        "id": "oNxh-5CL0TGk"
      },
      "source": [
        "## How many VDO that are trending on 22 Jan 2018 with comments more than 10,000 comments?"
      ]
    },
    {
      "cell_type": "code",
      "execution_count": 120,
      "metadata": {
        "id": "07-y5sNw0TGl",
        "colab": {
          "base_uri": "https://localhost:8080/"
        },
        "outputId": "4e9515bf-9ca1-4224-a4cf-c37b56adf90a"
      },
      "outputs": [
        {
          "output_type": "stream",
          "name": "stdout",
          "text": [
            "How many VDO on 22 Jan 2018 more than 10,000: 28\n"
          ]
        }
      ],
      "source": [
        "cond1=GB_df.trending_date==\"18.22.01\"\n",
        "cond2=GB_df.comment_count>10000\n",
        "print('How many VDO on 22 Jan 2018 more than 10,000:',len(GB_df[cond1 &cond2]))"
      ]
    },
    {
      "cell_type": "markdown",
      "metadata": {
        "id": "jnBQwfD70TGl"
      },
      "source": [
        "## Which date that has the minimum average number of comments per VDO?"
      ]
    },
    {
      "cell_type": "code",
      "execution_count": 230,
      "metadata": {
        "id": "KIDZyavc0TGl",
        "colab": {
          "base_uri": "https://localhost:8080/"
        },
        "outputId": "ee1bcd31-a92a-4e37-cb6c-17ea1eb453b9"
      },
      "outputs": [
        {
          "output_type": "execute_result",
          "data": {
            "text/plain": [
              "trending_date       17.15.11\n",
              "avg_comment      4738.673367\n",
              "Name: 15, dtype: object"
            ]
          },
          "metadata": {},
          "execution_count": 230
        }
      ],
      "source": [
        "comment_df=GB_df.groupby('trending_date')['comment_count'].mean().reset_index(name='avg_comment')\n",
        "\n",
        "min_avg_loc=comment_df['avg_comment'].argmin()\n",
        "comment_df.iloc[min_avg_loc]"
      ]
    },
    {
      "cell_type": "markdown",
      "metadata": {
        "id": "wL7iTiic0TGl"
      },
      "source": [
        "## Compare \"Sports\" and \"Comady\", how many days that there are more total daily views of VDO in \"Sports\" category than in \"Comady\" category?"
      ]
    },
    {
      "cell_type": "code",
      "execution_count": 145,
      "metadata": {
        "id": "UIzvYqdA0TGm",
        "colab": {
          "base_uri": "https://localhost:8080/"
        },
        "outputId": "0c84b437-0c57-45ba-a7c5-67865ebfe33c"
      },
      "outputs": [
        {
          "output_type": "execute_result",
          "data": {
            "text/plain": [
              "{'etag': '\"m2yskBQFythfE4irbTIeOgYYfBU/1v2mrzYSYG6onNLt2qTj13hkQZk\"',\n",
              " 'items': [{'etag': '\"m2yskBQFythfE4irbTIeOgYYfBU/Xy1mB4_yLrHy_BmKmPBggty2mZQ\"',\n",
              "   'id': '1',\n",
              "   'kind': 'youtube#videoCategory',\n",
              "   'snippet': {'assignable': True,\n",
              "    'channelId': 'UCBR8-60-B28hp2BmDPdntcQ',\n",
              "    'title': 'Film & Animation'}},\n",
              "  {'etag': '\"m2yskBQFythfE4irbTIeOgYYfBU/UZ1oLIIz2dxIhO45ZTFR3a3NyTA\"',\n",
              "   'id': '2',\n",
              "   'kind': 'youtube#videoCategory',\n",
              "   'snippet': {'assignable': True,\n",
              "    'channelId': 'UCBR8-60-B28hp2BmDPdntcQ',\n",
              "    'title': 'Autos & Vehicles'}},\n",
              "  {'etag': '\"m2yskBQFythfE4irbTIeOgYYfBU/nqRIq97-xe5XRZTxbknKFVe5Lmg\"',\n",
              "   'id': '10',\n",
              "   'kind': 'youtube#videoCategory',\n",
              "   'snippet': {'assignable': True,\n",
              "    'channelId': 'UCBR8-60-B28hp2BmDPdntcQ',\n",
              "    'title': 'Music'}},\n",
              "  {'etag': '\"m2yskBQFythfE4irbTIeOgYYfBU/HwXKamM1Q20q9BN-oBJavSGkfDI\"',\n",
              "   'id': '15',\n",
              "   'kind': 'youtube#videoCategory',\n",
              "   'snippet': {'assignable': True,\n",
              "    'channelId': 'UCBR8-60-B28hp2BmDPdntcQ',\n",
              "    'title': 'Pets & Animals'}},\n",
              "  {'etag': '\"m2yskBQFythfE4irbTIeOgYYfBU/9GQMSRjrZdHeb1OEM1XVQ9zbGec\"',\n",
              "   'id': '17',\n",
              "   'kind': 'youtube#videoCategory',\n",
              "   'snippet': {'assignable': True,\n",
              "    'channelId': 'UCBR8-60-B28hp2BmDPdntcQ',\n",
              "    'title': 'Sports'}},\n",
              "  {'etag': '\"m2yskBQFythfE4irbTIeOgYYfBU/FJwVpGCVZ1yiJrqZbpqe68Sy_OE\"',\n",
              "   'id': '18',\n",
              "   'kind': 'youtube#videoCategory',\n",
              "   'snippet': {'assignable': False,\n",
              "    'channelId': 'UCBR8-60-B28hp2BmDPdntcQ',\n",
              "    'title': 'Short Movies'}},\n",
              "  {'etag': '\"m2yskBQFythfE4irbTIeOgYYfBU/M-3iD9dwK7YJCafRf_DkLN8CouA\"',\n",
              "   'id': '19',\n",
              "   'kind': 'youtube#videoCategory',\n",
              "   'snippet': {'assignable': True,\n",
              "    'channelId': 'UCBR8-60-B28hp2BmDPdntcQ',\n",
              "    'title': 'Travel & Events'}},\n",
              "  {'etag': '\"m2yskBQFythfE4irbTIeOgYYfBU/WmA0qYEfjWsAoyJFSw2zinhn2wM\"',\n",
              "   'id': '20',\n",
              "   'kind': 'youtube#videoCategory',\n",
              "   'snippet': {'assignable': True,\n",
              "    'channelId': 'UCBR8-60-B28hp2BmDPdntcQ',\n",
              "    'title': 'Gaming'}},\n",
              "  {'etag': '\"m2yskBQFythfE4irbTIeOgYYfBU/EapFaGYG7K0StIXVf8aba249tdM\"',\n",
              "   'id': '21',\n",
              "   'kind': 'youtube#videoCategory',\n",
              "   'snippet': {'assignable': False,\n",
              "    'channelId': 'UCBR8-60-B28hp2BmDPdntcQ',\n",
              "    'title': 'Videoblogging'}},\n",
              "  {'etag': '\"m2yskBQFythfE4irbTIeOgYYfBU/xId8RX7vRN8rqkbYZbNIytUQDRo\"',\n",
              "   'id': '22',\n",
              "   'kind': 'youtube#videoCategory',\n",
              "   'snippet': {'assignable': True,\n",
              "    'channelId': 'UCBR8-60-B28hp2BmDPdntcQ',\n",
              "    'title': 'People & Blogs'}},\n",
              "  {'etag': '\"m2yskBQFythfE4irbTIeOgYYfBU/G9LHzQmx44rX2S5yaga_Aqtwz8M\"',\n",
              "   'id': '23',\n",
              "   'kind': 'youtube#videoCategory',\n",
              "   'snippet': {'assignable': True,\n",
              "    'channelId': 'UCBR8-60-B28hp2BmDPdntcQ',\n",
              "    'title': 'Comedy'}},\n",
              "  {'etag': '\"m2yskBQFythfE4irbTIeOgYYfBU/UVB9oxX2Bvqa_w_y3vXSLVK5E_s\"',\n",
              "   'id': '24',\n",
              "   'kind': 'youtube#videoCategory',\n",
              "   'snippet': {'assignable': True,\n",
              "    'channelId': 'UCBR8-60-B28hp2BmDPdntcQ',\n",
              "    'title': 'Entertainment'}},\n",
              "  {'etag': '\"m2yskBQFythfE4irbTIeOgYYfBU/QiLK0ZIrFoORdk_g2l_XR_ECjDc\"',\n",
              "   'id': '25',\n",
              "   'kind': 'youtube#videoCategory',\n",
              "   'snippet': {'assignable': True,\n",
              "    'channelId': 'UCBR8-60-B28hp2BmDPdntcQ',\n",
              "    'title': 'News & Politics'}},\n",
              "  {'etag': '\"m2yskBQFythfE4irbTIeOgYYfBU/r6Ck6Z0_L0rG37VJQR200SGNA_w\"',\n",
              "   'id': '26',\n",
              "   'kind': 'youtube#videoCategory',\n",
              "   'snippet': {'assignable': True,\n",
              "    'channelId': 'UCBR8-60-B28hp2BmDPdntcQ',\n",
              "    'title': 'Howto & Style'}},\n",
              "  {'etag': '\"m2yskBQFythfE4irbTIeOgYYfBU/EoYkczo9I3RCf96RveKTOgOPkUM\"',\n",
              "   'id': '27',\n",
              "   'kind': 'youtube#videoCategory',\n",
              "   'snippet': {'assignable': True,\n",
              "    'channelId': 'UCBR8-60-B28hp2BmDPdntcQ',\n",
              "    'title': 'Education'}},\n",
              "  {'etag': '\"m2yskBQFythfE4irbTIeOgYYfBU/w5HjcTD82G_XA3xBctS30zS-JpQ\"',\n",
              "   'id': '28',\n",
              "   'kind': 'youtube#videoCategory',\n",
              "   'snippet': {'assignable': True,\n",
              "    'channelId': 'UCBR8-60-B28hp2BmDPdntcQ',\n",
              "    'title': 'Science & Technology'}},\n",
              "  {'etag': '\"m2yskBQFythfE4irbTIeOgYYfBU/lL7uWDr_071CHxifjYG1tJrp4Uo\"',\n",
              "   'id': '30',\n",
              "   'kind': 'youtube#videoCategory',\n",
              "   'snippet': {'assignable': False,\n",
              "    'channelId': 'UCBR8-60-B28hp2BmDPdntcQ',\n",
              "    'title': 'Movies'}},\n",
              "  {'etag': '\"m2yskBQFythfE4irbTIeOgYYfBU/WnuVfjO-PyFLO7NTRQIbrGE62nk\"',\n",
              "   'id': '31',\n",
              "   'kind': 'youtube#videoCategory',\n",
              "   'snippet': {'assignable': False,\n",
              "    'channelId': 'UCBR8-60-B28hp2BmDPdntcQ',\n",
              "    'title': 'Anime/Animation'}},\n",
              "  {'etag': '\"m2yskBQFythfE4irbTIeOgYYfBU/ctpH2hGA_UZ3volJT_FTlOg9M00\"',\n",
              "   'id': '32',\n",
              "   'kind': 'youtube#videoCategory',\n",
              "   'snippet': {'assignable': False,\n",
              "    'channelId': 'UCBR8-60-B28hp2BmDPdntcQ',\n",
              "    'title': 'Action/Adventure'}},\n",
              "  {'etag': '\"m2yskBQFythfE4irbTIeOgYYfBU/L0kR3-g1BAo5UD1PLVbQ7LkkDtQ\"',\n",
              "   'id': '33',\n",
              "   'kind': 'youtube#videoCategory',\n",
              "   'snippet': {'assignable': False,\n",
              "    'channelId': 'UCBR8-60-B28hp2BmDPdntcQ',\n",
              "    'title': 'Classics'}},\n",
              "  {'etag': '\"m2yskBQFythfE4irbTIeOgYYfBU/pUZOAC_s9sfiwar639qr_wAB-aI\"',\n",
              "   'id': '34',\n",
              "   'kind': 'youtube#videoCategory',\n",
              "   'snippet': {'assignable': False,\n",
              "    'channelId': 'UCBR8-60-B28hp2BmDPdntcQ',\n",
              "    'title': 'Comedy'}},\n",
              "  {'etag': '\"m2yskBQFythfE4irbTIeOgYYfBU/Xb5JLhtyNRN3AQq021Ds-OV50Jk\"',\n",
              "   'id': '35',\n",
              "   'kind': 'youtube#videoCategory',\n",
              "   'snippet': {'assignable': False,\n",
              "    'channelId': 'UCBR8-60-B28hp2BmDPdntcQ',\n",
              "    'title': 'Documentary'}},\n",
              "  {'etag': '\"m2yskBQFythfE4irbTIeOgYYfBU/u8WXzF4HIhtEi805__sqjuA4lEk\"',\n",
              "   'id': '36',\n",
              "   'kind': 'youtube#videoCategory',\n",
              "   'snippet': {'assignable': False,\n",
              "    'channelId': 'UCBR8-60-B28hp2BmDPdntcQ',\n",
              "    'title': 'Drama'}},\n",
              "  {'etag': '\"m2yskBQFythfE4irbTIeOgYYfBU/D04PP4Gr7wc4IV_O9G66Z4A8KWQ\"',\n",
              "   'id': '37',\n",
              "   'kind': 'youtube#videoCategory',\n",
              "   'snippet': {'assignable': False,\n",
              "    'channelId': 'UCBR8-60-B28hp2BmDPdntcQ',\n",
              "    'title': 'Family'}},\n",
              "  {'etag': '\"m2yskBQFythfE4irbTIeOgYYfBU/i5-_AceGXQCEEMWU0V8CcQm_vLQ\"',\n",
              "   'id': '38',\n",
              "   'kind': 'youtube#videoCategory',\n",
              "   'snippet': {'assignable': False,\n",
              "    'channelId': 'UCBR8-60-B28hp2BmDPdntcQ',\n",
              "    'title': 'Foreign'}},\n",
              "  {'etag': '\"m2yskBQFythfE4irbTIeOgYYfBU/rtlxd0zOixA9QHdIZB26-St5qgQ\"',\n",
              "   'id': '39',\n",
              "   'kind': 'youtube#videoCategory',\n",
              "   'snippet': {'assignable': False,\n",
              "    'channelId': 'UCBR8-60-B28hp2BmDPdntcQ',\n",
              "    'title': 'Horror'}},\n",
              "  {'etag': '\"m2yskBQFythfE4irbTIeOgYYfBU/N1TrDFLRppxZgBowCJfJCvh0Dpg\"',\n",
              "   'id': '40',\n",
              "   'kind': 'youtube#videoCategory',\n",
              "   'snippet': {'assignable': False,\n",
              "    'channelId': 'UCBR8-60-B28hp2BmDPdntcQ',\n",
              "    'title': 'Sci-Fi/Fantasy'}},\n",
              "  {'etag': '\"m2yskBQFythfE4irbTIeOgYYfBU/7UMGi6zRySqXopr_rv4sZq6Za2E\"',\n",
              "   'id': '41',\n",
              "   'kind': 'youtube#videoCategory',\n",
              "   'snippet': {'assignable': False,\n",
              "    'channelId': 'UCBR8-60-B28hp2BmDPdntcQ',\n",
              "    'title': 'Thriller'}},\n",
              "  {'etag': '\"m2yskBQFythfE4irbTIeOgYYfBU/RScXhi324h8usyIetreAVb-uKeM\"',\n",
              "   'id': '42',\n",
              "   'kind': 'youtube#videoCategory',\n",
              "   'snippet': {'assignable': False,\n",
              "    'channelId': 'UCBR8-60-B28hp2BmDPdntcQ',\n",
              "    'title': 'Shorts'}},\n",
              "  {'etag': '\"m2yskBQFythfE4irbTIeOgYYfBU/0n9MJVCDLpA8q7aiGVrFsuFsd0A\"',\n",
              "   'id': '43',\n",
              "   'kind': 'youtube#videoCategory',\n",
              "   'snippet': {'assignable': False,\n",
              "    'channelId': 'UCBR8-60-B28hp2BmDPdntcQ',\n",
              "    'title': 'Shows'}},\n",
              "  {'etag': '\"m2yskBQFythfE4irbTIeOgYYfBU/x5NxSf5fz8hn4loSN4rvhwzD_pY\"',\n",
              "   'id': '44',\n",
              "   'kind': 'youtube#videoCategory',\n",
              "   'snippet': {'assignable': False,\n",
              "    'channelId': 'UCBR8-60-B28hp2BmDPdntcQ',\n",
              "    'title': 'Trailers'}}],\n",
              " 'kind': 'youtube#videoCategoryListResponse'}"
            ]
          },
          "metadata": {},
          "execution_count": 145
        }
      ],
      "source": [
        "import json\n",
        "with open('data/GB_category_id.json') as cat:\n",
        "    GBcat = json.load(cat)\n",
        "GBcat"
      ]
    },
    {
      "cell_type": "code",
      "source": [
        "GBcat_list = []\n",
        "for d in GBcat['items']:\n",
        "    GBcat_list.append((int(d['id']), d['snippet']['title']))\n",
        "\n",
        "GBcat_df = pd.DataFrame(GBcat_list, columns=['id', 'category'])\n",
        "GBcat_df"
      ],
      "metadata": {
        "colab": {
          "base_uri": "https://localhost:8080/",
          "height": 1000
        },
        "id": "P4zEyD7et2zr",
        "outputId": "6d66abac-59cc-47e1-c01f-0da3eec6bcce"
      },
      "execution_count": 147,
      "outputs": [
        {
          "output_type": "execute_result",
          "data": {
            "text/plain": [
              "    id              category\n",
              "0    1      Film & Animation\n",
              "1    2      Autos & Vehicles\n",
              "2   10                 Music\n",
              "3   15        Pets & Animals\n",
              "4   17                Sports\n",
              "5   18          Short Movies\n",
              "6   19       Travel & Events\n",
              "7   20                Gaming\n",
              "8   21         Videoblogging\n",
              "9   22        People & Blogs\n",
              "10  23                Comedy\n",
              "11  24         Entertainment\n",
              "12  25       News & Politics\n",
              "13  26         Howto & Style\n",
              "14  27             Education\n",
              "15  28  Science & Technology\n",
              "16  30                Movies\n",
              "17  31       Anime/Animation\n",
              "18  32      Action/Adventure\n",
              "19  33              Classics\n",
              "20  34                Comedy\n",
              "21  35           Documentary\n",
              "22  36                 Drama\n",
              "23  37                Family\n",
              "24  38               Foreign\n",
              "25  39                Horror\n",
              "26  40        Sci-Fi/Fantasy\n",
              "27  41              Thriller\n",
              "28  42                Shorts\n",
              "29  43                 Shows\n",
              "30  44              Trailers"
            ],
            "text/html": [
              "\n",
              "  <div id=\"df-3ea41f1d-a89e-4d9e-a7ae-4db078c40ddd\">\n",
              "    <div class=\"colab-df-container\">\n",
              "      <div>\n",
              "<style scoped>\n",
              "    .dataframe tbody tr th:only-of-type {\n",
              "        vertical-align: middle;\n",
              "    }\n",
              "\n",
              "    .dataframe tbody tr th {\n",
              "        vertical-align: top;\n",
              "    }\n",
              "\n",
              "    .dataframe thead th {\n",
              "        text-align: right;\n",
              "    }\n",
              "</style>\n",
              "<table border=\"1\" class=\"dataframe\">\n",
              "  <thead>\n",
              "    <tr style=\"text-align: right;\">\n",
              "      <th></th>\n",
              "      <th>id</th>\n",
              "      <th>category</th>\n",
              "    </tr>\n",
              "  </thead>\n",
              "  <tbody>\n",
              "    <tr>\n",
              "      <th>0</th>\n",
              "      <td>1</td>\n",
              "      <td>Film &amp; Animation</td>\n",
              "    </tr>\n",
              "    <tr>\n",
              "      <th>1</th>\n",
              "      <td>2</td>\n",
              "      <td>Autos &amp; Vehicles</td>\n",
              "    </tr>\n",
              "    <tr>\n",
              "      <th>2</th>\n",
              "      <td>10</td>\n",
              "      <td>Music</td>\n",
              "    </tr>\n",
              "    <tr>\n",
              "      <th>3</th>\n",
              "      <td>15</td>\n",
              "      <td>Pets &amp; Animals</td>\n",
              "    </tr>\n",
              "    <tr>\n",
              "      <th>4</th>\n",
              "      <td>17</td>\n",
              "      <td>Sports</td>\n",
              "    </tr>\n",
              "    <tr>\n",
              "      <th>5</th>\n",
              "      <td>18</td>\n",
              "      <td>Short Movies</td>\n",
              "    </tr>\n",
              "    <tr>\n",
              "      <th>6</th>\n",
              "      <td>19</td>\n",
              "      <td>Travel &amp; Events</td>\n",
              "    </tr>\n",
              "    <tr>\n",
              "      <th>7</th>\n",
              "      <td>20</td>\n",
              "      <td>Gaming</td>\n",
              "    </tr>\n",
              "    <tr>\n",
              "      <th>8</th>\n",
              "      <td>21</td>\n",
              "      <td>Videoblogging</td>\n",
              "    </tr>\n",
              "    <tr>\n",
              "      <th>9</th>\n",
              "      <td>22</td>\n",
              "      <td>People &amp; Blogs</td>\n",
              "    </tr>\n",
              "    <tr>\n",
              "      <th>10</th>\n",
              "      <td>23</td>\n",
              "      <td>Comedy</td>\n",
              "    </tr>\n",
              "    <tr>\n",
              "      <th>11</th>\n",
              "      <td>24</td>\n",
              "      <td>Entertainment</td>\n",
              "    </tr>\n",
              "    <tr>\n",
              "      <th>12</th>\n",
              "      <td>25</td>\n",
              "      <td>News &amp; Politics</td>\n",
              "    </tr>\n",
              "    <tr>\n",
              "      <th>13</th>\n",
              "      <td>26</td>\n",
              "      <td>Howto &amp; Style</td>\n",
              "    </tr>\n",
              "    <tr>\n",
              "      <th>14</th>\n",
              "      <td>27</td>\n",
              "      <td>Education</td>\n",
              "    </tr>\n",
              "    <tr>\n",
              "      <th>15</th>\n",
              "      <td>28</td>\n",
              "      <td>Science &amp; Technology</td>\n",
              "    </tr>\n",
              "    <tr>\n",
              "      <th>16</th>\n",
              "      <td>30</td>\n",
              "      <td>Movies</td>\n",
              "    </tr>\n",
              "    <tr>\n",
              "      <th>17</th>\n",
              "      <td>31</td>\n",
              "      <td>Anime/Animation</td>\n",
              "    </tr>\n",
              "    <tr>\n",
              "      <th>18</th>\n",
              "      <td>32</td>\n",
              "      <td>Action/Adventure</td>\n",
              "    </tr>\n",
              "    <tr>\n",
              "      <th>19</th>\n",
              "      <td>33</td>\n",
              "      <td>Classics</td>\n",
              "    </tr>\n",
              "    <tr>\n",
              "      <th>20</th>\n",
              "      <td>34</td>\n",
              "      <td>Comedy</td>\n",
              "    </tr>\n",
              "    <tr>\n",
              "      <th>21</th>\n",
              "      <td>35</td>\n",
              "      <td>Documentary</td>\n",
              "    </tr>\n",
              "    <tr>\n",
              "      <th>22</th>\n",
              "      <td>36</td>\n",
              "      <td>Drama</td>\n",
              "    </tr>\n",
              "    <tr>\n",
              "      <th>23</th>\n",
              "      <td>37</td>\n",
              "      <td>Family</td>\n",
              "    </tr>\n",
              "    <tr>\n",
              "      <th>24</th>\n",
              "      <td>38</td>\n",
              "      <td>Foreign</td>\n",
              "    </tr>\n",
              "    <tr>\n",
              "      <th>25</th>\n",
              "      <td>39</td>\n",
              "      <td>Horror</td>\n",
              "    </tr>\n",
              "    <tr>\n",
              "      <th>26</th>\n",
              "      <td>40</td>\n",
              "      <td>Sci-Fi/Fantasy</td>\n",
              "    </tr>\n",
              "    <tr>\n",
              "      <th>27</th>\n",
              "      <td>41</td>\n",
              "      <td>Thriller</td>\n",
              "    </tr>\n",
              "    <tr>\n",
              "      <th>28</th>\n",
              "      <td>42</td>\n",
              "      <td>Shorts</td>\n",
              "    </tr>\n",
              "    <tr>\n",
              "      <th>29</th>\n",
              "      <td>43</td>\n",
              "      <td>Shows</td>\n",
              "    </tr>\n",
              "    <tr>\n",
              "      <th>30</th>\n",
              "      <td>44</td>\n",
              "      <td>Trailers</td>\n",
              "    </tr>\n",
              "  </tbody>\n",
              "</table>\n",
              "</div>\n",
              "      <button class=\"colab-df-convert\" onclick=\"convertToInteractive('df-3ea41f1d-a89e-4d9e-a7ae-4db078c40ddd')\"\n",
              "              title=\"Convert this dataframe to an interactive table.\"\n",
              "              style=\"display:none;\">\n",
              "        \n",
              "  <svg xmlns=\"http://www.w3.org/2000/svg\" height=\"24px\"viewBox=\"0 0 24 24\"\n",
              "       width=\"24px\">\n",
              "    <path d=\"M0 0h24v24H0V0z\" fill=\"none\"/>\n",
              "    <path d=\"M18.56 5.44l.94 2.06.94-2.06 2.06-.94-2.06-.94-.94-2.06-.94 2.06-2.06.94zm-11 1L8.5 8.5l.94-2.06 2.06-.94-2.06-.94L8.5 2.5l-.94 2.06-2.06.94zm10 10l.94 2.06.94-2.06 2.06-.94-2.06-.94-.94-2.06-.94 2.06-2.06.94z\"/><path d=\"M17.41 7.96l-1.37-1.37c-.4-.4-.92-.59-1.43-.59-.52 0-1.04.2-1.43.59L10.3 9.45l-7.72 7.72c-.78.78-.78 2.05 0 2.83L4 21.41c.39.39.9.59 1.41.59.51 0 1.02-.2 1.41-.59l7.78-7.78 2.81-2.81c.8-.78.8-2.07 0-2.86zM5.41 20L4 18.59l7.72-7.72 1.47 1.35L5.41 20z\"/>\n",
              "  </svg>\n",
              "      </button>\n",
              "      \n",
              "  <style>\n",
              "    .colab-df-container {\n",
              "      display:flex;\n",
              "      flex-wrap:wrap;\n",
              "      gap: 12px;\n",
              "    }\n",
              "\n",
              "    .colab-df-convert {\n",
              "      background-color: #E8F0FE;\n",
              "      border: none;\n",
              "      border-radius: 50%;\n",
              "      cursor: pointer;\n",
              "      display: none;\n",
              "      fill: #1967D2;\n",
              "      height: 32px;\n",
              "      padding: 0 0 0 0;\n",
              "      width: 32px;\n",
              "    }\n",
              "\n",
              "    .colab-df-convert:hover {\n",
              "      background-color: #E2EBFA;\n",
              "      box-shadow: 0px 1px 2px rgba(60, 64, 67, 0.3), 0px 1px 3px 1px rgba(60, 64, 67, 0.15);\n",
              "      fill: #174EA6;\n",
              "    }\n",
              "\n",
              "    [theme=dark] .colab-df-convert {\n",
              "      background-color: #3B4455;\n",
              "      fill: #D2E3FC;\n",
              "    }\n",
              "\n",
              "    [theme=dark] .colab-df-convert:hover {\n",
              "      background-color: #434B5C;\n",
              "      box-shadow: 0px 1px 3px 1px rgba(0, 0, 0, 0.15);\n",
              "      filter: drop-shadow(0px 1px 2px rgba(0, 0, 0, 0.3));\n",
              "      fill: #FFFFFF;\n",
              "    }\n",
              "  </style>\n",
              "\n",
              "      <script>\n",
              "        const buttonEl =\n",
              "          document.querySelector('#df-3ea41f1d-a89e-4d9e-a7ae-4db078c40ddd button.colab-df-convert');\n",
              "        buttonEl.style.display =\n",
              "          google.colab.kernel.accessAllowed ? 'block' : 'none';\n",
              "\n",
              "        async function convertToInteractive(key) {\n",
              "          const element = document.querySelector('#df-3ea41f1d-a89e-4d9e-a7ae-4db078c40ddd');\n",
              "          const dataTable =\n",
              "            await google.colab.kernel.invokeFunction('convertToInteractive',\n",
              "                                                     [key], {});\n",
              "          if (!dataTable) return;\n",
              "\n",
              "          const docLinkHtml = 'Like what you see? Visit the ' +\n",
              "            '<a target=\"_blank\" href=https://colab.research.google.com/notebooks/data_table.ipynb>data table notebook</a>'\n",
              "            + ' to learn more about interactive tables.';\n",
              "          element.innerHTML = '';\n",
              "          dataTable['output_type'] = 'display_data';\n",
              "          await google.colab.output.renderOutput(dataTable, element);\n",
              "          const docLink = document.createElement('div');\n",
              "          docLink.innerHTML = docLinkHtml;\n",
              "          element.appendChild(docLink);\n",
              "        }\n",
              "      </script>\n",
              "    </div>\n",
              "  </div>\n",
              "  "
            ]
          },
          "metadata": {},
          "execution_count": 147
        }
      ]
    },
    {
      "cell_type": "code",
      "source": [
        "#cat id\n",
        "#sport = 17\n",
        "#comedy= 23,34\n",
        "\n",
        "GB_dfcat=GB_df.merge(GBcat_df, left_on='category_id', right_on='id')\n",
        "GB_dfcat.category_id.value_counts()"
      ],
      "metadata": {
        "colab": {
          "base_uri": "https://localhost:8080/"
        },
        "id": "V59qW1K8s02-",
        "outputId": "1f8a3499-4005-454b-8939-fb5cf90d93f9"
      },
      "execution_count": 168,
      "outputs": [
        {
          "output_type": "execute_result",
          "data": {
            "text/plain": [
              "10    13700\n",
              "24     9055\n",
              "22     2923\n",
              "1      2564\n",
              "26     1928\n",
              "17     1903\n",
              "23     1820\n",
              "20     1778\n",
              "25     1218\n",
              "15      533\n",
              "28      516\n",
              "27      457\n",
              "2       144\n",
              "19       96\n",
              "43       20\n",
              "Name: category_id, dtype: int64"
            ]
          },
          "metadata": {},
          "execution_count": 168
        }
      ]
    },
    {
      "cell_type": "code",
      "source": [
        "con_s=( GB_dfcat['category']=='Sports')\n",
        "con_c=(GB_dfcat['category']=='Comedy')\n",
        "df_sport=GB_dfcat[con_s].groupby('trending_date')['views'].sum().reset_index(name='view_s')\n",
        "df_comedy=GB_dfcat[con_c].groupby('trending_date')['views'].sum().reset_index(name='view_c')\n",
        "#GB_dfcat.groupby('trending_date')[['category','id','trending_date','views']]"
      ],
      "metadata": {
        "id": "O-v12XqNu1nk"
      },
      "execution_count": 198,
      "outputs": []
    },
    {
      "cell_type": "code",
      "source": [
        "df_sport.shape"
      ],
      "metadata": {
        "colab": {
          "base_uri": "https://localhost:8080/"
        },
        "id": "zfviiBiowYCa",
        "outputId": "c00966f5-2e1a-4827-e9d7-934e2225e3dc"
      },
      "execution_count": 202,
      "outputs": [
        {
          "output_type": "execute_result",
          "data": {
            "text/plain": [
              "(205, 2)"
            ]
          },
          "metadata": {},
          "execution_count": 202
        }
      ]
    },
    {
      "cell_type": "code",
      "source": [
        "df_comedy.shape"
      ],
      "metadata": {
        "colab": {
          "base_uri": "https://localhost:8080/"
        },
        "id": "Fl5_KTkC4raI",
        "outputId": "f5bec2a4-d880-45e9-d446-573e223e273f"
      },
      "execution_count": 203,
      "outputs": [
        {
          "output_type": "execute_result",
          "data": {
            "text/plain": [
              "(205, 2)"
            ]
          },
          "metadata": {},
          "execution_count": 203
        }
      ]
    },
    {
      "cell_type": "code",
      "source": [
        "df_merge=df_sport.merge(df_comedy)\n",
        "compare=df_merge['view_s']>df_merge['view_c']\n",
        "#compare\n",
        "print(\"how many days that there are more total daily views of VDO in Sports category than in Comady category:\",len(df_merge[compare]))"
      ],
      "metadata": {
        "colab": {
          "base_uri": "https://localhost:8080/"
        },
        "id": "6TVqZz9S4vxv",
        "outputId": "f2e51aeb-8ace-4e5b-bf2f-260120a2396f"
      },
      "execution_count": 215,
      "outputs": [
        {
          "output_type": "stream",
          "name": "stdout",
          "text": [
            "how many days that there are more total daily views of VDO in Sports category than in Comady category: 49\n"
          ]
        }
      ]
    },
    {
      "cell_type": "code",
      "source": [
        ""
      ],
      "metadata": {
        "id": "seJp0VNL41Vt"
      },
      "execution_count": null,
      "outputs": []
    }
  ],
  "metadata": {
    "kernelspec": {
      "display_name": "Python 3",
      "language": "python",
      "name": "python3"
    },
    "language_info": {
      "codemirror_mode": {
        "name": "ipython",
        "version": 3
      },
      "file_extension": ".py",
      "mimetype": "text/x-python",
      "name": "python",
      "nbconvert_exporter": "python",
      "pygments_lexer": "ipython3",
      "version": "3.7.6"
    },
    "toc": {
      "base_numbering": 1,
      "nav_menu": {},
      "number_sections": true,
      "sideBar": true,
      "skip_h1_title": false,
      "title_cell": "Table of Contents",
      "title_sidebar": "Contents",
      "toc_cell": false,
      "toc_position": {},
      "toc_section_display": true,
      "toc_window_display": false
    },
    "varInspector": {
      "cols": {
        "lenName": 16,
        "lenType": 16,
        "lenVar": 40
      },
      "kernels_config": {
        "python": {
          "delete_cmd_postfix": "",
          "delete_cmd_prefix": "del ",
          "library": "var_list.py",
          "varRefreshCmd": "print(var_dic_list())"
        },
        "r": {
          "delete_cmd_postfix": ") ",
          "delete_cmd_prefix": "rm(",
          "library": "var_list.r",
          "varRefreshCmd": "cat(var_dic_list()) "
        }
      },
      "types_to_exclude": [
        "module",
        "function",
        "builtin_function_or_method",
        "instance",
        "_Feature"
      ],
      "window_display": false
    },
    "colab": {
      "name": "Copy of PandasAssignment.ipynb",
      "provenance": [],
      "collapsed_sections": []
    }
  },
  "nbformat": 4,
  "nbformat_minor": 0
}