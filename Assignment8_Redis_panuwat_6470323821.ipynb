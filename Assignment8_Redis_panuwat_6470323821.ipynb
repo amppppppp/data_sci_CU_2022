{
 "cells": [
  {
   "cell_type": "markdown",
   "metadata": {},
   "source": [
    "# Redis Assignment\n",
    "In this assignment, you will access a redis server and user redis commands to find out answers.  The redis server is at 34.87.2.170.  You also have to authenticate as username 'hw' with password 'hw'.  \n",
    "\n",
    "The populated data in the redis database is similar to the example \"simple social network\" in the class.  Answer all questions in mycourseville assignment.\n",
    "\n",
    "Note that this user can only use \"read\" commands e.g. \"get\", \"lrange\", \"llen\", \"scan\", etc."
   ]
  },
  {
   "cell_type": "code",
   "execution_count": 1,
   "metadata": {},
   "outputs": [],
   "source": [
    "import redis"
   ]
  },
  {
   "cell_type": "code",
   "execution_count": 2,
   "metadata": {},
   "outputs": [
    {
     "data": {
      "text/plain": [
       "True"
      ]
     },
     "execution_count": 2,
     "metadata": {},
     "output_type": "execute_result"
    }
   ],
   "source": [
    "rd = redis.Redis(host='34.87.2.170')\n",
    "rd.auth(username='hw', password='hw')"
   ]
  },
  {
   "cell_type": "markdown",
   "metadata": {},
   "source": [
    "## What is the username of user id \"600\"?"
   ]
  },
  {
   "cell_type": "code",
   "execution_count": 3,
   "metadata": {},
   "outputs": [
    {
     "data": {
      "text/plain": [
       "'cautiousCrackers9'"
      ]
     },
     "execution_count": 3,
     "metadata": {},
     "output_type": "execute_result"
    }
   ],
   "source": [
    "id = 600\n",
    "name = rd.get('user:{}:name'.format(id)).decode('utf-8')\n",
    "name"
   ]
  },
  {
   "cell_type": "markdown",
   "metadata": {},
   "source": [
    "## What is the id of username \"excitedPie4\" ?"
   ]
  },
  {
   "cell_type": "code",
   "execution_count": 9,
   "metadata": {},
   "outputs": [
    {
     "data": {
      "text/plain": [
       "'567'"
      ]
     },
     "execution_count": 9,
     "metadata": {},
     "output_type": "execute_result"
    }
   ],
   "source": [
    "rd.get('username:{}'.format(\"excitedPie4\")).decode('utf-8')"
   ]
  },
  {
   "cell_type": "markdown",
   "metadata": {},
   "source": [
    "## How many users that \"excitedPie4\" follows ?"
   ]
  },
  {
   "cell_type": "code",
   "execution_count": 33,
   "metadata": {},
   "outputs": [
    {
     "name": "stdout",
     "output_type": "stream",
     "text": [
      "{b'609', b'566', b'670', b'537', b'529', b'603', b'622', b'556', b'587'}\n",
      "9\n"
     ]
    }
   ],
   "source": [
    "print(rd.smembers('user:{}:follows'.format(567)))\n",
    "print(len(rd.smembers('user:{}:follows'.format(567))))"
   ]
  },
  {
   "cell_type": "markdown",
   "metadata": {},
   "source": [
    "## How many users are there in the database?"
   ]
  },
  {
   "cell_type": "code",
   "execution_count": 81,
   "metadata": {},
   "outputs": [
    {
     "name": "stdout",
     "output_type": "stream",
     "text": [
      "username:jubilantEland6 540 19\n",
      "username:fondOtter4 611 8\n",
      "username:pleasedMackerel1 522 0\n",
      "username:zestyPear9 536 5\n",
      "username:mereMacaw4 552 8\n",
      "username:bubblyFalcon3 509 0\n",
      "username:emptyEggs3 631 4\n",
      "username:excitedPie4 567 9\n",
      "username:blissfulRhino4 521 1\n",
      "username:culturedBittern0 577 9\n",
      "username:joyfulMoth5 582 14\n",
      "username:thriftyBasmati8 619 5\n",
      "username:yearningPaella1 504 4\n",
      "username:sadPlover0 571 3\n",
      "username:cautiousCrackers9 600 0\n",
      "username:mildGelding4 596 10\n",
      "username:cruelSausage6 513 14\n",
      "username:puzzledLollies9 543 5\n",
      "username:obsessedLemur9 544 3\n",
      "username:euphoricCod0 645 6\n",
      "username:trustingOwl0 655 6\n",
      "username:pridefulCardinal0 541 4\n",
      "username:adoringMallard7 654 3\n",
      "username:mellowLizard3 580 27\n",
      "username:troubledFerret5 563 7\n",
      "username:selfishKitten4 616 2\n",
      "username:eagerCur4 555 17\n",
      "username:soreClam0 530 7\n",
      "username:needyPiglet0 626 19\n",
      "username:pacifiedCod4 639 3\n",
      "username:cockyCamel8 520 4\n",
      "username:exactingMussel4 527 0\n",
      "username:forsakenLapwing8 547 7\n",
      "username:blissfulDoves7 618 27\n",
      "username:cautiousLion2 662 4\n",
      "username:peacefulOtter5 560 7\n",
      "username:zestyApples7 597 12\n",
      "username:sugaryOryx6 538 15\n",
      "username:sadLocust2 548 23\n",
      "username:humorousChough1 524 10\n",
      "username:cynicalWidgeon3 593 6\n",
      "username:obsessedMagpie7 529 11\n",
      "username:excludedCardinal6 534 4\n",
      "username:betrayedOwl2 607 1\n",
      "username:obsessedSardines4 692 11\n",
      "username:tautOrange5 574 2\n",
      "username:holisticCoconut6 641 23\n",
      "username:pacifiedRat4 640 2\n",
      "username:peacefulSwift1 667 9\n",
      "username:giddyCur6 629 6\n",
      "username:anxiousDoves1 657 30\n",
      "username:drearyStork1 588 1\n",
      "username:wakefulKitten1 572 7\n",
      "username:cockyGatorade9 581 2\n",
      "username:chicRice0 601 11\n",
      "username:empathicCurlew0 666 4\n",
      "username:enragedTacos0 647 1\n",
      "username:scornfulSeafowl4 598 10\n",
      "username:ashamedCrackers9 594 15\n",
      "username:anxiousCrackers3 665 25\n",
      "username:aboardCardinal3 642 4\n",
      "username:drearyGarlic7 591 20\n",
      "username:pitifulStork2 698 0\n",
      "username:debonairShads3 515 8\n",
      "username:murkySnail9 564 2\n",
      "username:grizzledPorpoise2 676 8\n",
      "username:ardentWeaver9 649 3\n",
      "username:pacifiedCamel4 554 6\n",
      "username:alertMeerkat3 556 0\n",
      "username:boastfulCoconut1 511 1\n",
      "username:boastfulQuiche1 526 8\n",
      "username:solidMuesli3 628 1\n",
      "username:panickyBaboon8 693 4\n",
      "username:wornoutPlover0 697 18\n",
      "username:enragedSausage0 539 4\n",
      "username:dearCardinal6 559 1\n",
      "username:wrathfulClam4 627 4\n",
      "username:zestyLard9 542 7\n",
      "username:obsessedBurritos4 680 5\n",
      "username:boastfulChowder1 691 37\n",
      "username:fondAbalone0 501 15\n",
      "username:culturedSalt6 620 13\n",
      "username:solidPaella1 656 15\n",
      "username:thriftyChamois8 689 0\n",
      "username:sincereCoati2 690 2\n",
      "username:chicRhino1 681 20\n",
      "username:abjectLapwing9 514 1\n",
      "username:cautiousPepper5 590 10\n",
      "username:finickyFalcon7 624 3\n",
      "username:pleasedOil8 535 0\n",
      "username:thriftyDotterel9 506 14\n",
      "username:resolvedFish7 688 20\n",
      "username:thriftyCod4 638 3\n",
      "username:wakefulSheep5 630 1\n",
      "username:insecureMare9 699 20\n",
      "username:debonairViper2 615 12\n",
      "username:blissfulSardines1 503 7\n",
      "username:crushedCaribou5 648 32\n",
      "username:culturedAbalone6 664 3\n",
      "username:dearPorpoise2 606 9\n",
      "username:pitifulOatmeal9 576 28\n",
      "username:curiousBagels7 605 1\n",
      "username:stressedThrush1 621 3\n",
      "username:dejectedCardinal2 579 7\n",
      "username:empathicMallard0 519 6\n",
      "username:cheerfulCordial9 671 16\n",
      "username:grizzledVenison5 687 7\n",
      "username:ashamedChough8 677 0\n",
      "username:humorousDinosaur4 523 11\n",
      "username:holisticMuesli0 684 3\n",
      "username:dopeyDoughnut4 658 8\n",
      "username:lovesickUnicorn1 623 5\n",
      "username:worriedGatorade2 587 10\n",
      "username:wornoutLion3 558 7\n",
      "username:mercifulApricots7 553 0\n",
      "username:pacifiedSheep9 637 8\n",
      "username:soreSyrup1 672 0\n",
      "username:eagerGnu8 537 40\n",
      "username:boastfulRat2 643 10\n",
      "username:stressedCrackers8 675 23\n",
      "username:cheerfulSnail4 578 2\n",
      "username:innocentHare8 570 2\n",
      "username:spiritedPretzels3 510 25\n",
      "username:trustingLlama9 612 4\n",
      "username:mildChough6 516 5\n",
      "username:pluckyLocust7 602 3\n",
      "username:obsessedIguana9 685 6\n",
      "username:sugarySalt6 653 0\n",
      "username:madRaisins0 545 11\n",
      "username:grizzledOrange1 566 42\n",
      "username:mildCod1 674 12\n",
      "username:brainyGarlic6 633 18\n",
      "username:panickyEland4 632 8\n",
      "username:excludedOcelot4 517 7\n",
      "username:mildCod6 595 5\n",
      "username:pridefulDoves3 614 19\n",
      "username:eagerGelding5 604 16\n",
      "username:truthfulBaboon0 652 10\n",
      "username:unhappyRuffs6 696 20\n",
      "username:selfishFalcon5 565 11\n",
      "username:shamefulOil5 592 2\n",
      "username:curiousQuiche2 651 2\n",
      "username:cruelChamois6 694 14\n",
      "username:relievedTortoise4 673 0\n",
      "username:guiltyGelding4 679 19\n",
      "username:murkyPoultry0 550 0\n",
      "username:giddyCheetah7 505 5\n",
      "username:gleefulPear3 573 4\n",
      "username:jumpyAbalone9 695 16\n",
      "username:madLollies6 609 0\n",
      "username:tautOryx7 583 0\n",
      "username:grudgingMussel2 502 38\n",
      "username:dreadfulTacos8 659 5\n",
      "username:anxiousSalami8 617 1\n",
      "username:scornfulMuesli1 683 0\n",
      "username:cockyVenison6 613 11\n",
      "username:superiorToucan3 686 7\n",
      "username:joyfulDunbird0 589 5\n",
      "username:ferventBass6 634 4\n",
      "username:worldlyWildfowl8 569 11\n",
      "username:chicSardines6 599 11\n",
      "username:lyingBaboon1 608 6\n",
      "username:dearGranola5 507 24\n",
      "username:debonairPudding9 635 0\n",
      "username:holisticDinosaur1 551 27\n",
      "username:shamefulJerky8 660 8\n",
      "username:shyOwl5 585 21\n",
      "username:eagerTortoise1 646 6\n",
      "username:crummyBittern0 525 5\n",
      "username:annoyedLemur0 610 16\n",
      "username:solemnClam4 549 1\n",
      "username:euphoricRuffs1 636 5\n",
      "username:holisticLion7 575 6\n",
      "username:sincereFalcon0 508 20\n",
      "username:somberChamois8 518 5\n",
      "username:pacifiedCaviar9 512 12\n",
      "username:outlyingTeal8 528 6\n",
      "username:betrayedCamel9 531 1\n",
      "username:zestyWildfowl6 562 2\n",
      "username:thriftyOtter1 586 11\n",
      "username:exactingPonie6 644 21\n",
      "username:similarSeagull7 678 3\n",
      "username:forsakenOcelot0 663 3\n",
      "username:anxiousGarlic4 700 1\n",
      "username:cheerfulCod0 557 3\n",
      "username:boastfulApricots7 669 9\n",
      "username:curiousDinosaur2 568 2\n",
      "username:grizzledOryx9 533 16\n",
      "username:needyChough7 622 0\n",
      "username:curiousOwl7 670 0\n",
      "username:boredSeafowl3 532 0\n",
      "username:decimalGatorade1 661 0\n",
      "username:empathicApricots6 584 8\n",
      "username:pitifulApples1 603 1\n",
      "username:euphoricHoopoe0 650 0\n",
      "username:grumpyLocust4 682 3\n",
      "username:obsessedTuna3 546 8\n",
      "username:innocentHyena5 668 10\n",
      "username:needyToucan3 625 1\n",
      "username:lovesickOrange5 561 23\n"
     ]
    }
   ],
   "source": [
    "avgfollow=[]\n",
    "data={}\n",
    "cursor = 0\n",
    "cursor, keys = rd.scan(cursor=cursor, match='username:*')\n",
    "while cursor > 0:\n",
    "    for x in keys:\n",
    "        \n",
    "        key = x.decode('utf-8')\n",
    "        \n",
    "        value = rd.get(key).decode('utf-8')\n",
    "        follow=len(rd.smembers('user:{}:follows'.format(value)))\n",
    "        avgfollow.append(follow)\n",
    "        print(key, value,follow)\n",
    "        data[key]=follow\n",
    "    cursor, keys = rd.scan(cursor=cursor, match='username:*')"
   ]
  },
  {
   "cell_type": "code",
   "execution_count": 82,
   "metadata": {},
   "outputs": [
    {
     "data": {
      "text/plain": [
       "200"
      ]
     },
     "execution_count": 82,
     "metadata": {},
     "output_type": "execute_result"
    }
   ],
   "source": [
    "len(data)"
   ]
  },
  {
   "cell_type": "code",
   "execution_count": 83,
   "metadata": {},
   "outputs": [
    {
     "data": {
      "text/plain": [
       "{'username:jubilantEland6': 19,\n",
       " 'username:fondOtter4': 8,\n",
       " 'username:pleasedMackerel1': 0,\n",
       " 'username:zestyPear9': 5,\n",
       " 'username:mereMacaw4': 8,\n",
       " 'username:bubblyFalcon3': 0,\n",
       " 'username:emptyEggs3': 4,\n",
       " 'username:excitedPie4': 9,\n",
       " 'username:blissfulRhino4': 1,\n",
       " 'username:culturedBittern0': 9,\n",
       " 'username:joyfulMoth5': 14,\n",
       " 'username:thriftyBasmati8': 5,\n",
       " 'username:yearningPaella1': 4,\n",
       " 'username:sadPlover0': 3,\n",
       " 'username:cautiousCrackers9': 0,\n",
       " 'username:mildGelding4': 10,\n",
       " 'username:cruelSausage6': 14,\n",
       " 'username:puzzledLollies9': 5,\n",
       " 'username:obsessedLemur9': 3,\n",
       " 'username:euphoricCod0': 6,\n",
       " 'username:trustingOwl0': 6,\n",
       " 'username:pridefulCardinal0': 4,\n",
       " 'username:adoringMallard7': 3,\n",
       " 'username:mellowLizard3': 27,\n",
       " 'username:troubledFerret5': 7,\n",
       " 'username:selfishKitten4': 2,\n",
       " 'username:eagerCur4': 17,\n",
       " 'username:soreClam0': 7,\n",
       " 'username:needyPiglet0': 19,\n",
       " 'username:pacifiedCod4': 3,\n",
       " 'username:cockyCamel8': 4,\n",
       " 'username:exactingMussel4': 0,\n",
       " 'username:forsakenLapwing8': 7,\n",
       " 'username:blissfulDoves7': 27,\n",
       " 'username:cautiousLion2': 4,\n",
       " 'username:peacefulOtter5': 7,\n",
       " 'username:zestyApples7': 12,\n",
       " 'username:sugaryOryx6': 15,\n",
       " 'username:sadLocust2': 23,\n",
       " 'username:humorousChough1': 10,\n",
       " 'username:cynicalWidgeon3': 6,\n",
       " 'username:obsessedMagpie7': 11,\n",
       " 'username:excludedCardinal6': 4,\n",
       " 'username:betrayedOwl2': 1,\n",
       " 'username:obsessedSardines4': 11,\n",
       " 'username:tautOrange5': 2,\n",
       " 'username:holisticCoconut6': 23,\n",
       " 'username:pacifiedRat4': 2,\n",
       " 'username:peacefulSwift1': 9,\n",
       " 'username:giddyCur6': 6,\n",
       " 'username:anxiousDoves1': 30,\n",
       " 'username:drearyStork1': 1,\n",
       " 'username:wakefulKitten1': 7,\n",
       " 'username:cockyGatorade9': 2,\n",
       " 'username:chicRice0': 11,\n",
       " 'username:empathicCurlew0': 4,\n",
       " 'username:enragedTacos0': 1,\n",
       " 'username:scornfulSeafowl4': 10,\n",
       " 'username:ashamedCrackers9': 15,\n",
       " 'username:anxiousCrackers3': 25,\n",
       " 'username:aboardCardinal3': 4,\n",
       " 'username:drearyGarlic7': 20,\n",
       " 'username:pitifulStork2': 0,\n",
       " 'username:debonairShads3': 8,\n",
       " 'username:murkySnail9': 2,\n",
       " 'username:grizzledPorpoise2': 8,\n",
       " 'username:ardentWeaver9': 3,\n",
       " 'username:pacifiedCamel4': 6,\n",
       " 'username:alertMeerkat3': 0,\n",
       " 'username:boastfulCoconut1': 1,\n",
       " 'username:boastfulQuiche1': 8,\n",
       " 'username:solidMuesli3': 1,\n",
       " 'username:panickyBaboon8': 4,\n",
       " 'username:wornoutPlover0': 18,\n",
       " 'username:enragedSausage0': 4,\n",
       " 'username:dearCardinal6': 1,\n",
       " 'username:wrathfulClam4': 4,\n",
       " 'username:zestyLard9': 7,\n",
       " 'username:obsessedBurritos4': 5,\n",
       " 'username:boastfulChowder1': 37,\n",
       " 'username:fondAbalone0': 15,\n",
       " 'username:culturedSalt6': 13,\n",
       " 'username:solidPaella1': 15,\n",
       " 'username:thriftyChamois8': 0,\n",
       " 'username:sincereCoati2': 2,\n",
       " 'username:chicRhino1': 20,\n",
       " 'username:abjectLapwing9': 1,\n",
       " 'username:cautiousPepper5': 10,\n",
       " 'username:finickyFalcon7': 3,\n",
       " 'username:pleasedOil8': 0,\n",
       " 'username:thriftyDotterel9': 14,\n",
       " 'username:resolvedFish7': 20,\n",
       " 'username:thriftyCod4': 3,\n",
       " 'username:wakefulSheep5': 1,\n",
       " 'username:insecureMare9': 20,\n",
       " 'username:debonairViper2': 12,\n",
       " 'username:blissfulSardines1': 7,\n",
       " 'username:crushedCaribou5': 32,\n",
       " 'username:culturedAbalone6': 3,\n",
       " 'username:dearPorpoise2': 9,\n",
       " 'username:pitifulOatmeal9': 28,\n",
       " 'username:curiousBagels7': 1,\n",
       " 'username:stressedThrush1': 3,\n",
       " 'username:dejectedCardinal2': 7,\n",
       " 'username:empathicMallard0': 6,\n",
       " 'username:cheerfulCordial9': 16,\n",
       " 'username:grizzledVenison5': 7,\n",
       " 'username:ashamedChough8': 0,\n",
       " 'username:humorousDinosaur4': 11,\n",
       " 'username:holisticMuesli0': 3,\n",
       " 'username:dopeyDoughnut4': 8,\n",
       " 'username:lovesickUnicorn1': 5,\n",
       " 'username:worriedGatorade2': 10,\n",
       " 'username:wornoutLion3': 7,\n",
       " 'username:mercifulApricots7': 0,\n",
       " 'username:pacifiedSheep9': 8,\n",
       " 'username:soreSyrup1': 0,\n",
       " 'username:eagerGnu8': 40,\n",
       " 'username:boastfulRat2': 10,\n",
       " 'username:stressedCrackers8': 23,\n",
       " 'username:cheerfulSnail4': 2,\n",
       " 'username:innocentHare8': 2,\n",
       " 'username:spiritedPretzels3': 25,\n",
       " 'username:trustingLlama9': 4,\n",
       " 'username:mildChough6': 5,\n",
       " 'username:pluckyLocust7': 3,\n",
       " 'username:obsessedIguana9': 6,\n",
       " 'username:sugarySalt6': 0,\n",
       " 'username:madRaisins0': 11,\n",
       " 'username:grizzledOrange1': 42,\n",
       " 'username:mildCod1': 12,\n",
       " 'username:brainyGarlic6': 18,\n",
       " 'username:panickyEland4': 8,\n",
       " 'username:excludedOcelot4': 7,\n",
       " 'username:mildCod6': 5,\n",
       " 'username:pridefulDoves3': 19,\n",
       " 'username:eagerGelding5': 16,\n",
       " 'username:truthfulBaboon0': 10,\n",
       " 'username:unhappyRuffs6': 20,\n",
       " 'username:selfishFalcon5': 11,\n",
       " 'username:shamefulOil5': 2,\n",
       " 'username:curiousQuiche2': 2,\n",
       " 'username:cruelChamois6': 14,\n",
       " 'username:relievedTortoise4': 0,\n",
       " 'username:guiltyGelding4': 19,\n",
       " 'username:murkyPoultry0': 0,\n",
       " 'username:giddyCheetah7': 5,\n",
       " 'username:gleefulPear3': 4,\n",
       " 'username:jumpyAbalone9': 16,\n",
       " 'username:madLollies6': 0,\n",
       " 'username:tautOryx7': 0,\n",
       " 'username:grudgingMussel2': 38,\n",
       " 'username:dreadfulTacos8': 5,\n",
       " 'username:anxiousSalami8': 1,\n",
       " 'username:scornfulMuesli1': 0,\n",
       " 'username:cockyVenison6': 11,\n",
       " 'username:superiorToucan3': 7,\n",
       " 'username:joyfulDunbird0': 5,\n",
       " 'username:ferventBass6': 4,\n",
       " 'username:worldlyWildfowl8': 11,\n",
       " 'username:chicSardines6': 11,\n",
       " 'username:lyingBaboon1': 6,\n",
       " 'username:dearGranola5': 24,\n",
       " 'username:debonairPudding9': 0,\n",
       " 'username:holisticDinosaur1': 27,\n",
       " 'username:shamefulJerky8': 8,\n",
       " 'username:shyOwl5': 21,\n",
       " 'username:eagerTortoise1': 6,\n",
       " 'username:crummyBittern0': 5,\n",
       " 'username:annoyedLemur0': 16,\n",
       " 'username:solemnClam4': 1,\n",
       " 'username:euphoricRuffs1': 5,\n",
       " 'username:holisticLion7': 6,\n",
       " 'username:sincereFalcon0': 20,\n",
       " 'username:somberChamois8': 5,\n",
       " 'username:pacifiedCaviar9': 12,\n",
       " 'username:outlyingTeal8': 6,\n",
       " 'username:betrayedCamel9': 1,\n",
       " 'username:zestyWildfowl6': 2,\n",
       " 'username:thriftyOtter1': 11,\n",
       " 'username:exactingPonie6': 21,\n",
       " 'username:similarSeagull7': 3,\n",
       " 'username:forsakenOcelot0': 3,\n",
       " 'username:anxiousGarlic4': 1,\n",
       " 'username:cheerfulCod0': 3,\n",
       " 'username:boastfulApricots7': 9,\n",
       " 'username:curiousDinosaur2': 2,\n",
       " 'username:grizzledOryx9': 16,\n",
       " 'username:needyChough7': 0,\n",
       " 'username:curiousOwl7': 0,\n",
       " 'username:boredSeafowl3': 0,\n",
       " 'username:decimalGatorade1': 0,\n",
       " 'username:empathicApricots6': 8,\n",
       " 'username:pitifulApples1': 1,\n",
       " 'username:euphoricHoopoe0': 0,\n",
       " 'username:grumpyLocust4': 3,\n",
       " 'username:obsessedTuna3': 8,\n",
       " 'username:innocentHyena5': 10,\n",
       " 'username:needyToucan3': 1,\n",
       " 'username:lovesickOrange5': 23}"
      ]
     },
     "execution_count": 83,
     "metadata": {},
     "output_type": "execute_result"
    }
   ],
   "source": [
    "data"
   ]
  },
  {
   "cell_type": "markdown",
   "metadata": {},
   "source": [
    "## What is the average number of follows per user?"
   ]
  },
  {
   "cell_type": "code",
   "execution_count": 84,
   "metadata": {
    "scrolled": true
   },
   "outputs": [
    {
     "name": "stdout",
     "output_type": "stream",
     "text": [
      "8.605\n"
     ]
    }
   ],
   "source": [
    "\n",
    "print(sum(avgfollow)/len(avgfollow))"
   ]
  },
  {
   "cell_type": "markdown",
   "metadata": {},
   "source": [
    "## How many users follows between 5-10 users?"
   ]
  },
  {
   "cell_type": "code",
   "execution_count": 85,
   "metadata": {},
   "outputs": [
    {
     "data": {
      "text/plain": [
       "60"
      ]
     },
     "execution_count": 85,
     "metadata": {},
     "output_type": "execute_result"
    }
   ],
   "source": [
    "\n",
    "i, j = 5, 10\n",
    "  \n",
    "res = dict()\n",
    "for key, val in data.items():\n",
    "    if int(val) >= i and int(val) <= j:\n",
    "        res[key] = val\n",
    "len(res)"
   ]
  },
  {
   "cell_type": "markdown",
   "metadata": {},
   "source": [
    "## Which account has the most followers?"
   ]
  },
  {
   "cell_type": "code",
   "execution_count": 97,
   "metadata": {},
   "outputs": [
    {
     "name": "stdout",
     "output_type": "stream",
     "text": [
      "username:zestyPear9 536 11\n",
      "username:mereMacaw4 552 13\n",
      "username:bubblyFalcon3 509 9\n",
      "username:emptyEggs3 631 9\n",
      "username:excitedPie4 567 8\n",
      "username:blissfulRhino4 521 10\n",
      "username:culturedBittern0 577 6\n",
      "username:joyfulMoth5 582 11\n",
      "username:thriftyBasmati8 619 9\n",
      "username:yearningPaella1 504 9\n",
      "username:sadPlover0 571 8\n",
      "username:cautiousCrackers9 600 7\n",
      "username:mildGelding4 596 11\n",
      "username:cruelSausage6 513 12\n",
      "username:puzzledLollies9 543 8\n",
      "username:obsessedLemur9 544 9\n",
      "username:euphoricCod0 645 9\n",
      "username:trustingOwl0 655 8\n",
      "username:pridefulCardinal0 541 10\n",
      "username:adoringMallard7 654 7\n",
      "username:mellowLizard3 580 6\n",
      "username:troubledFerret5 563 9\n",
      "username:selfishKitten4 616 6\n",
      "username:eagerCur4 555 12\n",
      "username:soreClam0 530 10\n",
      "username:needyPiglet0 626 4\n",
      "username:pacifiedCod4 639 9\n",
      "username:cockyCamel8 520 6\n",
      "username:exactingMussel4 527 8\n",
      "username:forsakenLapwing8 547 4\n",
      "username:blissfulDoves7 618 11\n",
      "username:cautiousLion2 662 14\n",
      "username:peacefulOtter5 560 11\n",
      "username:zestyApples7 597 10\n",
      "username:sugaryOryx6 538 7\n",
      "username:sadLocust2 548 9\n",
      "username:humorousChough1 524 14\n",
      "username:cynicalWidgeon3 593 8\n",
      "username:obsessedMagpie7 529 8\n",
      "username:excludedCardinal6 534 7\n",
      "username:betrayedOwl2 607 10\n",
      "username:obsessedSardines4 692 10\n",
      "username:tautOrange5 574 10\n",
      "username:holisticCoconut6 641 13\n",
      "username:pacifiedRat4 640 12\n",
      "username:peacefulSwift1 667 3\n",
      "username:giddyCur6 629 12\n",
      "username:anxiousDoves1 657 8\n",
      "username:drearyStork1 588 10\n",
      "username:wakefulKitten1 572 8\n",
      "username:cockyGatorade9 581 7\n",
      "username:chicRice0 601 9\n",
      "username:empathicCurlew0 666 8\n",
      "username:enragedTacos0 647 8\n",
      "username:scornfulSeafowl4 598 6\n",
      "username:ashamedCrackers9 594 9\n",
      "username:anxiousCrackers3 665 9\n",
      "username:aboardCardinal3 642 9\n",
      "username:drearyGarlic7 591 10\n",
      "username:pitifulStork2 698 9\n",
      "username:debonairShads3 515 7\n",
      "username:murkySnail9 564 5\n",
      "username:grizzledPorpoise2 676 7\n",
      "username:ardentWeaver9 649 5\n",
      "username:pacifiedCamel4 554 8\n",
      "username:alertMeerkat3 556 11\n",
      "username:boastfulCoconut1 511 5\n",
      "username:boastfulQuiche1 526 8\n",
      "username:solidMuesli3 628 6\n",
      "username:panickyBaboon8 693 8\n",
      "username:wornoutPlover0 697 7\n",
      "username:enragedSausage0 539 1\n",
      "username:dearCardinal6 559 6\n",
      "username:wrathfulClam4 627 7\n",
      "username:zestyLard9 542 14\n",
      "username:obsessedBurritos4 680 8\n",
      "username:boastfulChowder1 691 10\n",
      "username:fondAbalone0 501 6\n",
      "username:culturedSalt6 620 11\n",
      "username:solidPaella1 656 5\n",
      "username:thriftyChamois8 689 5\n",
      "username:sincereCoati2 690 7\n",
      "username:chicRhino1 681 3\n",
      "username:abjectLapwing9 514 9\n",
      "username:cautiousPepper5 590 10\n",
      "username:finickyFalcon7 624 7\n",
      "username:pleasedOil8 535 10\n",
      "username:thriftyDotterel9 506 8\n",
      "username:resolvedFish7 688 11\n",
      "username:thriftyCod4 638 9\n",
      "username:wakefulSheep5 630 17\n",
      "username:insecureMare9 699 7\n",
      "username:debonairViper2 615 12\n",
      "username:blissfulSardines1 503 12\n",
      "username:crushedCaribou5 648 7\n",
      "username:culturedAbalone6 664 7\n",
      "username:dearPorpoise2 606 13\n",
      "username:pitifulOatmeal9 576 11\n",
      "username:curiousBagels7 605 11\n",
      "username:stressedThrush1 621 5\n",
      "username:dejectedCardinal2 579 5\n",
      "username:empathicMallard0 519 8\n",
      "username:cheerfulCordial9 671 14\n",
      "username:grizzledVenison5 687 13\n",
      "username:ashamedChough8 677 11\n",
      "username:humorousDinosaur4 523 11\n",
      "username:holisticMuesli0 684 10\n",
      "username:dopeyDoughnut4 658 7\n",
      "username:lovesickUnicorn1 623 10\n",
      "username:worriedGatorade2 587 13\n",
      "username:wornoutLion3 558 7\n",
      "username:mercifulApricots7 553 11\n",
      "username:pacifiedSheep9 637 10\n",
      "username:soreSyrup1 672 5\n",
      "username:eagerGnu8 537 7\n",
      "username:boastfulRat2 643 10\n",
      "username:stressedCrackers8 675 5\n",
      "username:cheerfulSnail4 578 12\n",
      "username:innocentHare8 570 11\n",
      "username:spiritedPretzels3 510 10\n",
      "username:trustingLlama9 612 6\n",
      "username:mildChough6 516 10\n",
      "username:pluckyLocust7 602 9\n",
      "username:obsessedIguana9 685 12\n",
      "username:sugarySalt6 653 4\n",
      "username:madRaisins0 545 5\n",
      "username:grizzledOrange1 566 10\n",
      "username:mildCod1 674 10\n",
      "username:brainyGarlic6 633 8\n",
      "username:panickyEland4 632 3\n",
      "username:excludedOcelot4 517 6\n",
      "username:mildCod6 595 9\n",
      "username:pridefulDoves3 614 7\n",
      "username:eagerGelding5 604 9\n",
      "username:truthfulBaboon0 652 8\n",
      "username:unhappyRuffs6 696 8\n",
      "username:selfishFalcon5 565 7\n",
      "username:shamefulOil5 592 3\n",
      "username:curiousQuiche2 651 6\n",
      "username:cruelChamois6 694 3\n",
      "username:relievedTortoise4 673 7\n",
      "username:guiltyGelding4 679 8\n",
      "username:murkyPoultry0 550 7\n",
      "username:giddyCheetah7 505 12\n",
      "username:gleefulPear3 573 9\n",
      "username:jumpyAbalone9 695 11\n",
      "username:madLollies6 609 7\n",
      "username:tautOryx7 583 4\n",
      "username:grudgingMussel2 502 5\n",
      "username:dreadfulTacos8 659 6\n",
      "username:anxiousSalami8 617 16\n",
      "username:scornfulMuesli1 683 9\n",
      "username:cockyVenison6 613 8\n",
      "username:superiorToucan3 686 11\n",
      "username:joyfulDunbird0 589 7\n",
      "username:ferventBass6 634 8\n",
      "username:worldlyWildfowl8 569 10\n",
      "username:chicSardines6 599 10\n",
      "username:lyingBaboon1 608 10\n",
      "username:dearGranola5 507 10\n",
      "username:debonairPudding9 635 6\n",
      "username:holisticDinosaur1 551 14\n",
      "username:shamefulJerky8 660 4\n",
      "username:shyOwl5 585 5\n",
      "username:eagerTortoise1 646 5\n",
      "username:crummyBittern0 525 9\n",
      "username:annoyedLemur0 610 10\n",
      "username:solemnClam4 549 6\n",
      "username:euphoricRuffs1 636 3\n",
      "username:holisticLion7 575 6\n",
      "username:sincereFalcon0 508 5\n",
      "username:somberChamois8 518 12\n",
      "username:pacifiedCaviar9 512 10\n",
      "username:outlyingTeal8 528 10\n",
      "username:betrayedCamel9 531 12\n",
      "username:zestyWildfowl6 562 9\n",
      "username:thriftyOtter1 586 14\n",
      "username:exactingPonie6 644 9\n",
      "username:similarSeagull7 678 13\n",
      "username:forsakenOcelot0 663 8\n",
      "username:anxiousGarlic4 700 6\n",
      "username:cheerfulCod0 557 4\n",
      "username:boastfulApricots7 669 7\n",
      "username:curiousDinosaur2 568 8\n",
      "username:grizzledOryx9 533 6\n",
      "username:needyChough7 622 11\n",
      "username:curiousOwl7 670 8\n",
      "username:boredSeafowl3 532 9\n",
      "username:decimalGatorade1 661 16\n",
      "username:empathicApricots6 584 10\n",
      "username:pitifulApples1 603 9\n",
      "username:euphoricHoopoe0 650 12\n",
      "username:grumpyLocust4 682 7\n",
      "username:obsessedTuna3 546 9\n",
      "username:innocentHyena5 668 16\n",
      "username:needyToucan3 625 12\n",
      "username:lovesickOrange5 561 11\n"
     ]
    }
   ],
   "source": [
    "data_1={}\n",
    "cursor, keys = rd.scan(cursor=cursor, match='username:*')\n",
    "while cursor > 0:\n",
    "    for x in keys:\n",
    "        \n",
    "        key = x.decode('utf-8')\n",
    "        \n",
    "        value = rd.get(key).decode('utf-8')\n",
    "        follower=len(rd.smembers('user:{}:followed_by'.format(value)))\n",
    "        print(key, value,follower)\n",
    "        data_1[key]=follower\n",
    "    cursor, keys = rd.scan(cursor=cursor, match='username:*')"
   ]
  },
  {
   "cell_type": "code",
   "execution_count": 99,
   "metadata": {},
   "outputs": [
    {
     "name": "stdout",
     "output_type": "stream",
     "text": [
      "username:wakefulSheep5\n"
     ]
    }
   ],
   "source": [
    "max_value = max(data_1, key=data_1.get)\n",
    "print(max_value)"
   ]
  },
  {
   "cell_type": "code",
   "execution_count": 100,
   "metadata": {},
   "outputs": [
    {
     "data": {
      "text/plain": [
       "'630'"
      ]
     },
     "execution_count": 100,
     "metadata": {},
     "output_type": "execute_result"
    }
   ],
   "source": [
    "rd.get('username:{}'.format(\"wakefulSheep5\")).decode('utf-8')"
   ]
  },
  {
   "cell_type": "code",
   "execution_count": null,
   "metadata": {},
   "outputs": [],
   "source": []
  }
 ],
 "metadata": {
  "kernelspec": {
   "display_name": "Python 3",
   "language": "python",
   "name": "python3"
  },
  "language_info": {
   "codemirror_mode": {
    "name": "ipython",
    "version": 3
   },
   "file_extension": ".py",
   "mimetype": "text/x-python",
   "name": "python",
   "nbconvert_exporter": "python",
   "pygments_lexer": "ipython3",
   "version": "3.7.3"
  },
  "toc": {
   "base_numbering": 1,
   "nav_menu": {},
   "number_sections": true,
   "sideBar": true,
   "skip_h1_title": false,
   "title_cell": "Table of Contents",
   "title_sidebar": "Contents",
   "toc_cell": false,
   "toc_position": {},
   "toc_section_display": true,
   "toc_window_display": false
  },
  "varInspector": {
   "cols": {
    "lenName": 16,
    "lenType": 16,
    "lenVar": 40
   },
   "kernels_config": {
    "python": {
     "delete_cmd_postfix": "",
     "delete_cmd_prefix": "del ",
     "library": "var_list.py",
     "varRefreshCmd": "print(var_dic_list())"
    },
    "r": {
     "delete_cmd_postfix": ") ",
     "delete_cmd_prefix": "rm(",
     "library": "var_list.r",
     "varRefreshCmd": "cat(var_dic_list()) "
    }
   },
   "types_to_exclude": [
    "module",
    "function",
    "builtin_function_or_method",
    "instance",
    "_Feature"
   ],
   "window_display": false
  }
 },
 "nbformat": 4,
 "nbformat_minor": 4
}
